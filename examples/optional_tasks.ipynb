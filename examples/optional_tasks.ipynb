{
 "cells": [
  {
   "cell_type": "markdown",
   "id": "69d0cadc-8463-4b70-9b41-530367e38181",
   "metadata": {},
   "source": [
    "# Optional tasks\n",
    "[![Open In Colab](https://colab.research.google.com/assets/colab-badge.svg)](https://githubtocolab.com/PyJobShop/PyJobShop/blob/main/examples/optional_tasks.ipynb)\n",
    "\n",
    "> If you're using this notebook in Google Colab, be sure to install PyJobShop first by executing ```pip install pyjobshop``` in a cell."
   ]
  },
  {
   "cell_type": "markdown",
   "id": "3433551d-50eb-41f5-960a-de2e120aea06",
   "metadata": {},
   "source": [
    "This notebook demonstrates how to solve scheduling problems with _optional_ tasks, which means that not all tasks are required to be scheduled.\n",
    "\n",
    "Optional tasks appear in practice when products can be built following different processing plans. Each plan may require a different number of tasks, with each task having specific dependencies or constraints. For example, a product could be built using steps `A` followed by `B`, which require two different resources, or simply through step `C`, requiring one resource but with higher processing time.\n",
    "\n",
    "Scheduling with optional tasks is known in the scheduling literature under different names:\n",
    "- Alternative process plans ([Kis (2003)](https://www.sciencedirect.com/science/article/pii/S0377221702008287) and [Boonstoppel (2025)](https://studenttheses.uu.nl/handle/20.500.12932/50121))\n",
    "- Distributed scheduling ([Naderi and Ruiz (2010)](https://www.sciencedirect.com/science/article/pii/S0305054809001786))\n",
    "- Scheduling with rejections ([Shabtay et al. (2013)](https://link.springer.com/article/10.1007/s10951-012-0303-z))\n",
    "- Flexible project structures ([Kellenbrink and Helber (2015)](http://refhub.elsevier.com/S0377-2217(24)00826-9/sb6))\n",
    "\n",
    "We will show how to define scheduling problems with optional tasks and how to use selection constraints to solve complex versions of this problem."
   ]
  },
  {
   "cell_type": "markdown",
   "id": "61a32111-d90d-46f8-8bda-c2b9ddbf6200",
   "metadata": {},
   "source": [
    "## Setting optional tasks"
   ]
  },
  {
   "cell_type": "markdown",
   "id": "babb1d2e-4c4b-4cbc-b001-57609e8c3efb",
   "metadata": {},
   "source": [
    "Let's define a simple problem instance to demonstrate how to schedule with optional tasks. Tasks are required by default, but we can make them optional by passing the `optional=True` argument."
   ]
  },
  {
   "cell_type": "code",
   "execution_count": null,
   "id": "e94e3126-3c08-460a-abdc-255956c65747",
   "metadata": {},
   "outputs": [],
   "source": [
    "from pyjobshop import Model"
   ]
  },
  {
   "cell_type": "code",
   "execution_count": null,
   "id": "ebe19069-e025-48d6-8d15-13ad54c610e2",
   "metadata": {},
   "outputs": [],
   "source": [
    "model = Model()\n",
    "\n",
    "machine = model.add_machine()\n",
    "\n",
    "A = model.add_task(optional=True, name=\"A\")\n",
    "B = model.add_task(optional=True, name=\"B\")\n",
    "C = model.add_task(optional=True, name=\"C\")\n",
    "\n",
    "model.add_mode(A, machine, duration=1)\n",
    "model.add_mode(B, machine, duration=1)\n",
    "model.add_mode(C, machine, duration=3);"
   ]
  },
  {
   "cell_type": "markdown",
   "id": "6d49df6b-c796-49d5-9faa-779917394943",
   "metadata": {},
   "source": [
    "Next, we need to specify _how_ to select the tasks; otherwise, none of the tasks will be scheduled. PyJobShop supports a set of selection constraints (see the next section for an overview) to provide a simple way to declare which tasks need to be selected. This problem can be specified as follows:"
   ]
  },
  {
   "cell_type": "code",
   "execution_count": null,
   "id": "06457b0d-ac35-4fde-9eee-c3854f929b04",
   "metadata": {},
   "outputs": [],
   "source": [
    "model.add_select_exactly_one([A, C])  # Either A or C is scheduled\n",
    "model.add_select_all_or_none([A, B]);  # A and B are both present or absent"
   ]
  },
  {
   "cell_type": "markdown",
   "id": "37b326af-dfb0-46db-9e1e-bc98a8d88d77",
   "metadata": {},
   "source": [
    "In addition, if A is scheduled, then it must be scheduled before B:"
   ]
  },
  {
   "cell_type": "code",
   "execution_count": null,
   "id": "233b68b0-7a0d-4668-9f9d-ff4d7c940bcf",
   "metadata": {},
   "outputs": [],
   "source": [
    "model.add_end_before_start(A, B);"
   ]
  },
  {
   "cell_type": "markdown",
   "id": "14ab3ce0-150a-4afe-9a1a-cfd115d6e20c",
   "metadata": {},
   "source": [
    "Now let's solve this problem instance and plot the solution:"
   ]
  },
  {
   "cell_type": "code",
   "execution_count": null,
   "id": "d08b7b31-a76a-4330-8ff8-08e431ee7581",
   "metadata": {},
   "outputs": [],
   "source": [
    "result = model.solve(display=False)"
   ]
  },
  {
   "cell_type": "code",
   "execution_count": null,
   "id": "355a4ac7-ede5-4a5a-96ed-be73cbe1fee1",
   "metadata": {},
   "outputs": [],
   "source": [
    "from pyjobshop.plot import plot_task_gantt\n",
    "\n",
    "plot_task_gantt(result.best, model.data(), plot_labels=True)"
   ]
  },
  {
   "cell_type": "markdown",
   "id": "e61b973c-f356-4129-8889-155886846c02",
   "metadata": {},
   "source": [
    "Great, this solves the problem as expected! Tasks A and B are scheduled because this approach was shorter than scheduling C. \n",
    "\n",
    "Of course, this was just a simple toy problem. In realistic scenarios, task C might use a resource that is always available, whereas A and B could require a bottleneck machine. This would then favor scheduling task C."
   ]
  },
  {
   "cell_type": "markdown",
   "id": "d62073e4-70a2-4fad-abb0-c2912949d248",
   "metadata": {},
   "source": [
    "## Selection constraints"
   ]
  },
  {
   "cell_type": "markdown",
   "id": "83f1e174-355a-4d59-bf72-311bded5beab",
   "metadata": {},
   "source": [
    "PyJobShop provides three selection constraints that can be used to select optional tasks:\n",
    "\n",
    "1. `SelectAllOrNone` - Either all tasks in the group are scheduled, or none are\n",
    "2. `SelectAtLeastOne` - At least one task from the group must be scheduled  \n",
    "3. `SelectExactlyOne` - Exactly one task from the group is scheduled\n",
    "\n",
    "All selection constraints follow the same interface pattern, making them easy to use and combine:\n",
    "\n",
    "```python\n",
    "model.add_select_all_or_none(tasks, condition_task=None)\n",
    "model.add_select_at_least_one(tasks, condition_task=None) \n",
    "model.add_select_exactly_one(tasks, condition_task=None)\n",
    "```\n",
    "\n",
    "The parameters are as follows:\n",
    "- `tasks`: A list of tasks to apply the constraint to\n",
    "- `condition_task` (optional): If specified, the constraint only applies when this specific task is scheduled\n",
    "\n",
    "The `condition_task` parameter enables powerful \"if-then\" logic. This allows you to build complex processing plans by combining simple, well-defined selection rules. \n",
    "\n",
    "The following constraint enforces that if task X is scheduled, then exactly one of A, B, or C must be scheduled:\n",
    "\n",
    "```python\n",
    "model.add_select_exactly_one([A, B, C], condition_task=X);\n",
    "```\n",
    "\n",
    "Here's another example, which enforces that if task Y is scheduled, then all of D, E, F, and Y must be scheduled. Notice the inclusion of Y, which enforces scheduling _all_ tasks in the group:\n",
    "\n",
    "```python\n",
    "model.add_select_all_or_none([D, E, F, Y], condition_task=Y)\n",
    "```"
   ]
  },
  {
   "cell_type": "markdown",
   "id": "e919e348-616a-4502-8d92-1e590cebc722",
   "metadata": {},
   "source": [
    "## Advanced if-then constraints"
   ]
  },
  {
   "cell_type": "markdown",
   "id": "44eba99c-8d2e-4534-83fd-fdd953ee5982",
   "metadata": {},
   "source": [
    "Let's put the if-then constraints into action. We'll use an example problem from [Van der Beek et al. (2025)](https://www.sciencedirect.com/science/article/pii/S0377221724008269). The diagram below illustrates two graphs: a selection graph, which dictates the selection of tasks and their subsequent tasks, and a precedence graph, which dictates the precedence between tasks if they are present.\n",
    "\n",
    "![example](../assets/van-der-beek-selection.jpg)\n",
    "\n",
    "A selection relationship between two tasks ($u$, $v$) means that if task $u$ is selected, then task $v$ must also be selected. A selection group, which has a condition task $u$ and a group of tasks $V$, requires that if $u$ is selected, then at least one task from $V$ must be selected.\n",
    "\n",
    "Let's model this specific example, which defines how tasks `C-A`, `C-B`, `C-AB`, `I-A`, `I-AB`, and `I-B` should be selected based on the presence of others."
   ]
  },
  {
   "cell_type": "code",
   "execution_count": null,
   "id": "fc04919e-fa8c-4334-8ea3-5bf0ed46c928",
   "metadata": {},
   "outputs": [],
   "source": [
    "model = Model()"
   ]
  },
  {
   "cell_type": "markdown",
   "id": "c3a700a1-d14c-47c9-8e4a-08f7f6750923",
   "metadata": {},
   "source": [
    "First, we have a `source` task marking the beginning of the project and a `target` task marking the end. These are typically required tasks. We also define all other tasks, which are all optional."
   ]
  },
  {
   "cell_type": "code",
   "execution_count": null,
   "id": "d951d900-c308-4d4b-9dcd-a2559d134843",
   "metadata": {},
   "outputs": [],
   "source": [
    "tasks = {\"source\": model.add_task(name=\"source\")}\n",
    "\n",
    "names = [\"C-A\", \"C-B\", \"C-AB\", \"I-A\", \"I-AB\", \"I-B\"]\n",
    "tasks |= {name: model.add_task(optional=True, name=name) for name in names}\n",
    "\n",
    "tasks[\"target\"] = model.add_task(name=\"target\")"
   ]
  },
  {
   "cell_type": "markdown",
   "id": "38ab4dba-cd3a-4310-82dc-4468eb186fd9",
   "metadata": {},
   "source": [
    "For convenience, we assume there is a single resource, and that each optional task takes a random duration between 1 and 5 time units, whereas the source and target tasks require zero duration."
   ]
  },
  {
   "cell_type": "code",
   "execution_count": null,
   "id": "ac2e5e6b-312a-46e8-83c1-83bb06c66824",
   "metadata": {},
   "outputs": [],
   "source": [
    "import random\n",
    "\n",
    "random.seed(42)\n",
    "\n",
    "machine = model.add_machine()\n",
    "\n",
    "model.add_mode(tasks[\"source\"], machine, duration=0)\n",
    "model.add_mode(tasks[\"target\"], machine, duration=0)\n",
    "\n",
    "for name in names:\n",
    "    model.add_mode(tasks[name], machine, duration=random.randint(1, 5))"
   ]
  },
  {
   "cell_type": "markdown",
   "id": "617c11ac-6a0f-4f4e-8915-2efba8913b29",
   "metadata": {},
   "source": [
    "Let's put all the selection constraints in a list and then add them as selection constraints:"
   ]
  },
  {
   "cell_type": "code",
   "execution_count": null,
   "id": "06af9dd1-241d-4500-a611-7950bf48c46f",
   "metadata": {},
   "outputs": [],
   "source": [
    "selection_groups = [\n",
    "    (\"source\", [\"C-A\"]),\n",
    "    (\"source\", [\"C-B\"]),\n",
    "    (\"C-A\", [\"I-A\", \"C-AB\"]),\n",
    "    (\"C-B\", [\"C-AB\", \"I-B\"]),\n",
    "    (\"C-AB\", [\"I-AB\"]),\n",
    "    (\"I-A\", [\"target\"]),\n",
    "    (\"I-B\", [\"target\"]),\n",
    "    (\"I-AB\", [\"target\"]),\n",
    "]\n",
    "\n",
    "for condition, group in selection_groups:\n",
    "    model.add_select_exactly_one(\n",
    "        [tasks[name] for name in group],\n",
    "        condition_task=tasks[condition],\n",
    "    )"
   ]
  },
  {
   "cell_type": "markdown",
   "id": "a35cbd67-3db1-4e3b-ab5b-3b0224c1bac0",
   "metadata": {},
   "source": [
    "We do the same for the precedence constraints. Note that precedence constraints (and other constraints) only apply if both tasks are selected."
   ]
  },
  {
   "cell_type": "code",
   "execution_count": null,
   "id": "b955cdeb-c6f2-44f6-8414-757c5f756fa0",
   "metadata": {},
   "outputs": [],
   "source": [
    "precedence = [\n",
    "    (\"source\", \"C-A\"),\n",
    "    (\"source\", \"C-B\"),\n",
    "    (\"C-A\", \"I-A\"),\n",
    "    (\"C-A\", \"C-AB\"),\n",
    "    (\"C-B\", \"C-AB\"),\n",
    "    (\"C-B\", \"I-B\"),\n",
    "    (\"C-AB\", \"I-AB\"),\n",
    "    (\"I-A\", \"I-B\"),\n",
    "    (\"I-A\", \"target\"),\n",
    "    (\"I-B\", \"target\"),\n",
    "    (\"I-AB\", \"target\"),\n",
    "]\n",
    "\n",
    "for pred, succ in precedence:\n",
    "    model.add_end_before_start(tasks[pred], tasks[succ])"
   ]
  },
  {
   "cell_type": "code",
   "execution_count": null,
   "id": "85669454-62d0-40c4-917d-7802fcff013c",
   "metadata": {},
   "outputs": [],
   "source": [
    "result = model.solve(display=False)\n",
    "print(result)"
   ]
  },
  {
   "cell_type": "code",
   "execution_count": null,
   "id": "0f06d7ee-04c9-4f9d-a976-36027267cd73",
   "metadata": {},
   "outputs": [],
   "source": [
    "plot_task_gantt(result.best, model.data(), plot_labels=True)"
   ]
  },
  {
   "cell_type": "markdown",
   "id": "6e05d800-8714-403f-a7f1-25461dd303dd",
   "metadata": {},
   "source": [
    "Great, this result shows that a process plan from source to target is selected, while tasks `C-AB` and `I-AB` are skipped. Note how the precedence constraints are also respected: `I-A` and only starts after `C-A` is completed, and `I-B` can only start after both `I-A` and `C-B` are finished."
   ]
  },
  {
   "cell_type": "markdown",
   "id": "e5a5e3b3-4c86-44f1-91ab-d96765e4ecf4",
   "metadata": {},
   "source": [
    "## Conclusion\n",
    "\n",
    "This notebook showed how to model scheduling problems with optional tasks in PyJobShop. Key features include:\n",
    "\n",
    "- Optional tasks: Set `optional=True` when creating tasks to let the solver decide whether to schedule them.\n",
    "- Selection constraints: Use `SelectAllOrNone`, `SelectAtLeastOne`, and `SelectExactlyOne` to control task selection.\n",
    "- Conditional selection logic: The `condition_task` parameter enables \"if-then\" relationships between tasks.\n",
    "\n",
    "These capabilities enable modeling of alternative process plans, flexible project structures, and complex scheduling scenarios where not all tasks need to be executed."
   ]
  }
 ],
 "metadata": {
  "kernelspec": {
   "display_name": "Python 3 (ipykernel)",
   "language": "python",
   "name": "python3"
  },
  "language_info": {
   "codemirror_mode": {
    "name": "ipython",
    "version": 3
   },
   "file_extension": ".py",
   "mimetype": "text/x-python",
   "name": "python",
   "nbconvert_exporter": "python",
   "pygments_lexer": "ipython3",
   "version": "3.12.7"
  }
 },
 "nbformat": 4,
 "nbformat_minor": 5
}
