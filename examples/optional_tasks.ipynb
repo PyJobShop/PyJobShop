{
 "cells": [
  {
   "cell_type": "markdown",
   "id": "69d0cadc-8463-4b70-9b41-530367e38181",
   "metadata": {},
   "source": [
    "# Scheduling with optional tasks\n",
    "[![Open In Colab](https://colab.research.google.com/assets/colab-badge.svg)](https://githubtocolab.com/PyJobShop/PyJobShop/blob/main/examples/optional_tasks.ipynb)\n",
    "\n",
    "> If you're using this notebook in Google Colab, be sure to install PyJobShop first by executing ```pip install pyjobshop``` in a cell."
   ]
  },
  {
   "cell_type": "markdown",
   "id": "3433551d-50eb-41f5-960a-de2e120aea06",
   "metadata": {},
   "source": [
    "This notebook demonstrates how to solve scheduling problems with _optional_ tasks. \n",
    "\n",
    "Optional tasks appear in practice when products can be built following different processing plans. Each plan may require a different number of tasks, each task having specific dependencies or constraints. For example, a product could be built by building steps `A` followed by `B`, which require two different resources, or simply through step `C`, requiring one resource but with higher demand.\n",
    "\n",
    "Scheduling with optional tasks introduces the additional decision _which_ tasks to schedule. This type of problem is known in the scheduling literature under different names:\n",
    "- Alternative process plans [(Kis, 2003)](https://www.sciencedirect.com/science/article/pii/S0377221702008287)\n",
    "- Distributed scheduling [(Naderi and Ruiz, 2010)](https://www.sciencedirect.com/science/article/pii/S0305054809001786)\n",
    "- Scheduling with rejections [(Shabtay et al., 2013)](https://link.springer.com/article/10.1007/s10951-012-0303-z)\n",
    "- Flexible project structures [(Kellenbrink and Helber, 2015)](http://refhub.elsevier.com/S0377-2217(24)00826-9/sb6)\n",
    "\n",
    "We will show how to define scheduling problems with optional tasks, and how to use selection constraints to solve complex versions of this problem."
   ]
  },
  {
   "cell_type": "markdown",
   "id": "61a32111-d90d-46f8-8bda-c2b9ddbf6200",
   "metadata": {},
   "source": [
    "## Setting optional tasks"
   ]
  },
  {
   "cell_type": "markdown",
   "id": "babb1d2e-4c4b-4cbc-b001-57609e8c3efb",
   "metadata": {},
   "source": [
    "Let's define the simple example problem that we described."
   ]
  },
  {
   "cell_type": "code",
   "execution_count": 30,
   "id": "e94e3126-3c08-460a-abdc-255956c65747",
   "metadata": {},
   "outputs": [],
   "source": [
    "from pyjobshop import Model"
   ]
  },
  {
   "cell_type": "code",
   "execution_count": 31,
   "id": "ebe19069-e025-48d6-8d15-13ad54c610e2",
   "metadata": {},
   "outputs": [],
   "source": [
    "model = Model()\n",
    "\n",
    "machine = model.add_machine()\n",
    "\n",
    "A = model.add_task(optional=True, name=\"A\")\n",
    "B = model.add_task(optional=True, name=\"B\")\n",
    "C = model.add_task(optional=True, name=\"C\")\n",
    "\n",
    "model.add_mode(A, machine, duration=1)\n",
    "model.add_mode(B, machine, duration=1)\n",
    "model.add_mode(C, machine, duration=3);"
   ]
  },
  {
   "cell_type": "markdown",
   "id": "6d49df6b-c796-49d5-9faa-779917394943",
   "metadata": {},
   "source": [
    "Next, we need to specify _how_ to select the tasks. PyJobShop supports a set of selection constraints (see next section for an overview), which provides a simple way to declare your problem's selection logic. This problem can be specified as follows:"
   ]
  },
  {
   "cell_type": "code",
   "execution_count": 32,
   "id": "06457b0d-ac35-4fde-9eee-c3854f929b04",
   "metadata": {},
   "outputs": [],
   "source": [
    "model.add_select_at_least_one([A, C])  # Either A or C is scheduled\n",
    "model.add_select_all_or_none([A, B]);  # A and B are both present or absent"
   ]
  },
  {
   "cell_type": "markdown",
   "id": "37b326af-dfb0-46db-9e1e-bc98a8d88d77",
   "metadata": {},
   "source": [
    "In addition, if A is scheduled, then it must be scheduled before B:"
   ]
  },
  {
   "cell_type": "code",
   "execution_count": 33,
   "id": "233b68b0-7a0d-4668-9f9d-ff4d7c940bcf",
   "metadata": {},
   "outputs": [],
   "source": [
    "model.add_end_before_start(A, B);"
   ]
  },
  {
   "cell_type": "markdown",
   "id": "14ab3ce0-150a-4afe-9a1a-cfd115d6e20c",
   "metadata": {},
   "source": [
    "Now let's solve this problem instance and plot the solution."
   ]
  },
  {
   "cell_type": "code",
   "execution_count": 34,
   "id": "d08b7b31-a76a-4330-8ff8-08e431ee7581",
   "metadata": {},
   "outputs": [],
   "source": [
    "result = model.solve(display=False)"
   ]
  },
  {
   "cell_type": "code",
   "execution_count": 35,
   "id": "355a4ac7-ede5-4a5a-96ed-be73cbe1fee1",
   "metadata": {},
   "outputs": [
    {
     "data": {
      "image/png": "[encoded data removed]",
      "text/plain": [
       "<Figure size 640x480 with 1 Axes>"
      ]
     },
     "metadata": {},
     "output_type": "display_data"
    }
   ],
   "source": [
    "from pyjobshop.plot import plot_task_gantt\n",
    "\n",
    "plot_task_gantt(result.best, model.data(), plot_labels=True)"
   ]
  },
  {
   "cell_type": "markdown",
   "id": "e61b973c-f356-4129-8889-155886846c02",
   "metadata": {},
   "source": [
    "Great, this solves the problem as expected! Tasks A and B are scheduled because this is obviously shorter than scheduling C. \n",
    "\n",
    "Of course, this was just a simple toy problem. In realistic problems, task C might use a resource that is always available, whereas A and B could require a bottleneck machine. This would then favor scheduling task C."
   ]
  },
  {
   "cell_type": "markdown",
   "id": "d62073e4-70a2-4fad-abb0-c2912949d248",
   "metadata": {},
   "source": [
    "## Selection constraints"
   ]
  },
  {
   "cell_type": "markdown",
   "id": "83f1e174-355a-4d59-bf72-311bded5beab",
   "metadata": {},
   "source": [
    "PyJobShop implements the following selection constraints:\n",
    "- `SelectAllOrNone`\n",
    "- `SelectAtLeastOne`\n",
    "- `SelectExactlyOne`"
   ]
  },
  {
   "cell_type": "markdown",
   "id": "6076667e-e58b-4781-99c8-680c55c9148d",
   "metadata": {},
   "source": [
    "These selection constraints are provided to provide a complete yet compact set of constraints to define problems involving optional tasks."
   ]
  },
  {
   "cell_type": "markdown",
   "id": "e919e348-616a-4502-8d92-1e590cebc722",
   "metadata": {},
   "source": [
    "## Advanced if-then constraints"
   ]
  },
  {
   "cell_type": "markdown",
   "id": "44eba99c-8d2e-4534-83fd-fdd953ee5982",
   "metadata": {},
   "source": [
    "Processing plans can become very complex: Take this problem from [Van der Beek et al. (2025)](https://www.sciencedirect.com/science/article/pii/S0377221724008269) for example.\n",
    "In very flexible cases, there are many dependencies between optional tasks. The diagram below illustrates two graphs: a selection graph, which dictates the selection tasks and subsequent tasks, and a precedence graph, which dictates the precedence between tasks, if present.\n",
    "\n",
    "![example](../assets/van-der-beek-selection.jpg)\n",
    "\n",
    "Let's model this specific example, which defines how tasks `C-A`, `C-B`, `C-AB`, `I-A`, `I-AB`, and `I-B` can be selected based on the presence of others."
   ]
  },
  {
   "cell_type": "code",
   "execution_count": 78,
   "id": "fc04919e-fa8c-4334-8ea3-5bf0ed46c928",
   "metadata": {},
   "outputs": [],
   "source": [
    "model = Model()"
   ]
  },
  {
   "cell_type": "markdown",
   "id": "c3a700a1-d14c-47c9-8e4a-08f7f6750923",
   "metadata": {},
   "source": [
    "First, we have a `source` task marking the beginning of the project and a `target` task marking the end. These are typically required tasks. We also define all other tasks, which are all optional."
   ]
  },
  {
   "cell_type": "code",
   "execution_count": 79,
   "id": "d951d900-c308-4d4b-9dcd-a2559d134843",
   "metadata": {},
   "outputs": [],
   "source": [
    "tasks = {\"source\": model.add_task(name=\"source\")}\n",
    "\n",
    "names = [\"C-A\", \"C-B\", \"C-AB\", \"I-A\", \"I-AB\", \"I-B\"]\n",
    "tasks |= {name: model.add_task(optional=True, name=name) for name in names}\n",
    "\n",
    "tasks[\"target\"] = model.add_task(name=\"target\")"
   ]
  },
  {
   "cell_type": "markdown",
   "id": "38ab4dba-cd3a-4310-82dc-4468eb186fd9",
   "metadata": {},
   "source": [
    "For convenience, we assume there is a single resource, and that each optional task takes 1 duration, whereas the source and target tasks require zero duration."
   ]
  },
  {
   "cell_type": "code",
   "execution_count": 80,
   "id": "ac2e5e6b-312a-46e8-83c1-83bb06c66824",
   "metadata": {},
   "outputs": [],
   "source": [
    "machine = model.add_machine()\n",
    "\n",
    "model.add_mode(tasks[\"source\"], machine, duration=0)\n",
    "model.add_mode(tasks[\"target\"], machine, duration=0)\n",
    "\n",
    "for name in names:\n",
    "    model.add_mode(tasks[name], machine, duration=1)"
   ]
  },
  {
   "cell_type": "markdown",
   "id": "617c11ac-6a0f-4f4e-8915-2efba8913b29",
   "metadata": {},
   "source": [
    "Starting from the `source` task, both `C-A` or `C-B` must be selected. "
   ]
  },
  {
   "cell_type": "code",
   "execution_count": 83,
   "id": "4d3139ec-0b5a-4022-b095-60169af7b5b2",
   "metadata": {},
   "outputs": [],
   "source": [
    "model.add_select_exactly_one([tasks[\"C-A\"]], trigger_task=tasks[\"source\"])\n",
    "model.add_select_exactly_one([tasks[\"C-B\"]], trigger_task=tasks[\"source\"])\n",
    "model.add_end_before_start(tasks[\"source\"], tasks[\"C-A\"])\n",
    "model.add_end_before_start(tasks[\"source\"], tasks[\"C-B\"]);"
   ]
  },
  {
   "cell_type": "markdown",
   "id": "c0beb16a-a9c8-46a2-8f67-f737dc4ee01c",
   "metadata": {},
   "source": [
    "If task `C-A` is selected, then you must choose exactly one of `C-AB` or `I-A`. This means that after `C-A`, the process can either go through a common converging path (`C-AB`) or a specific intermediate task (`I-A`)."
   ]
  },
  {
   "cell_type": "code",
   "execution_count": 84,
   "id": "283d3976-e405-461d-92dd-5d81ad48a6ed",
   "metadata": {},
   "outputs": [],
   "source": [
    "model.add_select_exactly_one(\n",
    "    [tasks[\"C-AB\"], tasks[\"I-A\"]], trigger_task=tasks[\"C-A\"]\n",
    ")\n",
    "model.add_end_before_start(tasks[\"C-A\"], tasks[\"C-AB\"])\n",
    "model.add_end_before_start(tasks[\"C-A\"], tasks[\"I-A\"])\n",
    "model.add_end_before_start(tasks[\"I-A\"], tasks[\"I-B\"]);"
   ]
  },
  {
   "cell_type": "markdown",
   "id": "89f024a4-fde4-4ec3-a665-befce86c64d7",
   "metadata": {},
   "source": [
    "Similarly, if task `C-B` is selected, then you must choose exactly one of `C-AB` or `I-B`. This mirrors the `C-A` logic but for the `C-B` branch."
   ]
  },
  {
   "cell_type": "code",
   "execution_count": 85,
   "id": "806c50b1-fe05-4db7-83cd-60370e24ae09",
   "metadata": {},
   "outputs": [],
   "source": [
    "model.add_select_exactly_one(\n",
    "    [tasks[\"C-AB\"], tasks[\"I-B\"]], trigger_task=tasks[\"C-B\"]\n",
    ")\n",
    "model.add_end_before_start(tasks[\"C-B\"], tasks[\"C-AB\"])\n",
    "model.add_end_before_start(tasks[\"C-B\"], tasks[\"I-B\"]);"
   ]
  },
  {
   "cell_type": "markdown",
   "id": "5b0982e8-0d5c-4c7f-b99a-50cb135a9143",
   "metadata": {},
   "source": [
    "If `C-AB` is chosen (either from `C-A` or `C-B`), then `I-AB` *must* also be chosen. This indicates `C-AB` is a prerequisite for `I-AB`."
   ]
  },
  {
   "cell_type": "code",
   "execution_count": 86,
   "id": "04d9ce58-f9a4-4530-a1de-c664860ebb87",
   "metadata": {},
   "outputs": [],
   "source": [
    "model.add_select_exactly_one([tasks[\"I-AB\"]], trigger_task=tasks[\"C-AB\"])\n",
    "model.add_end_before_start(tasks[\"C-AB\"], tasks[\"I-AB\"]);"
   ]
  },
  {
   "cell_type": "code",
   "execution_count": 87,
   "id": "1c9c1b22-4ccd-4acb-a021-ebebb1802908",
   "metadata": {},
   "outputs": [],
   "source": [
    "model.add_end_before_start(tasks[\"I-A\"], tasks[\"target\"])\n",
    "model.add_end_before_start(tasks[\"I-B\"], tasks[\"target\"])\n",
    "model.add_end_before_start(tasks[\"I-AB\"], tasks[\"target\"]);"
   ]
  },
  {
   "cell_type": "markdown",
   "id": "f1e44c5b-b643-4d4a-9f03-2b45a52fb532",
   "metadata": {},
   "source": [
    "The `trigger_task` task parameter in PyJobShop's selection constraints (`SelectAllOrNone`, `SelectAtLeastOne`, `SelectExactlyOne`) is crucial for modeling these \"if-then\" relationships. \n",
    "It ensures that a given selection constraint is only enforced if its `condition` task is present in the schedule. \n",
    "This allows for highly flexible and dynamic processing plans, where the set of tasks to be scheduled is not fixed but rather depends on strategic choices made during the scheduling process."
   ]
  },
  {
   "cell_type": "code",
   "execution_count": 88,
   "id": "85669454-62d0-40c4-917d-7802fcff013c",
   "metadata": {},
   "outputs": [],
   "source": [
    "result = model.solve(display=False)"
   ]
  },
  {
   "cell_type": "code",
   "execution_count": 89,
   "id": "0f06d7ee-04c9-4f9d-a976-36027267cd73",
   "metadata": {},
   "outputs": [
    {
     "data": {
      "image/png": "[encoded data removed]",
      "text/plain": [
       "<Figure size 640x480 with 1 Axes>"
      ]
     },
     "metadata": {},
     "output_type": "display_data"
    }
   ],
   "source": [
    "plot_task_gantt(result.best, model.data(), plot_labels=True)"
   ]
  }
 ],
 "metadata": {
  "kernelspec": {
   "display_name": "Python 3 (ipykernel)",
   "language": "python",
   "name": "python3"
  },
  "language_info": {
   "codemirror_mode": {
    "name": "ipython",
    "version": 3
   },
   "file_extension": ".py",
   "mimetype": "text/x-python",
   "name": "python",
   "nbconvert_exporter": "python",
   "pygments_lexer": "ipython3",
   "version": "3.10.10"
  }
 },
 "nbformat": 4,
 "nbformat_minor": 5
}
