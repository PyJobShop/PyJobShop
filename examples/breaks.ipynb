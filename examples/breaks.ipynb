{
 "cells": [
  {
   "cell_type": "markdown",
   "metadata": {},
   "source": [
    "# Resource breaks\n",
    "\n",
    "[![Open In Colab](https://colab.research.google.com/assets/colab-badge.svg)](https://githubtocolab.com/PyJobShop/PyJobShop/blob/main/examples/breaks.ipynb)\n",
    "\n",
    "> If you're using this notebook in Google Colab, be sure to install PyJobShop first by executing ```pip install pyjobshop``` in a cell.\n",
    "\n",
    "This notebook demonstrates how to model resource breaks using PyJobShop. In real-world scheduling, machines and resources often have planned breaks or unavailable periods, for example, lunch breaks, weekends, or planned maintenance. \n",
    "\n",
    "We'll cover the following:\n",
    "- A basic example to model resource breaks\n",
    "- How to allow tasks to be interrupted by breaks\n",
    "- A common example where breaks can be used to model operator availability"
   ]
  },
  {
   "cell_type": "markdown",
   "metadata": {},
   "source": [
    "## Basic example\n",
    "\n",
    "Let's create a simple scheduling problem with breaks."
   ]
  },
  {
   "cell_type": "code",
   "execution_count": null,
   "metadata": {},
   "outputs": [],
   "source": [
    "from pyjobshop import Model\n",
    "\n",
    "model = Model()"
   ]
  },
  {
   "cell_type": "markdown",
   "metadata": {},
   "source": [
    "All resources in PyJobShop have a `breaks` argument which can be used to specify breaks. Here, we create one machine with a break between [4-5] that represents a lunch break."
   ]
  },
  {
   "cell_type": "code",
   "execution_count": null,
   "metadata": {},
   "outputs": [],
   "source": [
    "machine = model.add_machine(breaks=[(4, 5)])"
   ]
  },
  {
   "cell_type": "markdown",
   "metadata": {},
   "source": [
    "Let's consider two tasks that need to be processed, each with processing time of 3 hours:"
   ]
  },
  {
   "cell_type": "code",
   "execution_count": null,
   "metadata": {},
   "outputs": [],
   "source": [
    "job = model.add_job()\n",
    "\n",
    "for _ in range(2):\n",
    "    task = model.add_task(job)\n",
    "    processing_time = 3\n",
    "    model.add_mode(task, machine, processing_time)"
   ]
  },
  {
   "cell_type": "code",
   "execution_count": null,
   "metadata": {},
   "outputs": [],
   "source": [
    "print(model.summary())"
   ]
  },
  {
   "cell_type": "code",
   "execution_count": null,
   "metadata": {},
   "outputs": [],
   "source": [
    "result = model.solve(display=False)\n",
    "print(result)"
   ]
  },
  {
   "cell_type": "code",
   "execution_count": null,
   "metadata": {},
   "outputs": [],
   "source": [
    "from pyjobshop.plot import plot_machine_gantt\n",
    "\n",
    "plot_machine_gantt(result.best, model.data())"
   ]
  },
  {
   "cell_type": "markdown",
   "metadata": {},
   "source": [
    "## Allowing tasks to be interrupted by breaks\n",
    "\n",
    "Notice how the tasks are scheduled to avoid breaks. By default, tasks cannot overlap with any breaks. To allow tasks to be interrupted by breaks, set `allow_breaks=True`. Let's recreate the same problem with break interruptions enabled."
   ]
  },
  {
   "cell_type": "code",
   "execution_count": null,
   "metadata": {},
   "outputs": [],
   "source": [
    "model = Model()\n",
    "machine = model.add_machine(breaks=[(4, 5)])\n",
    "job = model.add_job()\n",
    "\n",
    "for _ in range(2):\n",
    "    task = model.add_task(job, allow_breaks=True)\n",
    "    processing_time = 3\n",
    "    model.add_mode(task, machine, processing_time)"
   ]
  },
  {
   "cell_type": "code",
   "execution_count": null,
   "metadata": {},
   "outputs": [],
   "source": [
    "result = model.solve(display=False)\n",
    "print(result)"
   ]
  },
  {
   "cell_type": "code",
   "execution_count": null,
   "metadata": {},
   "outputs": [],
   "source": [
    "plot_machine_gantt(result.best, model.data())"
   ]
  },
  {
   "cell_type": "markdown",
   "metadata": {},
   "source": [
    "Great, this indeed works as expected: the second task is started before the break, and continues after the break. As a result, the task takes 1 time unit longer (the break duration), but the total processing time is still the same. This information is also contained in the solution:"
   ]
  },
  {
   "cell_type": "code",
   "execution_count": null,
   "metadata": {},
   "outputs": [],
   "source": [
    "result.best.tasks"
   ]
  },
  {
   "cell_type": "markdown",
   "metadata": {},
   "source": [
    "## Operator availability\n",
    "\n",
    "In many job shops, machines require operator supervision during setup but can process independently after setup. This example shows how to model such scenarios using synchronized tasks with operator breaks."
   ]
  },
  {
   "cell_type": "code",
   "execution_count": null,
   "metadata": {},
   "outputs": [],
   "source": [
    "model = Model()"
   ]
  },
  {
   "cell_type": "markdown",
   "metadata": {},
   "source": [
    "We create two resources: a machine that can run continuously, and an operator with breaks representing non-working hours (0-8 and 17-24)."
   ]
  },
  {
   "cell_type": "code",
   "execution_count": null,
   "metadata": {},
   "outputs": [],
   "source": [
    "machine = model.add_machine(name=\"machine\")\n",
    "operator = model.add_machine(breaks=[(0, 8), (17, 24)], name=\"operator\")"
   ]
  },
  {
   "cell_type": "markdown",
   "metadata": {},
   "source": [
    "Now we create two tasks: a long processing task (15 hours) for the machine, and a short setup task (1 hour) that requires operator supervision."
   ]
  },
  {
   "cell_type": "code",
   "execution_count": null,
   "metadata": {},
   "outputs": [],
   "source": [
    "job = model.add_job()\n",
    "processing_task = model.add_task(job, name=\"processing\")\n",
    "model.add_mode(processing_task, machine, duration=15)\n",
    "\n",
    "setup_task = model.add_task(job, name=\"setup\")\n",
    "model.add_mode(setup_task, operator, duration=1);"
   ]
  },
  {
   "cell_type": "markdown",
   "metadata": {},
   "source": [
    "The key constraint is synchronization: both tasks must start simultaneously. This ensures processing can only begin when an operator is available for setup, but the machine can continue running after the operator finishes."
   ]
  },
  {
   "cell_type": "code",
   "execution_count": null,
   "metadata": {},
   "outputs": [],
   "source": [
    "# Both tasks must start simultaneously\n",
    "model.add_start_before_start(processing_task, setup_task)\n",
    "model.add_start_before_start(setup_task, processing_task);"
   ]
  },
  {
   "cell_type": "markdown",
   "metadata": {},
   "source": [
    "Let's solve and visualize the schedule:"
   ]
  },
  {
   "cell_type": "code",
   "execution_count": null,
   "metadata": {},
   "outputs": [],
   "source": [
    "result = model.solve(display=False)\n",
    "plot_machine_gantt(result.best, model.data(), plot_labels=True)"
   ]
  },
  {
   "cell_type": "markdown",
   "metadata": {},
   "source": [
    "Perfect! The Gantt chart shows both tasks starting at time 8 when the operator becomes available. The setup task finishes quickly while the machine continues processing until time 23. This pattern is common in manufacturing where operators are needed for setup but machines can run autonomously during production."
   ]
  },
  {
   "cell_type": "markdown",
   "metadata": {},
   "source": [
    "##  Conclusion\n",
    "\n",
    "This notebook showed how to model resource breaks in PyJobShop:\n",
    "\n",
    "- Use the `breaks` parameter to define unavailable periods for resources\n",
    "- Set `allow_breaks=True` to let tasks be interrupted by breaks\n",
    "\n",
    "These features help model real-world scheduling constraints like lunch breaks, shift patterns, and operator availability."
   ]
  }
 ],
 "metadata": {
  "kernelspec": {
   "display_name": "Python 3 (ipykernel)",
   "language": "python",
   "name": "python3"
  },
  "language_info": {
   "codemirror_mode": {
    "name": "ipython",
    "version": 3
   },
   "file_extension": ".py",
   "mimetype": "text/x-python",
   "name": "python",
   "nbconvert_exporter": "python",
   "pygments_lexer": "ipython3",
   "version": "3.12.7"
  }
 },
 "nbformat": 4,
 "nbformat_minor": 4
}
