{
 "cells": [
  {
   "cell_type": "markdown",
   "metadata": {},
   "source": [
    "# Resource breaks\n",
    "\n",
    "[![Open In Colab](https://colab.research.google.com/assets/colab-badge.svg)](https://githubtocolab.com/PyJobShop/PyJobShop/blob/main/examples/breaks.ipynb)\n",
    "\n",
    "> If you're using this notebook in Google Colab, be sure to install PyJobShop first by executing ```pip install pyjobshop``` in a cell.\n",
    "\n",
    "This notebook demonstrates how to model and handle breaks (interruptions) in scheduling problems using PyJobShop.\n",
    "\n",
    "We'll cover the following topics:\n",
    "- A basic example\n",
    "- Show how to allow tasks to be interrupted by breaks\n",
    "- Show how breaks work with multiple modes\n",
    "- Show an example where breaks can be used to model operator availability"
   ]
  },
  {
   "cell_type": "markdown",
   "metadata": {},
   "source": [
    "## Introduction\n",
    "\n",
    "In real-world scheduling, machines and resources often have planned breaks or unavailable periods:\n",
    "- Maintenance windows\n",
    "- Shift changes\n",
    "- Lunch breaks\n",
    "- Planned downtime\n",
    "\n",
    "PyJobShop allows you to model these breaks and ensures tasks are scheduled around them, or interrupted and resumed after breaks."
   ]
  },
  {
   "cell_type": "markdown",
   "metadata": {},
   "source": [
    "## Basic example\n",
    "\n",
    "Let's create a simple scheduling problem with machine breaks."
   ]
  },
  {
   "cell_type": "code",
   "execution_count": null,
   "metadata": {},
   "outputs": [],
   "source": [
    "import random\n",
    "\n",
    "from pyjobshop import Model\n",
    "\n",
    "random.seed(42)\n",
    "\n",
    "model = Model()"
   ]
  },
  {
   "cell_type": "markdown",
   "metadata": {},
   "source": [
    "We create two machines, both with breaks of [0, 8] (outside working hours) and [12, 13] (lunch break). "
   ]
  },
  {
   "cell_type": "code",
   "execution_count": null,
   "metadata": {},
   "outputs": [],
   "source": [
    "machine1 = model.add_machine(breaks=[(0, 8), (12, 13)], name=\"Machine 1\")\n",
    "machine2 = model.add_machine(breaks=[(0, 8), (12, 13)], name=\"Machine 2\")"
   ]
  },
  {
   "cell_type": "markdown",
   "metadata": {},
   "source": [
    "We randomly generate some tasks, with processing times between 1 and 3 hours:"
   ]
  },
  {
   "cell_type": "code",
   "execution_count": null,
   "metadata": {},
   "outputs": [],
   "source": [
    "job = model.add_job(due_date=17)  # represents overtime work after 17h\n",
    "\n",
    "for _ in range(10):\n",
    "    task = model.add_task(job)\n",
    "    processing_time = random.randint(1, 3)\n",
    "    model.add_mode(task, machine1, processing_time)\n",
    "    model.add_mode(task, machine2, processing_time)\n",
    "\n",
    "model.set_objective(weight_max_tardiness=1);"
   ]
  },
  {
   "cell_type": "code",
   "execution_count": null,
   "metadata": {},
   "outputs": [],
   "source": [
    "print(model.summary())"
   ]
  },
  {
   "cell_type": "code",
   "execution_count": null,
   "metadata": {},
   "outputs": [],
   "source": [
    "result = model.solve(display=False)\n",
    "print(result)"
   ]
  },
  {
   "cell_type": "code",
   "execution_count": null,
   "metadata": {},
   "outputs": [],
   "source": [
    "from pyjobshop.plot import plot_machine_gantt\n",
    "\n",
    "plot_machine_gantt(result.best, model.data())"
   ]
  },
  {
   "cell_type": "markdown",
   "metadata": {},
   "source": [
    "## Job shop with operator breaks\n",
    "\n",
    "In many job shops, machines require operator supervision during setup but can operate independently during processing. This example shows how to model such scenarios using synchronized tasks with operator breaks."
   ]
  },
  {
   "cell_type": "code",
   "execution_count": null,
   "metadata": {},
   "outputs": [],
   "source": [
    "model = Model()\n",
    "job = model.add_job()\n",
    "\n",
    "# Create the machine resource and the operator resource (with breaks).\n",
    "machine = model.add_machine(name=\"machine\")\n",
    "operator = model.add_machine(breaks=[(0, 8), (17, 24)], name=\"operator\")\n",
    "\n",
    "# The processing task is the one that will be processed by the machine.\n",
    "processing_task = model.add_task(job, name=\"processing\")\n",
    "duration = 15\n",
    "model.add_mode(processing_task, machine, duration=duration)\n",
    "\n",
    "# The setup task is the one that will be processed by the operator.\n",
    "setup_task = model.add_task(job, name=\"setup\")\n",
    "duration = 1\n",
    "model.add_mode(setup_task, operator, duration=duration)\n",
    "\n",
    "# The machine and operator task should start at the same time. This means\n",
    "# that we can only start the setup when an operator is available, but\n",
    "# the machine can continue processing without the operator. Note that\n",
    "# using the start-before-start constraint twice with reverse arguments\n",
    "# is the same as a start-at-start constraint.\n",
    "model.add_start_before_start(processing_task, setup_task)\n",
    "model.add_start_before_start(setup_task, processing_task)\n",
    "\n",
    "# The plot shows that the tasks can only start when the operator is available,\n",
    "# which is at time 8. The processing task starts at time 8 and ends at time 23,\n",
    "# not requiring the operator's attendance during processing.\n",
    "result = model.solve(display=False)\n",
    "plot_machine_gantt(result.best, model.data(), plot_labels=True)"
   ]
  },
  {
   "cell_type": "markdown",
   "metadata": {},
   "source": [
    "Key points in this example:\n",
    "\n",
    "- The operator has breaks from 0-8 and 17-24, so they're only available during working hours (8-17)\n",
    "- Both tasks must start simultaneously using bidirectional start-before-start constraints\n",
    "- The machine can continue processing after the operator finishes setup\n",
    "- The Gantt chart shows tasks starting at time 8 when the operator becomes available"
   ]
  }
 ],
 "metadata": {
  "kernelspec": {
   "display_name": "Python 3 (ipykernel)",
   "language": "python",
   "name": "python3"
  },
  "language_info": {
   "codemirror_mode": {
    "name": "ipython",
    "version": 3
   },
   "file_extension": ".py",
   "mimetype": "text/x-python",
   "name": "python",
   "nbconvert_exporter": "python",
   "pygments_lexer": "ipython3",
   "version": "3.12.7"
  }
 },
 "nbformat": 4,
 "nbformat_minor": 4
}
