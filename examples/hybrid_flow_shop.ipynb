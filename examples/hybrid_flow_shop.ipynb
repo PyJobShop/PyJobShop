{
 "cells": [
  {
   "cell_type": "markdown",
   "id": "ee471b19",
   "metadata": {},
   "source": [
    "# Hybrid flow shop\n",
    "\n",
    "The hybrid flow shop (HFS) is a common manufacturing environment in practice and widely studied by scheduling researchers. See for example the surveys by [Ruiz and Vázquez-Rodríguez (2010)](https://www.sciencedirect.com/science/article/pii/S0377221709006390) and [Ribas et al. (2010)](https://www.sciencedirect.com/science/article/pii/S0305054809002883) for an overview of HFS studies.\n",
    "\n",
    "In this notebook, we demonstrate how to model and solve a HFS problem using PyJobShop."
   ]
  },
  {
   "cell_type": "markdown",
   "id": "f1460ca9",
   "metadata": {},
   "source": [
    "## Problem description\n",
    "The HFS problem is characterized as follows:\n",
    "\n",
    "- There is a set of $n$ jobs that need to be processed in a series of stages.\n",
    "- The number of processing stages is at least 2.\n",
    "- Each stage has at least one machine in parallel, and in at least one stage there is more than one machine.\n",
    "- All jobs are processed in the same production order: production starts in stage 1, then stage 2, etc. until the last stage. A job can only start processing when it has finished processing in the previous stage.\n",
    "\n",
    "The figure below illustrates a small HFS example with three jobs and three stages. The first and third stage have three machines, and the second stage has two machines.\n",
    "\n",
    "![HFS](../assets/hybrid-flow-shop.png \"HFS\")"
   ]
  },
  {
   "cell_type": "markdown",
   "id": "298353a4-3a38-4f7a-999d-07a71c74d267",
   "metadata": {},
   "source": [
    "We can model an HFS problem using PyJobShop. For each job, define for each stage $k$ one operation $o_k$. Moreover, we need to ensure that operation $o_{k-1}$ is processed before $o_k$, known as a precedence constraint.\n",
    "\n",
    "Let's now implement the above example using PyJobShop's Model interface."
   ]
  },
  {
   "cell_type": "markdown",
   "id": "08b2692e",
   "metadata": {},
   "source": [
    "## Model"
   ]
  },
  {
   "cell_type": "code",
   "execution_count": 1,
   "id": "5e753fcf-be01-4dcb-a911-16f424f3503e",
   "metadata": {},
   "outputs": [],
   "source": [
    "num_jobs = 3\n",
    "num_stages = 3\n",
    "num_machines = [3, 2, 3]"
   ]
  },
  {
   "cell_type": "code",
   "execution_count": 2,
   "id": "9b93bdca-c714-4825-989b-7c93a0a875d8",
   "metadata": {},
   "outputs": [],
   "source": [
    "from pyjobshop import Model\n",
    "\n",
    "model = Model()"
   ]
  },
  {
   "cell_type": "markdown",
   "id": "c22277b3-724e-4407-94a4-b7d2e9ea1d7d",
   "metadata": {},
   "source": [
    "The following will be helpful to plot names with $\\LaTeX$ typesetting."
   ]
  },
  {
   "cell_type": "code",
   "execution_count": 3,
   "id": "9c731276-0412-4572-84cb-7376df2e22ed",
   "metadata": {},
   "outputs": [],
   "source": [
    "def machine_name(machine, stage):\n",
    "    return f\"$M_{{{machine}{stage}}}$\"\n",
    "\n",
    "\n",
    "def job_name(job: int, stage: int):\n",
    "    return f\"$J_{{{job}{stage}}}$\""
   ]
  },
  {
   "cell_type": "markdown",
   "id": "991f09f0-c698-4cab-bd39-01fc7dc50e43",
   "metadata": {},
   "source": [
    "First define the machine layout:"
   ]
  },
  {
   "cell_type": "code",
   "execution_count": 4,
   "id": "1ad77ff3",
   "metadata": {},
   "outputs": [],
   "source": [
    "stage2machines = {}\n",
    "for k in range(num_stages):\n",
    "    stage2machines[k] = [\n",
    "        model.add_machine(name=machine_name(m, k))\n",
    "        for m in range(num_machines[k])\n",
    "    ]"
   ]
  },
  {
   "cell_type": "markdown",
   "id": "bd5d8b3b",
   "metadata": {},
   "source": [
    "Now, we need to define jobs and the operations that have to be scheduled, along with the processing time data and precedence constraints, as mentioned earlier. The way to do this is with the `Model.add_constraint` methods, which allow us to impose constraints between any two operations. "
   ]
  },
  {
   "cell_type": "code",
   "execution_count": 5,
   "id": "f9cad646",
   "metadata": {},
   "outputs": [],
   "source": [
    "import random\n",
    "\n",
    "from pyjobshop import Constraint\n",
    "\n",
    "random.seed(42)\n",
    "\n",
    "jobs = [model.add_job() for _ in range(num_jobs)]\n",
    "\n",
    "for j, job in enumerate(jobs):\n",
    "    operations = [\n",
    "        model.add_operation(job=job, name=job_name(j, k))\n",
    "        for k in range(num_stages)\n",
    "    ]\n",
    "\n",
    "    for stage in range(num_stages):\n",
    "        for machine in stage2machines[stage]:\n",
    "            duration = random.randint(1, 20)\n",
    "            model.add_processing_time(machine, operations[stage], duration)\n",
    "\n",
    "    for idx in range(num_stages - 1):\n",
    "        first = operations[idx]\n",
    "        second = operations[idx + 1]\n",
    "        model.add_constraint(first, second, Constraint.END_BEFORE_START)"
   ]
  },
  {
   "cell_type": "code",
   "execution_count": 6,
   "id": "2f5555dc",
   "metadata": {},
   "outputs": [
    {
     "name": "stdout",
     "output_type": "stream",
     "text": [
      " ! --------------------------------------------------- CP Optimizer 22.1.1.0 --\n",
      " ! Minimization problem - 44 variables, 38 constraints\n",
      " ! LogVerbosity         = Terse\n",
      " ! Initial process time : 0.02s (0.02s extraction + 0.00s propagation)\n",
      " !  . Log search space  : 63.6 (before), 63.6 (after)\n",
      " !  . Memory usage      : 573.7 kB (before), 573.7 kB (after)\n",
      " ! Using parallel search with 8 workers.\n",
      " ! ----------------------------------------------------------------------------\n",
      " !          Best Branches  Non-fixed    W       Branch decision\n",
      "                        0         44                 -\n",
      " + New bound is 16\n",
      " ! Using iterative diving.\n",
      " *            16        7  0.04s        1      (gap is 0.00%)\n",
      " ! ----------------------------------------------------------------------------\n",
      " ! Search completed, 1 solution found.\n",
      " ! Best objective         : 16 (optimal - effective tol. is 0)\n",
      " ! Best bound             : 16\n",
      " ! ----------------------------------------------------------------------------\n",
      " ! Number of branches     : 16968\n",
      " ! Number of fails        : 1259\n",
      " ! Total memory usage     : 4.6 MB (4.5 MB CP Optimizer + 0.1 MB Concert)\n",
      " ! Time spent in solve    : 0.04s (0.02s engine + 0.02s extraction)\n",
      " ! Search speed (br. / s) : 848400.8\n",
      " ! ----------------------------------------------------------------------------\n"
     ]
    }
   ],
   "source": [
    "result = model.solve(log=True)"
   ]
  },
  {
   "cell_type": "code",
   "execution_count": 7,
   "id": "c103cbc1",
   "metadata": {},
   "outputs": [
    {
     "data": {
      "image/png": "[encoded data removed]",
      "text/plain": [
       "<Figure size 1200x800 with 1 Axes>"
      ]
     },
     "metadata": {},
     "output_type": "display_data"
    }
   ],
   "source": [
    "from pyjobshop import plot\n",
    "\n",
    "data = model.data()\n",
    "plot(data, result.best, plot_labels=True)"
   ]
  },
  {
   "cell_type": "markdown",
   "id": "58b50a12-1b3e-4bef-992a-2cfa152fdfda",
   "metadata": {},
   "source": [
    "## Conclusion\n",
    "This notebooks showed how to model and solve the hybrid flow shop problem using PyJobShop. Specifically, we show how to define the hybrid flow shop problem in terms of operations and how to add precedence constraints between operations."
   ]
  }
 ],
 "metadata": {
  "kernelspec": {
   "display_name": "Python 3 (ipykernel)",
   "language": "python",
   "name": "python3"
  },
  "language_info": {
   "codemirror_mode": {
    "name": "ipython",
    "version": 3
   },
   "file_extension": ".py",
   "mimetype": "text/x-python",
   "name": "python",
   "nbconvert_exporter": "python",
   "pygments_lexer": "ipython3",
   "version": "3.10.10"
  }
 },
 "nbformat": 4,
 "nbformat_minor": 5
}
