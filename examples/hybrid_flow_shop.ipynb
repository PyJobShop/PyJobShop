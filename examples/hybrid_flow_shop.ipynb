{
 "cells": [
  {
   "cell_type": "markdown",
   "id": "0",
   "metadata": {},
   "source": [
    "# Hybrid flow shop\n",
    "\n",
    "The hybrid flow shop (HFS) is a common manufacturing environment in practice and widely studied by scheduling researchers. See for example the surveys by [Ruiz and Vázquez-Rodríguez (2010)](https://www.sciencedirect.com/science/article/pii/S0377221709006390) and [Ribas et al. (2010)](https://www.sciencedirect.com/science/article/pii/S0305054809002883) for an overview of HFS studies.\n",
    "\n",
    "In this notebook, we demonstrate how to model and solve a HFS problem using PyJobShop."
   ]
  },
  {
   "cell_type": "markdown",
   "id": "1",
   "metadata": {},
   "source": [
    "## Problem description\n",
    "The HFS problem is characterized as follows:\n",
    "\n",
    "- There is a set of $n$ jobs that need to be processed in a series of stages.\n",
    "- The number of processing stages is at least 2.\n",
    "- Each stage has at least one machine in parallel, and in at least one stage there is more than one machine.\n",
    "- All jobs are processed in the same production order: production starts in stage 1, then stage 2, etc. until the last stage. A job can only start processing when it has finished processing in the previous stage.\n",
    "\n",
    "The figure below illustrates a small HFS example with three jobs and three stages. The first and third stage have three machines, and the second stage has two machines.\n",
    "\n",
    "![HFS](../assets/hybrid-flow-shop.png \"HFS\")"
   ]
  },
  {
   "cell_type": "markdown",
   "id": "2",
   "metadata": {},
   "source": [
    "We can model an HFS problem using PyJobShop. For each job and each stage $k$, define one task. Moreover, we need to ensure that the previous task (job in stage $k-1$) is processed before, which known as a precedence constraint.\n",
    "\n",
    "Let's now implement the above example using PyJobShop's Model interface."
   ]
  },
  {
   "cell_type": "markdown",
   "id": "3",
   "metadata": {},
   "source": [
    "## Model"
   ]
  },
  {
   "cell_type": "code",
   "execution_count": null,
   "id": "4",
   "metadata": {},
   "outputs": [],
   "source": [
    "num_jobs = 3\n",
    "num_stages = 3\n",
    "num_machines = [3, 2, 3]"
   ]
  },
  {
   "cell_type": "code",
   "execution_count": null,
   "id": "5",
   "metadata": {},
   "outputs": [],
   "source": [
    "from pyjobshop import Model\n",
    "\n",
    "model = Model()"
   ]
  },
  {
   "cell_type": "markdown",
   "id": "6",
   "metadata": {},
   "source": [
    "The following will be helpful to plot names with $\\LaTeX$ typesetting."
   ]
  },
  {
   "cell_type": "code",
   "execution_count": null,
   "id": "7",
   "metadata": {},
   "outputs": [],
   "source": [
    "def machine_name(machine, stage):\n",
    "    return f\"$M_{{{machine}{stage}}}$\"\n",
    "\n",
    "\n",
    "def job_name(job: int, stage: int):\n",
    "    return f\"$J_{{{job}{stage}}}$\""
   ]
  },
  {
   "cell_type": "markdown",
   "id": "8",
   "metadata": {},
   "source": [
    "First define the machine layout:"
   ]
  },
  {
   "cell_type": "code",
   "execution_count": null,
   "id": "9",
   "metadata": {},
   "outputs": [],
   "source": [
    "stage2machines = {}\n",
    "for k in range(num_stages):\n",
    "    stage2machines[k] = [\n",
    "        model.add_machine(name=machine_name(m, k))\n",
    "        for m in range(num_machines[k])\n",
    "    ]"
   ]
  },
  {
   "cell_type": "markdown",
   "id": "10",
   "metadata": {},
   "source": [
    "Now, we need to define jobs and the tasks that have to be scheduled, along with the processing time data and precedence constraints, as mentioned earlier. The way to do this is with the `Model.add_constraint` methods, which allow us to impose constraints between any two tasks. "
   ]
  },
  {
   "cell_type": "code",
   "execution_count": null,
   "id": "11",
   "metadata": {},
   "outputs": [],
   "source": [
    "import random\n",
    "\n",
    "from pyjobshop import Constraint\n",
    "\n",
    "random.seed(42)\n",
    "\n",
    "jobs = [model.add_job() for _ in range(num_jobs)]\n",
    "\n",
    "for j, job in enumerate(jobs):\n",
    "    tasks = [\n",
    "        model.add_task(job=job, name=job_name(j, k)) for k in range(num_stages)\n",
    "    ]\n",
    "\n",
    "    for stage in range(num_stages):\n",
    "        for machine in stage2machines[stage]:\n",
    "            duration = random.randint(1, 20)\n",
    "            model.add_processing_time(machine, tasks[stage], duration)\n",
    "\n",
    "    for idx in range(num_stages - 1):\n",
    "        first = tasks[idx]\n",
    "        second = tasks[idx + 1]\n",
    "        model.add_constraint(first, second, Constraint.END_BEFORE_START)"
   ]
  },
  {
   "cell_type": "code",
   "execution_count": null,
   "id": "12",
   "metadata": {},
   "outputs": [],
   "source": [
    "result = model.solve(log=False)"
   ]
  },
  {
   "cell_type": "code",
   "execution_count": null,
   "id": "13",
   "metadata": {},
   "outputs": [],
   "source": [
    "from pyjobshop import plot\n",
    "\n",
    "data = model.data()\n",
    "plot(data, result.best, plot_labels=True)"
   ]
  },
  {
   "cell_type": "markdown",
   "id": "14",
   "metadata": {},
   "source": [
    "## Conclusion\n",
    "This notebooks showed how to model and solve the hybrid flow shop problem using PyJobShop. Specifically, we show how to define the hybrid flow shop problem in terms of tasks and how to add precedence constraints between tasks."
   ]
  }
 ],
 "metadata": {
  "kernelspec": {
   "display_name": "Python 3 (ipykernel)",
   "language": "python",
   "name": "python3"
  },
  "language_info": {
   "codemirror_mode": {
    "name": "ipython",
    "version": 3
   },
   "file_extension": ".py",
   "mimetype": "text/x-python",
   "name": "python",
   "nbconvert_exporter": "python",
   "pygments_lexer": "ipython3",
   "version": "3.10.10"
  }
 },
 "nbformat": 4,
 "nbformat_minor": 5
}
