{
 "cells": [
  {
   "cell_type": "markdown",
   "id": "0",
   "metadata": {},
   "source": [
    "# Hybrid flow shop\n",
    "\n",
    "[![Open In Colab](https://colab.research.google.com/assets/colab-badge.svg)](https://githubtocolab.com/PyJobShop/PyJobShop/blob/main/examples/hybrid_flow_shop.ipynb)\n",
    "\n",
    "> If you're using this notebook in Google Colab, be sure to install PyJobShop first by executing ```pip install pyjobshop``` in a cell.\n",
    "\n",
    "In this notebook, we demonstrate how to model and solve a hybrid flow shop (HFS) problem using PyJobShop.\n",
    "\n",
    "The HFS is a common manufacturing environment in practice and widely studied by scheduling researchers. See for example the surveys by [Ruiz and Vázquez-Rodríguez (2010)](https://www.sciencedirect.com/science/article/pii/S0377221709006390) and [Ribas et al. (2010)](https://www.sciencedirect.com/science/article/pii/S0305054809002883) for an overview of HFS studies."
   ]
  },
  {
   "cell_type": "markdown",
   "id": "1",
   "metadata": {},
   "source": [
    "## Problem description\n",
    "The HFS problem is characterized as follows:\n",
    "\n",
    "- There is a set of $n$ jobs that need to be processed in a series of stages.\n",
    "- The number of processing stages is at least 2.\n",
    "- Each stage has at least one machine in parallel, and in at least one stage there is more than one machine.\n",
    "- All jobs are processed in the same production order: production starts in stage 1, then stage 2, etc. until the last stage. A job can only start processing when it has finished processing in the previous stage.\n",
    "\n",
    "The figure below illustrates a small HFS example with three jobs and three stages. The first and third stage have three machines, and the second stage has two machines.\n",
    "\n",
    "![HFS](../assets/hybrid-flow-shop.png \"HFS\")"
   ]
  },
  {
   "cell_type": "markdown",
   "id": "2",
   "metadata": {},
   "source": [
    "We can model an HFS problem using PyJobShop. For each job $j$ and each stage $k$, we define a task $t_{jk}$. Moreover, we need to ensure that the previous task $t_{j, k-1}$ is processed before $t_{jk}$ for $k > 1$, which is also known as a _precedence constraint_.\n",
    "\n",
    "Let's now implement the above example using PyJobShop's Model interface."
   ]
  },
  {
   "cell_type": "markdown",
   "id": "3",
   "metadata": {},
   "source": [
    "## Model"
   ]
  },
  {
   "cell_type": "code",
   "execution_count": null,
   "id": "4",
   "metadata": {},
   "outputs": [],
   "source": [
    "num_jobs = 8\n",
    "num_stages = 3\n",
    "num_machines = [2, 3, 2]"
   ]
  },
  {
   "cell_type": "code",
   "execution_count": null,
   "id": "68deb623",
   "metadata": {},
   "outputs": [],
   "source": [
    "import random\n",
    "\n",
    "random.seed(42)\n",
    "\n",
    "PROCESSING_TIMES = {\n",
    "    (job, stage): random.randint(5, 15)\n",
    "    for job in range(num_jobs)\n",
    "    for stage in range(num_stages)\n",
    "}"
   ]
  },
  {
   "cell_type": "markdown",
   "id": "6",
   "metadata": {},
   "source": [
    "The following will be helpful to plot labels with $\\LaTeX$ typesetting."
   ]
  },
  {
   "cell_type": "code",
   "execution_count": null,
   "id": "7",
   "metadata": {},
   "outputs": [],
   "source": [
    "def machine_name(machine, stage):\n",
    "    return f\"$M_{{{machine}{stage}}}$\"\n",
    "\n",
    "\n",
    "def job_name(job: int, stage: int):\n",
    "    return f\"$t_{{{job}{stage}}}$\""
   ]
  },
  {
   "cell_type": "code",
   "execution_count": null,
   "id": "6e61f798",
   "metadata": {},
   "outputs": [],
   "source": [
    "from pyjobshop import Model\n",
    "\n",
    "model = Model()"
   ]
  },
  {
   "cell_type": "markdown",
   "id": "8",
   "metadata": {},
   "source": [
    "First define the machine layout:"
   ]
  },
  {
   "cell_type": "code",
   "execution_count": null,
   "id": "9",
   "metadata": {},
   "outputs": [],
   "source": [
    "stage2machines = {}\n",
    "for k in range(num_stages):\n",
    "    stage2machines[k] = [\n",
    "        model.add_machine(name=machine_name(m, k))\n",
    "        for m in range(num_machines[k])\n",
    "    ]"
   ]
  },
  {
   "cell_type": "markdown",
   "id": "10",
   "metadata": {},
   "source": [
    "Now, we need to define jobs and the tasks that have to be scheduled, along with the processing time data and precedence constraints, as mentioned earlier."
   ]
  },
  {
   "cell_type": "code",
   "execution_count": null,
   "id": "11",
   "metadata": {},
   "outputs": [],
   "source": [
    "jobs = [model.add_job() for _ in range(num_jobs)]\n",
    "\n",
    "for j, job in enumerate(jobs):\n",
    "    tasks = [\n",
    "        model.add_task(job=job, name=job_name(j, k)) for k in range(num_stages)\n",
    "    ]\n",
    "\n",
    "    for stage in range(num_stages):\n",
    "        for machine in stage2machines[stage]:\n",
    "            duration = PROCESSING_TIMES[j, stage]\n",
    "            model.add_mode(tasks[stage], machine, duration)\n",
    "\n",
    "    for idx in range(num_stages - 1):\n",
    "        first = tasks[idx]\n",
    "        second = tasks[idx + 1]\n",
    "        model.add_end_before_start(first, second)"
   ]
  },
  {
   "cell_type": "code",
   "execution_count": null,
   "id": "12",
   "metadata": {},
   "outputs": [],
   "source": [
    "result = model.solve(display=False)\n",
    "print(result)"
   ]
  },
  {
   "cell_type": "code",
   "execution_count": null,
   "id": "13",
   "metadata": {},
   "outputs": [],
   "source": [
    "from pyjobshop.plot import plot_machine_gantt\n",
    "\n",
    "data = model.data()\n",
    "plot_machine_gantt(result.best, model.data(), plot_labels=True)"
   ]
  },
  {
   "cell_type": "markdown",
   "id": "27fde067",
   "metadata": {},
   "source": [
    "## No-wait"
   ]
  },
  {
   "cell_type": "markdown",
   "id": "2ea3ff0e",
   "metadata": {},
   "source": [
    "What if a job $j$ is not allowed to wait, that is, $t_{jk}$ must start processing exactly when $t_{j,k-1}$ is finished?\n",
    "This is known in the literature as the _no-wait_ constraint. The way to implement this constraint with PyJobShop is to use `model.add_end_at_start` instead of `model.add_end_before_start` as precedence constraint. Below we define the same model, but with the precedence constraint replaced."
   ]
  },
  {
   "cell_type": "code",
   "execution_count": null,
   "id": "bcf296c6",
   "metadata": {},
   "outputs": [],
   "source": [
    "model = Model()\n",
    "\n",
    "stage2machines = {}\n",
    "for k in range(num_stages):\n",
    "    stage2machines[k] = [\n",
    "        model.add_machine(name=machine_name(m, k))\n",
    "        for m in range(num_machines[k])\n",
    "    ]\n",
    "\n",
    "jobs = [model.add_job() for _ in range(num_jobs)]\n",
    "\n",
    "for j, job in enumerate(jobs):\n",
    "    tasks = [\n",
    "        model.add_task(job=job, name=job_name(j, k)) for k in range(num_stages)\n",
    "    ]\n",
    "\n",
    "    for stage in range(num_stages):\n",
    "        for machine in stage2machines[stage]:\n",
    "            duration = PROCESSING_TIMES[j, stage]\n",
    "            model.add_mode(tasks[stage], machine, duration)\n",
    "\n",
    "    for idx in range(num_stages - 1):\n",
    "        first = tasks[idx]\n",
    "        second = tasks[idx + 1]\n",
    "        # This is the same as end(first) == start(second).\n",
    "        model.add_end_before_start(first, second)\n",
    "        model.add_start_before_end(second, first)"
   ]
  },
  {
   "cell_type": "code",
   "execution_count": null,
   "id": "acf0d4b4",
   "metadata": {},
   "outputs": [],
   "source": [
    "result = model.solve(display=False)\n",
    "print(result)"
   ]
  },
  {
   "cell_type": "code",
   "execution_count": null,
   "id": "b8027a13",
   "metadata": {},
   "outputs": [],
   "source": [
    "plot_machine_gantt(result.best, model.data(), plot_labels=True)"
   ]
  },
  {
   "cell_type": "markdown",
   "id": "824f84e0",
   "metadata": {},
   "source": [
    "Note that there is no waiting time between any two tasks belonging to the same job."
   ]
  },
  {
   "cell_type": "markdown",
   "id": "83a0d91b",
   "metadata": {},
   "source": [
    "## Blocking"
   ]
  },
  {
   "cell_type": "markdown",
   "id": "82f919a1",
   "metadata": {},
   "source": [
    "Another common constraint in HFS environments is blocking of tasks. In this case, $t_{jk}$ does not need to start right away when $t_{j,k-1}$ is finished, but it will continue to occupy the machine. We can do that by keeping the same constraints as the no-wait setting, but we relax the assumption that tasks have a fixed duration. By default, all tasks have a fixed duration (determined by their processing mode), but in blocking flow shops we can have tasks with variable durations as they depend on whether the machine is blocking or not (with their processing mode defining only a minimum duration).  We can do this by setting the `fixed_duration` to `False` for the task. "
   ]
  },
  {
   "cell_type": "code",
   "execution_count": null,
   "id": "3a3c0617",
   "metadata": {},
   "outputs": [],
   "source": [
    "model = Model()\n",
    "\n",
    "stage2machines = {}\n",
    "for k in range(num_stages):\n",
    "    stage2machines[k] = [\n",
    "        model.add_machine(name=machine_name(m, k))\n",
    "        for m in range(num_machines[k])\n",
    "    ]\n",
    "\n",
    "jobs = [model.add_job() for _ in range(num_jobs)]\n",
    "\n",
    "for j, job in enumerate(jobs):\n",
    "    tasks = [\n",
    "        model.add_task(job=job, fixed_duration=False, name=job_name(j, k))\n",
    "        for k in range(num_stages)\n",
    "    ]\n",
    "\n",
    "    for stage in range(num_stages):\n",
    "        for machine in stage2machines[stage]:\n",
    "            duration = PROCESSING_TIMES[j, stage]\n",
    "            model.add_mode(tasks[stage], machine, duration)\n",
    "\n",
    "    for idx in range(num_stages - 1):\n",
    "        first = tasks[idx]\n",
    "        second = tasks[idx + 1]\n",
    "        # This is the same as end(first) == start(second).\n",
    "        model.add_end_before_start(first, second)\n",
    "        model.add_start_before_end(second, first)"
   ]
  },
  {
   "cell_type": "code",
   "execution_count": null,
   "id": "f7618b09",
   "metadata": {},
   "outputs": [],
   "source": [
    "result = model.solve(display=False)\n",
    "print(result)"
   ]
  },
  {
   "cell_type": "code",
   "execution_count": null,
   "id": "796edd43",
   "metadata": {},
   "outputs": [],
   "source": [
    "plot_machine_gantt(result.best, model.data(), plot_labels=True)"
   ]
  },
  {
   "cell_type": "markdown",
   "id": "14",
   "metadata": {},
   "source": [
    "## Conclusion\n",
    "This notebooks showed how to model and solve the hybrid flow shop problem using PyJobShop. Specifically, we show how to define the hybrid flow shop problem in terms of tasks and how to add precedence constraints between tasks, which result in no-wait and blocking variants of the problem."
   ]
  }
 ],
 "metadata": {
  "kernelspec": {
   "display_name": "Python 3 (ipykernel)",
   "language": "python",
   "name": "python3"
  },
  "language_info": {
   "codemirror_mode": {
    "name": "ipython",
    "version": 3
   },
   "file_extension": ".py",
   "mimetype": "text/x-python",
   "name": "python",
   "nbconvert_exporter": "python",
   "pygments_lexer": "ipython3",
   "version": "3.10.10"
  }
 },
 "nbformat": 4,
 "nbformat_minor": 5
}
