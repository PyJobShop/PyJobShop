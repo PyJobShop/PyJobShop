{
 "cells": [
  {
   "cell_type": "markdown",
   "id": "0",
   "metadata": {},
   "source": [
    "# Hybrid flow shop\n",
    "\n",
    "[![Open In Colab](https://colab.research.google.com/assets/colab-badge.svg)](https://githubtocolab.com/PyJobShop/PyJobShop/blob/main/examples/hybrid_flow_shop.ipynb)\n",
    "\n",
    "> If you're using this notebook in Google Colab, be sure to install PyJobShop first by executing ```pip install pyjobshop``` in a cell.\n",
    "\n",
    "In this notebook, we demonstrate how to model and solve a hybrid flow shop (HFS) problem using PyJobShop.\n",
    "\n",
    "The HFS is a common manufacturing environment in practice and widely studied by scheduling researchers. See for example the surveys by [Ruiz and Vázquez-Rodríguez (2010)](https://www.sciencedirect.com/science/article/pii/S0377221709006390) and [Ribas et al. (2010)](https://www.sciencedirect.com/science/article/pii/S0305054809002883) for an overview of HFS studies."
   ]
  },
  {
   "cell_type": "markdown",
   "id": "1",
   "metadata": {},
   "source": [
    "## Problem description\n",
    "The HFS problem is characterized as follows:\n",
    "\n",
    "- There is a set of $n$ jobs that need to be processed in a series of stages.\n",
    "- The number of processing stages is at least 2.\n",
    "- Each stage has at least one machine in parallel, and in at least one stage there is more than one machine.\n",
    "- All jobs are processed in the same production order: production starts in stage 1, then stage 2, etc. until the last stage. A job can only start processing when it has finished processing in the previous stage.\n",
    "\n",
    "The figure below illustrates a small HFS manufacturing environment. The first stage has three machines, the second stage has two machines, and the third stage has also two machines. Each machine name $M_{kl}$ describes the stage $k$ and $l$-th machine in the stage. The machines in each stage are identical, meaning that each machine has the same processing speed for a given job.\n",
    "\n",
    "```\n",
    "Stage 0        Stage 1        Stage 2\n",
    "┌─────┐        ┌─────┐        ┌─────┐\n",
    "│ M00 │───┬───▶│ M10 │───┬───▶│ M20 │\n",
    "└─────┘   │    └─────┘   │    └─────┘\n",
    "          │              │\n",
    "┌─────┐   │    ┌─────┐   │    ┌─────┐\n",
    "│ M01 │───┼───▶│ M11 │───┴───▶│ M21 │\n",
    "└─────┘   │    └─────┘        └─────┘\n",
    "          │\n",
    "┌─────┐   │\n",
    "│ M02 │───┘\n",
    "└─────┘\n",
    "```"
   ]
  },
  {
   "cell_type": "markdown",
   "id": "2",
   "metadata": {},
   "source": [
    "We can model an HFS problem using PyJobShop. Define a task $T_{jk}$ for each job $j$ and each stage $k$. Each task represents the processing of the given job at the given stage. We also need to make sure that the previous task $T_{j, k-1}$ is processed before $T_{jk}$ for $k > 1$.\n",
    "\n",
    "Let's now implement the above example using PyJobShop."
   ]
  },
  {
   "cell_type": "markdown",
   "id": "72a35a03-bdb0-4df9-bb86-359b44fe0e33",
   "metadata": {},
   "source": [
    "## Data\n",
    "\n",
    "We generate random processing times for the example that we showed above."
   ]
  },
  {
   "cell_type": "code",
   "execution_count": null,
   "id": "d27f9ddf-490e-465b-963b-c138431e070c",
   "metadata": {},
   "outputs": [],
   "source": [
    "import random\n",
    "\n",
    "num_jobs = 8\n",
    "num_stages = 3\n",
    "num_machines = [3, 2, 2]\n",
    "\n",
    "random.seed(42)\n",
    "\n",
    "PROCESSING_TIMES = {\n",
    "    (job, stage): random.randint(5, 15)\n",
    "    for job in range(num_jobs)\n",
    "    for stage in range(num_stages)\n",
    "}"
   ]
  },
  {
   "cell_type": "markdown",
   "id": "3",
   "metadata": {},
   "source": [
    "## Model\n",
    "\n",
    "Now that all our parameters are defined, we can start defining the model."
   ]
  },
  {
   "cell_type": "code",
   "execution_count": null,
   "id": "6e61f798",
   "metadata": {},
   "outputs": [],
   "source": [
    "from pyjobshop import Model\n",
    "\n",
    "model = Model()"
   ]
  },
  {
   "cell_type": "markdown",
   "id": "6",
   "metadata": {},
   "source": [
    "The following functions will nicely typeset the plot labels:"
   ]
  },
  {
   "cell_type": "code",
   "execution_count": null,
   "id": "7",
   "metadata": {},
   "outputs": [],
   "source": [
    "def machine_name(stage: int, machine: int):\n",
    "    return f\"$M_{{{stage}{machine}}}$\"\n",
    "\n",
    "\n",
    "def task_name(job: int, stage: int):\n",
    "    return f\"$T_{{{job}{stage}}}$\""
   ]
  },
  {
   "cell_type": "markdown",
   "id": "8",
   "metadata": {},
   "source": [
    "First define the machine environment, where we group the machines by their stage:"
   ]
  },
  {
   "cell_type": "code",
   "execution_count": null,
   "id": "9",
   "metadata": {},
   "outputs": [],
   "source": [
    "machines = [\n",
    "    [model.add_machine(name=machine_name(k, m)) for m in range(num)]\n",
    "    for k, num in enumerate(num_machines)\n",
    "]"
   ]
  },
  {
   "cell_type": "markdown",
   "id": "10",
   "metadata": {},
   "source": [
    "Now, we need to define jobs and the tasks that have to be scheduled."
   ]
  },
  {
   "cell_type": "code",
   "execution_count": null,
   "id": "11",
   "metadata": {},
   "outputs": [],
   "source": [
    "jobs = [model.add_job() for _ in range(num_jobs)]\n",
    "tasks = {}\n",
    "\n",
    "for j, job in enumerate(jobs):\n",
    "    for k in range(num_stages):\n",
    "        tasks[j, k] = model.add_task(job, name=task_name(j, k))"
   ]
  },
  {
   "cell_type": "markdown",
   "id": "cb37928d-6bef-4e3e-b623-d59a836e1475",
   "metadata": {},
   "source": [
    "Next, we have to add processing times for each task through defining the corresponding modes. Remember that each task can be processed on every machine in its given stage, so we have to define a mode for every machine."
   ]
  },
  {
   "cell_type": "code",
   "execution_count": null,
   "id": "346c88b0-a85b-456c-91e2-443a71db3475",
   "metadata": {},
   "outputs": [],
   "source": [
    "for j in range(num_jobs):\n",
    "    for k in range(num_stages):\n",
    "        for machine in machines[k]:\n",
    "            task = tasks[j, k]\n",
    "            duration = PROCESSING_TIMES[j, k]\n",
    "            model.add_mode(task, machine, duration)"
   ]
  },
  {
   "cell_type": "markdown",
   "id": "6f1fb932-644b-44d9-9227-1bf269d7a514",
   "metadata": {},
   "source": [
    "The final restriction is to make sure that the previous task $T_{j, k-1}$ is processed before $T_{jk}$ for $k > 1$, which can be achieved by adding precedence constraints."
   ]
  },
  {
   "cell_type": "code",
   "execution_count": null,
   "id": "84606f00-cc9c-4602-b364-d849f32a5794",
   "metadata": {},
   "outputs": [],
   "source": [
    "for j in range(num_jobs):\n",
    "    for k in range(num_stages - 1):\n",
    "        first = tasks[j, k]\n",
    "        second = tasks[j, k + 1]\n",
    "        model.add_end_before_start(first, second)"
   ]
  },
  {
   "cell_type": "markdown",
   "id": "b982c68d-2726-4f15-ab8c-c33cbe7193c5",
   "metadata": {},
   "source": [
    "That's it! We've completed the modeling of an HFS problem instance. Let's now solve it and plot the Gantt chart."
   ]
  },
  {
   "cell_type": "code",
   "execution_count": null,
   "id": "12",
   "metadata": {},
   "outputs": [],
   "source": [
    "result = model.solve(display=False)\n",
    "print(result)"
   ]
  },
  {
   "cell_type": "markdown",
   "id": "dffa024f-aa91-41c9-a725-080ba8f425e9",
   "metadata": {},
   "source": [
    "Let's now plot the solution that we've found."
   ]
  },
  {
   "cell_type": "code",
   "execution_count": null,
   "id": "13",
   "metadata": {},
   "outputs": [],
   "source": [
    "from pyjobshop.plot import plot_machine_gantt\n",
    "\n",
    "data = model.data()\n",
    "plot_machine_gantt(result.best, model.data(), plot_labels=True)"
   ]
  },
  {
   "cell_type": "markdown",
   "id": "9765d58f-e3af-4f61-961f-3fccafba3169",
   "metadata": {},
   "source": [
    "Let's visually check a few things:\n",
    "- Each job is scheduled in each stage exactly once.\n",
    "- For each job, tasks on consecutive machines maintain proper sequencing (one completes before the next begins).\n",
    "\n",
    "Great! Let's look at a more complex version of HFS next."
   ]
  },
  {
   "cell_type": "markdown",
   "id": "77b7d311-b1b6-4109-a234-6f1960cefe43",
   "metadata": {},
   "source": [
    "## Transportation restrictions\n",
    "\n",
    "In some manufacturing environments, there are physical restrictions on how jobs can move between machines. For example, conveyor belts or material handling systems may only connect specific machines."
   ]
  },
  {
   "cell_type": "markdown",
   "id": "371bf08d-0319-4a5b-b7e4-7eb3eaa6fb80",
   "metadata": {},
   "source": [
    "Let's introduce some transportation restrictions to the machine environment that we considered earlier:\n",
    "\n",
    "```\n",
    "Stage 0        Stage 1        Stage 2\n",
    "┌─────┐        ┌─────┐        ┌─────┐\n",
    "│ M00 │───────▶│ M10 │───────▶│ M20 │\n",
    "└─────┘        └─────┘        └─────┘\n",
    "\n",
    "┌─────┐        ┌─────┐        ┌─────┐\n",
    "│ M01 │───┬───▶│ M11 │───────▶│ M21 │\n",
    "└─────┘   │    └─────┘        └─────┘\n",
    "          │\n",
    "┌─────┐   │\n",
    "│ M02 │───┘\n",
    "└─────┘\n",
    "```\n",
    "\n",
    "This is a three-stage flexible flow shop with dedicated routing constraints. Jobs scheduled on $M_{00}$ can only be processed on $M_{10}$ next, then must proceed to $M_{20}$. Similarly, jobs on $M_{01}$ or $M_{02}$ can only move to $M_{11}$, then to $M_{21}$.\n",
    "\n",
    "This creates two distinct processing paths:\n",
    "1. $M_{00} \\rightarrow M_{10} \\rightarrow M_{20}$\n",
    "2. $\\{M_{01}, M_{02}\\} \\rightarrow M_{11} \\rightarrow M_{21}$"
   ]
  },
  {
   "cell_type": "markdown",
   "id": "7cf23737-da7a-4b51-9ab7-77c2cfbe99c0",
   "metadata": {},
   "source": [
    "To model such dependencies, we can use the [`ModeDependency`](https://pyjobshop.org/stable/api/pyjobshop.html#pyjobshop.ProblemData.ModeDependency) constraint. If a mode is selected for one task, this constraint restricts which modes can be selected for another task.\n",
    "\n",
    "Let's start by copying the previous HFS example, where we also store all modes:"
   ]
  },
  {
   "cell_type": "code",
   "execution_count": null,
   "id": "abc1a0c0-7993-4fd7-a827-ec1b58809120",
   "metadata": {},
   "outputs": [],
   "source": [
    "model = Model()\n",
    "\n",
    "machines = [\n",
    "    [model.add_machine(name=machine_name(k, m)) for m in range(num)]\n",
    "    for k, num in enumerate(num_machines)\n",
    "]\n",
    "\n",
    "jobs = [model.add_job() for _ in range(num_jobs)]\n",
    "tasks = {}\n",
    "modes = {}\n",
    "\n",
    "for j, job in enumerate(jobs):\n",
    "    for k in range(num_stages):\n",
    "        task = model.add_task(job, name=task_name(j, k))\n",
    "        tasks[j, k] = task\n",
    "\n",
    "    for k in range(num_stages):\n",
    "        for m, machine in enumerate(machines[k]):\n",
    "            task = tasks[j, k]\n",
    "            duration = PROCESSING_TIMES[j, k]\n",
    "            mode = model.add_mode(task, machine, duration)\n",
    "            modes[j, k, m] = mode\n",
    "\n",
    "    for k in range(num_stages - 1):\n",
    "        first = tasks[j, k]\n",
    "        second = tasks[j, k + 1]\n",
    "        model.add_end_before_start(first, second)"
   ]
  },
  {
   "cell_type": "markdown",
   "id": "466dc9ba-f738-438d-972e-c26c9ca8fd8b",
   "metadata": {},
   "source": [
    "Now we add the transportation restrictions using mode dependencies:"
   ]
  },
  {
   "cell_type": "code",
   "execution_count": null,
   "id": "f6d375e6-1d83-4c07-a03c-d6e6e341a6c1",
   "metadata": {},
   "outputs": [],
   "source": [
    "transportation_connections = {\n",
    "    (0, 0): [(1, 0)],  # M00 -> M10\n",
    "    (0, 1): [(1, 1)],  # M01 -> M11\n",
    "    (0, 2): [(1, 1)],  # M02 -> M11\n",
    "    (1, 0): [(2, 0)],  # M10 -> M20\n",
    "    (1, 1): [(2, 1)],  # M11 -> M21\n",
    "}\n",
    "\n",
    "for job_idx in range(num_jobs):\n",
    "    for stage in range(num_stages - 1):\n",
    "        next_stage = stage + 1\n",
    "\n",
    "        for from_machine_idx in range(num_machines[stage]):\n",
    "            from_key = (stage, from_machine_idx)\n",
    "            from_mode = modes[job_idx, stage, from_machine_idx]\n",
    "\n",
    "            if from_key in transportation_connections:\n",
    "                allowed_destinations = transportation_connections[from_key]\n",
    "                allowed_modes = [\n",
    "                    modes[job_idx, to_stage, to_machine_idx]\n",
    "                    for to_stage, to_machine_idx in allowed_destinations\n",
    "                    if to_stage == next_stage\n",
    "                ]\n",
    "\n",
    "                if allowed_modes:\n",
    "                    model.add_mode_dependency(from_mode, allowed_modes)"
   ]
  },
  {
   "cell_type": "code",
   "execution_count": null,
   "id": "ddddb6bb-a0e3-46b9-b213-8ea6d48ae275",
   "metadata": {},
   "outputs": [],
   "source": [
    "result = model.solve(display=False)\n",
    "print(result)"
   ]
  },
  {
   "cell_type": "code",
   "execution_count": null,
   "id": "f176e26b-f74e-4739-93d7-27dcb2112999",
   "metadata": {},
   "outputs": [],
   "source": [
    "plot_machine_gantt(result.best, model.data(), plot_labels=True)"
   ]
  },
  {
   "cell_type": "markdown",
   "id": "25cefed2-3eab-454d-9765-249b016adeed",
   "metadata": {},
   "source": [
    "We can verify that tasks belonging to the same job either follow path 1 ($M_{00} \\rightarrow M_{10} \\rightarrow M_{20}$) or path 2 ($\\{M_{01}, M_{02}\\} \\rightarrow M_{11} \\rightarrow M_{21}$), meaning that all transportation restrictions are respected."
   ]
  },
  {
   "cell_type": "markdown",
   "id": "14",
   "metadata": {},
   "source": [
    "## Conclusion\n",
    "This notebook demonstrated how to model and solve hybrid flow shop problems using PyJobShop. We showed how to model:\n",
    "\n",
    "1. Classic HFS: Define tasks, modes, and precedence constraints to create a standard hybrid flow shop\n",
    "2. HFS with transportation restrictions: Use mode dependencies to restrict which machines can be used in sequence, modeling physical transportation restrictions in manufacturing environments"
   ]
  }
 ],
 "metadata": {
  "kernelspec": {
   "display_name": "Python 3 (ipykernel)",
   "language": "python",
   "name": "python3"
  },
  "language_info": {
   "codemirror_mode": {
    "name": "ipython",
    "version": 3
   },
   "file_extension": ".py",
   "mimetype": "text/x-python",
   "name": "python",
   "nbconvert_exporter": "python",
   "pygments_lexer": "ipython3",
   "version": "3.12.7"
  }
 },
 "nbformat": 4,
 "nbformat_minor": 5
}
