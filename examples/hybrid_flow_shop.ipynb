{
 "cells": [
  {
   "cell_type": "markdown",
   "id": "ee471b19",
   "metadata": {},
   "source": [
    "# Hybrid flow shop\n",
    "\n",
    "The hybrid flow shop (HFS) is a common manufacturing environment in practice and widely studied by scheduling researchers. See for example the surveys by [Ruiz and Vázquez-Rodríguez (2010)](https://www.sciencedirect.com/science/article/pii/S0377221709006390) and [Ribas et al. (2010)](https://www.sciencedirect.com/science/article/pii/S0305054809002883) for an overview of HFS studies.\n",
    "\n",
    "In this notebook, we demonstrate how to model a HFS problem using PyJobShop. We also show how to model the _accessibility_ constraint, which is a common constraint in manufacturing systems that have physical transportation constraints."
   ]
  },
  {
   "cell_type": "markdown",
   "id": "f1460ca9",
   "metadata": {},
   "source": [
    "## Problem description\n",
    "The HFS problem is characterized as follows:\n",
    "- There is a set of $n$ jobs that need to be processed in a series of stages.\n",
    "- The number of processing stages is at least 2.\n",
    "- Each stage has at least one machine in parallel, and in at least one stage there is more than one machine.\n",
    "- All jobs are processed in the same production order: production starts in stage 1, then stage 2, etc. until the last stage. A job can only start processing when it has finished processing in the previous stage.\n",
    "\n",
    "The figure below illustrates a small HFS example with three jobs and three stages. The first and third stage have three machines, and the second stage has two machines.\n",
    "\n",
    "![HFS](../assets/hybrid-flow-shop.png \"HFS\")"
   ]
  },
  {
   "cell_type": "markdown",
   "id": "08b2692e",
   "metadata": {},
   "source": [
    "## Problem data\n",
    "Let's now implement the simple example from above using PyJobShop."
   ]
  },
  {
   "cell_type": "code",
   "execution_count": 1,
   "id": "799297db",
   "metadata": {},
   "outputs": [],
   "source": [
    "import random"
   ]
  },
  {
   "cell_type": "code",
   "execution_count": 2,
   "id": "47996d01",
   "metadata": {},
   "outputs": [],
   "source": [
    "num_jobs = 3\n",
    "num_stages = 3\n",
    "num_machines = [3, 2, 3]"
   ]
  },
  {
   "cell_type": "code",
   "execution_count": 3,
   "id": "1ad77ff3",
   "metadata": {},
   "outputs": [],
   "source": [
    "from pyjobshop import Model\n",
    "\n",
    "model = Model()\n",
    "\n",
    "jobs = [model.add_job() for _ in range(num_jobs)]\n",
    "\n",
    "\n",
    "def machine_name(machine, stage):\n",
    "    return f\"$M_{{{machine}{stage}}}$\"\n",
    "\n",
    "\n",
    "stage2machines = {}\n",
    "for k in range(num_stages):\n",
    "    stage2machines[k] = [\n",
    "        model.add_machine(name=machine_name(m, k))\n",
    "        for m in range(num_machines[k])\n",
    "    ]"
   ]
  },
  {
   "cell_type": "markdown",
   "id": "bd5d8b3b",
   "metadata": {},
   "source": [
    "Now we need to define the operations that have to be scheduled, along with the processing time data."
   ]
  },
  {
   "cell_type": "code",
   "execution_count": 4,
   "id": "f9cad646",
   "metadata": {},
   "outputs": [],
   "source": [
    "def job_name(job: int, stage: int):\n",
    "    return f\"$J_{{{job}{stage}}}$\"\n",
    "\n",
    "\n",
    "for j, job in enumerate(jobs):\n",
    "    operations = [\n",
    "        model.add_operation(job=job, name=job_name(j, k))\n",
    "        for k in range(num_stages)\n",
    "    ]\n",
    "\n",
    "    for stage in range(num_stages):\n",
    "        for machine in stage2machines[stage]:\n",
    "            duration = random.randint(1, 50)\n",
    "            model.add_processing_time(machine, operations[stage], duration)\n",
    "\n",
    "    for idx in range(num_stages - 1):\n",
    "        first = operations[idx]\n",
    "        second = operations[idx + 1]\n",
    "        model.add_timing_precedence(first, second)"
   ]
  },
  {
   "cell_type": "code",
   "execution_count": 5,
   "id": "2f5555dc",
   "metadata": {},
   "outputs": [],
   "source": [
    "result = model.solve()"
   ]
  },
  {
   "cell_type": "code",
   "execution_count": 6,
   "id": "c103cbc1",
   "metadata": {},
   "outputs": [
    {
     "data": {
      "image/png": "[encoded data removed]",
      "text/plain": [
       "<Figure size 1200x800 with 1 Axes>"
      ]
     },
     "metadata": {},
     "output_type": "display_data"
    }
   ],
   "source": [
    "from pyjobshop import plot\n",
    "\n",
    "data = model.data()\n",
    "plot(data, result.solution, plot_labels=True)"
   ]
  }
 ],
 "metadata": {
  "kernelspec": {
   "display_name": "Python 3 (ipykernel)",
   "language": "python",
   "name": "python3"
  },
  "language_info": {
   "codemirror_mode": {
    "name": "ipython",
    "version": 3
   },
   "file_extension": ".py",
   "mimetype": "text/x-python",
   "name": "python",
   "nbconvert_exporter": "python",
   "pygments_lexer": "ipython3",
   "version": "3.10.10"
  }
 },
 "nbformat": 4,
 "nbformat_minor": 5
}
