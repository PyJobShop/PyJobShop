{
 "cells": [
  {
   "cell_type": "markdown",
   "id": "e1b88e02-ce75-44f6-9e72-a70fc028607f",
   "metadata": {},
   "source": [
    "# A simple job shop example\n",
    "In this notebook, we show you how to model and solve a simple job shop problem with PyJobShop.\n",
    "\n",
    "A scheduling problem consists of three main elements:\n",
    "- **Machine**: a machine is a unary resource that can process an operation.\n",
    "- **Operation**: an operation is a processing task that needs to be completed.\n",
    "- **Job**: this represents the collection of operations that need to be performed, as is used to measure performance such as completion times or tardiness.\n",
    "\n",
    "In the job shop problem, there are $n$ jobs and $m$ machines. For each job, we have a sequence of operations\n",
    "Let's consider the job shop example from [Google OR-Tools](https://developers.google.com/optimization/scheduling/job_shop)."
   ]
  },
  {
   "cell_type": "code",
   "execution_count": 9,
   "id": "c4c2c02b-62d6-4cfd-9f0b-b2b0045312f5",
   "metadata": {},
   "outputs": [],
   "source": [
    "data = [\n",
    "    [(0, 3), (1, 2), (2, 2)],\n",
    "    [(0, 2), (2, 1), (1, 4)],\n",
    "    [(1, 4), (2, 3)],\n",
    "]\n",
    "\n",
    "NUM_MACHINES = 3"
   ]
  },
  {
   "cell_type": "markdown",
   "id": "b7895374-cf43-4fd2-9341-5981caf9c944",
   "metadata": {},
   "source": [
    "Here we have three jobs. Each job consists of a list of tuples, each of which represents an operation, and the first index denotes the machine that can process it and the second "
   ]
  },
  {
   "cell_type": "code",
   "execution_count": 10,
   "id": "341dff7f-7d8a-43fb-9561-9378113004bc",
   "metadata": {},
   "outputs": [],
   "source": [
    "from pyjobshop import Model, TimingPrecedence, plot, result2solution"
   ]
  },
  {
   "cell_type": "code",
   "execution_count": 11,
   "id": "6ed5cc69-0b2d-4308-9185-da6ac25d36dd",
   "metadata": {},
   "outputs": [],
   "source": [
    "model = Model()"
   ]
  },
  {
   "cell_type": "code",
   "execution_count": 12,
   "id": "d81f7986-8b96-4268-a5f6-2d5471ffd9ae",
   "metadata": {},
   "outputs": [],
   "source": [
    "machines = [model.add_machine() for _ in range(NUM_MACHINES)]"
   ]
  },
  {
   "cell_type": "code",
   "execution_count": 13,
   "id": "d9577806-7a1c-4f08-a489-76c65e51ffb6",
   "metadata": {},
   "outputs": [],
   "source": [
    "jobs = [model.add_job() for _ in range(len(data))]"
   ]
  },
  {
   "cell_type": "code",
   "execution_count": 14,
   "id": "206acd14-c3ee-4183-90c3-dbffe8b4dc60",
   "metadata": {},
   "outputs": [],
   "source": [
    "for job_idx, operations in enumerate(data):\n",
    "    ops = []\n",
    "\n",
    "    for machine_idx, duration in operations:\n",
    "        operation = model.add_operation()\n",
    "        model.assign_job_operations(jobs[job_idx], [operation])\n",
    "        model.add_processing_time(machines[machine_idx], operation, duration)\n",
    "\n",
    "    for idx in range(len(ops)):\n",
    "        model.add_timing_precedence(\n",
    "            ops[idx],\n",
    "            ops[idx + 1],\n",
    "            TimingPrecedence.END_BEFORE_START,\n",
    "        )"
   ]
  },
  {
   "cell_type": "code",
   "execution_count": 15,
   "id": "7e17671d-55c5-45fd-8b19-b55a624d38a0",
   "metadata": {},
   "outputs": [],
   "source": [
    "result = model.solve()"
   ]
  },
  {
   "cell_type": "code",
   "execution_count": 16,
   "id": "fb29149c-8387-4c9d-91d1-c9df8dbf975e",
   "metadata": {},
   "outputs": [
    {
     "data": {
      "image/png": "[encoded data removed]",
      "text/plain": [
       "<Figure size 1200x800 with 1 Axes>"
      ]
     },
     "metadata": {},
     "output_type": "display_data"
    }
   ],
   "source": [
    "data = model.data()\n",
    "solution = result2solution(data, result)\n",
    "\n",
    "plot(data, solution)"
   ]
  }
 ],
 "metadata": {
  "kernelspec": {
   "display_name": "Python 3 (ipykernel)",
   "language": "python",
   "name": "python3"
  },
  "language_info": {
   "codemirror_mode": {
    "name": "ipython",
    "version": 3
   },
   "file_extension": ".py",
   "mimetype": "text/x-python",
   "name": "python",
   "nbconvert_exporter": "python",
   "pygments_lexer": "ipython3",
   "version": "3.10.10"
  }
 },
 "nbformat": 4,
 "nbformat_minor": 5
}
