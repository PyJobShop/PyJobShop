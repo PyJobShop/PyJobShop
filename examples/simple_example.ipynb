{
 "cells": [
  {
   "cell_type": "code",
   "execution_count": 1,
   "metadata": {},
   "outputs": [],
   "source": [
    "import random\n",
    "\n",
    "from pyjobshop import Model\n",
    "\n",
    "m = Model()\n",
    "jobs = [m.add_job() for _ in range(4)]\n",
    "machines = [m.add_machine() for _ in range(2)]\n",
    "\n",
    "for job in jobs:\n",
    "    operations = [m.add_operation(job=job) for _ in range(4)]\n",
    "\n",
    "    for op in operations:\n",
    "        for machine in machines:\n",
    "            duration = random.randint(1, 10)\n",
    "            m.add_processing_time(machine, op, duration)\n",
    "\n",
    "result = m.solve()"
   ]
  },
  {
   "cell_type": "code",
   "execution_count": 9,
   "metadata": {},
   "outputs": [
    {
     "data": {
      "text/plain": [
       "[<pyjobshop.Solution.Task at 0x114003c70>,\n",
       " <pyjobshop.Solution.Task at 0x114002470>,\n",
       " <pyjobshop.Solution.Task at 0x1140018d0>,\n",
       " <pyjobshop.Solution.Task at 0x114003cd0>,\n",
       " <pyjobshop.Solution.Task at 0x114002410>,\n",
       " <pyjobshop.Solution.Task at 0x114001d80>,\n",
       " <pyjobshop.Solution.Task at 0x114003d00>,\n",
       " <pyjobshop.Solution.Task at 0x114003df0>,\n",
       " <pyjobshop.Solution.Task at 0x114003eb0>,\n",
       " <pyjobshop.Solution.Task at 0x114003f70>,\n",
       " <pyjobshop.Solution.Task at 0x114003ca0>,\n",
       " <pyjobshop.Solution.Task at 0x114003f40>,\n",
       " <pyjobshop.Solution.Task at 0x114003e80>,\n",
       " <pyjobshop.Solution.Task at 0x114003dc0>,\n",
       " <pyjobshop.Solution.Task at 0x114003d30>,\n",
       " <pyjobshop.Solution.Task at 0x114049a20>]"
      ]
     },
     "execution_count": 9,
     "metadata": {},
     "output_type": "execute_result"
    }
   ],
   "source": [
    "result.solution.schedule"
   ]
  }
 ],
 "metadata": {
  "kernelspec": {
   "display_name": "Python 3 (ipykernel)",
   "language": "python",
   "name": "python3"
  },
  "language_info": {
   "codemirror_mode": {
    "name": "ipython",
    "version": 3
   },
   "file_extension": ".py",
   "mimetype": "text/x-python",
   "name": "python",
   "nbconvert_exporter": "python",
   "pygments_lexer": "ipython3",
   "version": "3.10.10"
  }
 },
 "nbformat": 4,
 "nbformat_minor": 4
}
