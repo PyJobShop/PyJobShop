{
 "cells": [
  {
   "cell_type": "markdown",
   "id": "e1b88e02-ce75-44f6-9e72-a70fc028607f",
   "metadata": {},
   "source": [
    "# A simple example\n",
    "In this notebook, we show you how to model and solve a simple flexible job shop problem with PyJobShop.\n",
    "\n",
    "A scheduling problem consists of three main elements:\n",
    "\n",
    "- **Machines**: a machine is a resource that can process operations.\n",
    "- **Operations**: an operation is a task that needs to be scheduled, i.e., its starting time, ending time and selected machine must be decided.\n",
    "- **Jobs**: a job represents a collection of operations and can be used to measure performance metrics such as completion times or tardiness."
   ]
  },
  {
   "cell_type": "markdown",
   "id": "11735a9c-1865-40c1-81f4-5b453a8ebdff",
   "metadata": {},
   "source": [
    "The Flexible Job Shop Problem (FJSP) is a commonly studied scheduling problem that generalizes many known scheduling problem variants. \n",
    "In the FJSP, there is a set of machines $M$ and a set of jobs $J$.\n",
    "Each job is composed of a sequence of operations denoted by $O$, which must be performed in sequence.\n",
    "Each operation needs to be processed by exactly one machine that is selected from a set of eligible machines.\n",
    "The main goal of the FJSP is commonly to minimize the makespan."
   ]
  },
  {
   "cell_type": "markdown",
   "id": "eee62f5f-6592-4c6a-98a9-275a0cbba6d9",
   "metadata": {},
   "source": [
    "Let's consider a simple example from [Google OR-Tools](https://github.com/google/or-tools/blob/master/examples/python/flexible_job_shop_sat.py). Below we have a data instance with three machines and three jobs, each job consisting of three operations."
   ]
  },
  {
   "cell_type": "code",
   "execution_count": null,
   "id": "c4c2c02b-62d6-4cfd-9f0b-b2b0045312f5",
   "metadata": {},
   "outputs": [],
   "source": [
    "NUM_MACHINES = 3\n",
    "\n",
    "# Each job consists of a list of operations. An operation is represented\n",
    "# by a list of tuples (processing_time, machine), denoting the eligible\n",
    "# machine assignments and corresponding processing times.\n",
    "data = [\n",
    "    [  # Job with three operations\n",
    "        [(3, 0), (1, 1), (5, 2)],  # Operation with three eligible machines\n",
    "        [(2, 0), (4, 1), (6, 2)],\n",
    "        [(2, 0), (3, 1), (1, 2)],\n",
    "    ],\n",
    "    [\n",
    "        [(2, 0), (3, 1), (4, 2)],\n",
    "        [(1, 0), (5, 1), (4, 2)],\n",
    "        [(2, 0), (1, 1), (4, 2)],\n",
    "    ],\n",
    "    [\n",
    "        [(2, 0), (1, 1), (4, 2)],\n",
    "        [(2, 0), (3, 1), (4, 2)],\n",
    "        [(3, 0), (1, 1), (5, 2)],\n",
    "    ],\n",
    "]"
   ]
  },
  {
   "cell_type": "markdown",
   "id": "acfe5eb5-9e2c-42ba-9297-8c7f06f32b5e",
   "metadata": {},
   "source": [
    "PyJobShop provides a simple modeling interface through its `Model` class.\n",
    "Let's import the `Model` class and initialize it."
   ]
  },
  {
   "cell_type": "code",
   "execution_count": null,
   "id": "341dff7f-7d8a-43fb-9561-9378113004bc",
   "metadata": {},
   "outputs": [],
   "source": [
    "from pyjobshop import Model\n",
    "\n",
    "m = Model()"
   ]
  },
  {
   "cell_type": "markdown",
   "id": "ce34178f-7674-4eb9-a7e2-76a72d234bf2",
   "metadata": {},
   "source": [
    "Data objects such as machines, jobs and operations can be created with the `Model.add_*` method."
   ]
  },
  {
   "cell_type": "code",
   "execution_count": null,
   "id": "4d8dd2b8-945a-4b2b-b284-79ba31adfae0",
   "metadata": {},
   "outputs": [],
   "source": [
    "machines = [\n",
    "    m.add_machine(name=f\"Machine {idx}\") for idx in range(NUM_MACHINES)\n",
    "]"
   ]
  },
  {
   "cell_type": "code",
   "execution_count": null,
   "id": "206acd14-c3ee-4183-90c3-dbffe8b4dc60",
   "metadata": {},
   "outputs": [],
   "source": [
    "jobs = {}\n",
    "operations = {}\n",
    "\n",
    "for job_idx, job_data in enumerate(data):\n",
    "    job = m.add_job(name=f\"Job {job_idx}\")\n",
    "    jobs[job_idx] = job\n",
    "\n",
    "    for idx in range(len(job_data)):\n",
    "        op_idx = idx = (job_idx, idx)\n",
    "        operations[op_idx] = m.add_operation(job, name=f\"Op {op_idx}\")"
   ]
  },
  {
   "cell_type": "markdown",
   "id": "e8eed9b7-2af5-4374-ad0d-64f5dad1c12b",
   "metadata": {},
   "source": [
    "There are three more things that we need to add to the model:\n",
    "- Operations have to be associated with their corresponding job;\n",
    "- Processing times of specific operation and machine combinations must be set;\n",
    "- Operations of the same job must be processed in a given order;\n",
    "\n",
    "\n",
    "Let's add the remaining three steps to the model."
   ]
  },
  {
   "cell_type": "code",
   "execution_count": null,
   "id": "c627538c-1e66-442b-a94d-10d6128d838d",
   "metadata": {},
   "outputs": [],
   "source": [
    "for job_idx, job_data in enumerate(data):\n",
    "    for idx, operation_data in enumerate(job_data):\n",
    "        operation = operations[(job_idx, idx)]\n",
    "\n",
    "        for duration, machine_idx in operation_data:\n",
    "            machine = machines[machine_idx]\n",
    "            m.add_processing_time(machine, operation, duration)\n",
    "\n",
    "    for idx in range(len(job_data) - 1):\n",
    "        first = operations[(job_idx, idx)]\n",
    "        second = operations[(job_idx, idx + 1)]\n",
    "        m.add_timing_precedence(first, second)"
   ]
  },
  {
   "cell_type": "markdown",
   "id": "06bd5f30-4cd0-4d1d-8623-42c87a110459",
   "metadata": {},
   "source": [
    "Now that we have our model setup correctly, we can solve the model."
   ]
  },
  {
   "cell_type": "code",
   "execution_count": null,
   "id": "7e17671d-55c5-45fd-8b19-b55a624d38a0",
   "metadata": {},
   "outputs": [],
   "source": [
    "result = m.solve()"
   ]
  },
  {
   "cell_type": "markdown",
   "id": "3071f56b-96aa-4c85-a3ba-b69964518bb1",
   "metadata": {},
   "source": [
    "The output above is from CP Optimizer and shows the solver output. Turns out we have found the optimal solution! Let's plot that solution."
   ]
  },
  {
   "cell_type": "code",
   "execution_count": null,
   "id": "dc8965bc-a4b3-4f19-a4f8-1495dd1826dc",
   "metadata": {},
   "outputs": [],
   "source": [
    "from pyjobshop import plot"
   ]
  },
  {
   "cell_type": "code",
   "execution_count": null,
   "id": "fb29149c-8387-4c9d-91d1-c9df8dbf975e",
   "metadata": {},
   "outputs": [],
   "source": [
    "data = m.data()\n",
    "plot(data, result.solution, plot_labels=True)"
   ]
  },
  {
   "cell_type": "markdown",
   "id": "10d8cea2-26d7-4783-9275-160dbf95ca63",
   "metadata": {},
   "source": [
    "The plot shows a Gantt chart of our solution. Each row represents a machine and each horizontal bar represents an operation.\n",
    "The colors of the operations depict the individual jobs they are associated with, with each job having a unique color."
   ]
  },
  {
   "cell_type": "markdown",
   "id": "874d1943-5723-4dac-a703-42a927132edf",
   "metadata": {},
   "source": [
    "## Summary\n",
    "This concludes the notebook. We showed how to set up a simple FJSP problem instance using PyJobShop's modeling interface. After setup, we solved the model and plotted the optimal solution."
   ]
  }
 ],
 "metadata": {
  "kernelspec": {
   "display_name": "Python 3 (ipykernel)",
   "language": "python",
   "name": "python3"
  },
  "language_info": {
   "codemirror_mode": {
    "name": "ipython",
    "version": 3
   },
   "file_extension": ".py",
   "mimetype": "text/x-python",
   "name": "python",
   "nbconvert_exporter": "python",
   "pygments_lexer": "ipython3",
   "version": "3.10.10"
  }
 },
 "nbformat": 4,
 "nbformat_minor": 5
}
