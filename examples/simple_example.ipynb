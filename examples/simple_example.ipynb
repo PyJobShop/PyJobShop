{
 "cells": [
  {
   "cell_type": "markdown",
   "metadata": {},
   "source": [
    "# Simple example \n",
    "[![Open In Colab](https://colab.research.google.com/assets/colab-badge.svg)](https://githubtocolab.com/PyJobShop/PyJobShop/blob/main/examples/simple_example.ipynb)\n",
    "\n",
    "> If you're using this notebook in Google Colab, be sure to install PyJobShop first by executing ```pip install pyjobshop``` in a cell."
   ]
  },
  {
   "cell_type": "markdown",
   "metadata": {},
   "source": [
    "This notebook provides a brief overview of PyJobShop's modeling features for solving scheduling problems, specifically:\n",
    "\n",
    "- How to model a simple scheduling problem using PyJobShop's `Model` interface,\n",
    "- How to inspect the resulting solution, and\n",
    "- How to plot the found solution."
   ]
  },
  {
   "cell_type": "code",
   "execution_count": 1,
   "metadata": {
    "ExecuteTime": {
     "end_time": "2024-11-14T11:25:20.246263Z",
     "start_time": "2024-11-14T11:25:19.163991Z"
    }
   },
   "outputs": [],
   "source": [
    "from pyjobshop import Model\n",
    "\n",
    "model = Model()"
   ]
  },
  {
   "cell_type": "markdown",
   "metadata": {},
   "source": [
    "Let's add some data to the model. We add four jobs, each consisting of two tasks."
   ]
  },
  {
   "cell_type": "code",
   "execution_count": 2,
   "metadata": {
    "ExecuteTime": {
     "end_time": "2024-11-14T11:25:20.262273Z",
     "start_time": "2024-11-14T11:25:20.247268Z"
    }
   },
   "outputs": [],
   "source": [
    "jobs = [model.add_job() for _ in range(4)]\n",
    "tasks = [[model.add_task(job=job) for _ in range(2)] for job in jobs]"
   ]
  },
  {
   "cell_type": "markdown",
   "metadata": {},
   "source": [
    "Passing the `job` argument to `m.add_task(job=job)` ensures that the created task belongs to the right job.\n",
    "Next, we have to create the machines and also specify processing times for each task. The duration of a task is equal to the job index plus one (1, 2, 3 or 4)."
   ]
  },
  {
   "cell_type": "code",
   "execution_count": 3,
   "metadata": {
    "ExecuteTime": {
     "end_time": "2024-11-14T11:25:20.278302Z",
     "start_time": "2024-11-14T11:25:20.263794Z"
    }
   },
   "outputs": [],
   "source": [
    "machines = [model.add_machine() for _ in range(2)]\n",
    "\n",
    "for job in range(len(jobs)):\n",
    "    for task in tasks[job]:\n",
    "        for machine in machines:\n",
    "            duration = job + 1\n",
    "            model.add_mode(task, machine, duration)"
   ]
  },
  {
   "cell_type": "markdown",
   "metadata": {},
   "source": [
    "Now that we have defined all important elements, we can now solve this model. By default, the model aims to minimize the makespan, which is the maximum completion time of all jobs."
   ]
  },
  {
   "cell_type": "code",
   "execution_count": 4,
   "metadata": {
    "ExecuteTime": {
     "end_time": "2024-11-14T11:25:20.426544Z",
     "start_time": "2024-11-14T11:25:20.278302Z"
    }
   },
   "outputs": [
    {
     "name": "stdout",
     "output_type": "stream",
     "text": [
      "Solution results\n",
      "================\n",
      "  objective: 10.00\n",
      "lower bound: 10.00\n",
      "     status: Optimal\n",
      "    runtime: 0.01 seconds\n"
     ]
    }
   ],
   "source": [
    "result = model.solve(display=False)\n",
    "print(result)"
   ]
  },
  {
   "cell_type": "markdown",
   "metadata": {},
   "source": [
    "We found the optimal solution!"
   ]
  },
  {
   "cell_type": "markdown",
   "metadata": {},
   "source": [
    "## Solution"
   ]
  },
  {
   "cell_type": "markdown",
   "metadata": {},
   "source": [
    "The result variable stores a `Result` object that contains information about the solving progress and the best found solution. A solution consists of `TaskData`s, which stores for each task the (operation) mode, assigned machine (which is a special resource), the start time, and end time."
   ]
  },
  {
   "cell_type": "code",
   "execution_count": 5,
   "metadata": {
    "ExecuteTime": {
     "end_time": "2024-11-14T11:25:20.442584Z",
     "start_time": "2024-11-14T11:25:20.426544Z"
    }
   },
   "outputs": [
    {
     "name": "stdout",
     "output_type": "stream",
     "text": [
      "TaskData(mode=1, resources=[1], start=0, end=1)\n",
      "TaskData(mode=2, resources=[0], start=0, end=1)\n",
      "TaskData(mode=4, resources=[0], start=1, end=3)\n",
      "TaskData(mode=7, resources=[1], start=1, end=3)\n",
      "TaskData(mode=8, resources=[0], start=3, end=6)\n",
      "TaskData(mode=11, resources=[1], start=3, end=6)\n",
      "TaskData(mode=12, resources=[0], start=6, end=10)\n",
      "TaskData(mode=15, resources=[1], start=6, end=10)\n"
     ]
    }
   ],
   "source": [
    "for task in result.best.tasks:\n",
    "    print(task)"
   ]
  },
  {
   "cell_type": "markdown",
   "metadata": {},
   "source": [
    "## Plotting"
   ]
  },
  {
   "cell_type": "markdown",
   "metadata": {},
   "source": [
    "Each scheduled task can now be nicely plotted in a Gantt chart."
   ]
  },
  {
   "cell_type": "code",
   "execution_count": 6,
   "metadata": {
    "ExecuteTime": {
     "end_time": "2024-11-14T11:25:21.170312Z",
     "start_time": "2024-11-14T11:25:20.442584Z"
    }
   },
   "outputs": [
    {
     "data": {
      "image/png": "[encoded data removed]",
      "text/plain": [
       "<Figure size 1200x800 with 1 Axes>"
      ]
     },
     "metadata": {},
     "output_type": "display_data"
    }
   ],
   "source": [
    "from pyjobshop.plot import plot_machine_gantt\n",
    "\n",
    "plot_machine_gantt(result.best, model.data())"
   ]
  },
  {
   "cell_type": "markdown",
   "metadata": {},
   "source": [
    "The plot shows a Gantt chart of our solution. Each row represents a machine and each horizontal bar represents a scheduled task.\n",
    "The colors of the tasks depict the individual jobs they are associated with, with each job having a unique color."
   ]
  },
  {
   "cell_type": "markdown",
   "metadata": {},
   "source": [
    "## Conclusion"
   ]
  },
  {
   "cell_type": "markdown",
   "metadata": {},
   "source": [
    "This concludes this example. We showed how to use PyJobShop's Model interface to setup a simple example, and we showed the representation of a solution and how it can be plotted. For more details about `Model`, see the [API documentation](https://pyjobshop.org/stable/api/pyjobshop.html#pyjobshop.Model.Model). In the next notebooks, we show you how to model classical scheduling models."
   ]
  }
 ],
 "metadata": {
  "kernelspec": {
   "display_name": "Python 3 (ipykernel)",
   "language": "python",
   "name": "python3"
  },
  "language_info": {
   "codemirror_mode": {
    "name": "ipython",
    "version": 3
   },
   "file_extension": ".py",
   "mimetype": "text/x-python",
   "name": "python",
   "nbconvert_exporter": "python",
   "pygments_lexer": "ipython3",
   "version": "3.10.10"
  }
 },
 "nbformat": 4,
 "nbformat_minor": 4
}
