{
 "cells": [
  {
   "cell_type": "markdown",
   "metadata": {},
   "source": [
    "# Simple example\n",
    "This notebook provides a brief overview of PyJobShop's modeling features for solving scheduling problems, specifically:\n",
    "\n",
    "- How to model a simple scheduling problem using PyJobShop's `Model` interface,\n",
    "- How to inspect the resulting solution, and\n",
    "- How to plot the found solution."
   ]
  },
  {
   "cell_type": "code",
   "execution_count": 1,
   "metadata": {},
   "outputs": [],
   "source": [
    "from pyjobshop import Model\n",
    "\n",
    "model = Model()"
   ]
  },
  {
   "cell_type": "markdown",
   "metadata": {},
   "source": [
    "Let's add some data to the model. We add four jobs, each consisting of two tasks."
   ]
  },
  {
   "cell_type": "code",
   "execution_count": 2,
   "metadata": {},
   "outputs": [],
   "source": [
    "jobs = [model.add_job() for _ in range(4)]\n",
    "tasks = [[model.add_task(job=job) for _ in range(2)] for job in jobs]"
   ]
  },
  {
   "cell_type": "markdown",
   "metadata": {},
   "source": [
    "Passing the `job` argument to `m.add_task(job=job)` ensures that the created task belongs to the right job.\n",
    "Next, we have to create the machines and also specify processing times for each task. The duration of an task is equal to the job index plus one (1, 2, 3 or 4)."
   ]
  },
  {
   "cell_type": "code",
   "execution_count": 3,
   "metadata": {},
   "outputs": [],
   "source": [
    "machines = [model.add_machine() for _ in range(2)]\n",
    "\n",
    "for job in range(len(jobs)):\n",
    "    for task in tasks[job]:\n",
    "        for machine in machines:\n",
    "            duration = job + 1\n",
    "            model.add_processing_time(task, machine, duration)"
   ]
  },
  {
   "cell_type": "markdown",
   "metadata": {},
   "source": [
    "Now that we have defined all important elements, we can now solve this model. By default, the model aims to minimize the makespan, which is the maximum completion time of all jobs."
   ]
  },
  {
   "cell_type": "code",
   "execution_count": 4,
   "metadata": {},
   "outputs": [
    {
     "data": {
      "text/plain": [
       "<SolveStatus.OPTIMAL: 'Optimal'>"
      ]
     },
     "execution_count": 4,
     "metadata": {},
     "output_type": "execute_result"
    }
   ],
   "source": [
    "result = model.solve(log=False)\n",
    "result.status"
   ]
  },
  {
   "cell_type": "markdown",
   "metadata": {},
   "source": [
    "We found the optimal solution!"
   ]
  },
  {
   "cell_type": "markdown",
   "metadata": {},
   "source": [
    "## Solution"
   ]
  },
  {
   "cell_type": "markdown",
   "metadata": {},
   "source": [
    "The result variables stores a `Result` object that contains information about the solving progress and the best found solution. A solution consists of `Task`s, which stores for each task the assigned machine, the start time, and the duration."
   ]
  },
  {
   "cell_type": "code",
   "execution_count": 5,
   "metadata": {},
   "outputs": [
    {
     "name": "stdout",
     "output_type": "stream",
     "text": [
      "TaskData(machine=1, start=0, duration=1, end=1)\n",
      "TaskData(machine=0, start=0, duration=1, end=1)\n",
      "TaskData(machine=0, start=1, duration=2, end=3)\n",
      "TaskData(machine=1, start=1, duration=2, end=3)\n",
      "TaskData(machine=0, start=3, duration=3, end=6)\n",
      "TaskData(machine=1, start=3, duration=3, end=6)\n",
      "TaskData(machine=0, start=6, duration=4, end=10)\n",
      "TaskData(machine=1, start=6, duration=4, end=10)\n"
     ]
    }
   ],
   "source": [
    "for task in result.best.tasks:\n",
    "    print(task)"
   ]
  },
  {
   "cell_type": "markdown",
   "metadata": {},
   "source": [
    "## Plotting"
   ]
  },
  {
   "cell_type": "markdown",
   "metadata": {},
   "source": [
    "Each scheduled task can now be nicely plotted in a Gantt chart."
   ]
  },
  {
   "cell_type": "code",
   "execution_count": 6,
   "metadata": {},
   "outputs": [
    {
     "data": {
      "image/png": "[encoded data removed]",
      "text/plain": [
       "<Figure size 1200x800 with 1 Axes>"
      ]
     },
     "metadata": {},
     "output_type": "display_data"
    }
   ],
   "source": [
    "from pyjobshop import plot\n",
    "\n",
    "data = model.data()\n",
    "plot(data, result.best)"
   ]
  },
  {
   "cell_type": "markdown",
   "metadata": {},
   "source": [
    "The plot shows a Gantt chart of our solution. Each row represents a machine and each horizontal bar represents a scheduled task.\n",
    "The colors of the tasks depict the individual jobs they are associated with, with each job having a unique color."
   ]
  },
  {
   "cell_type": "markdown",
   "metadata": {},
   "source": [
    "## Conclusion"
   ]
  },
  {
   "cell_type": "markdown",
   "metadata": {},
   "source": [
    "This concludes this example. We showed how to use PyJobShop's Model interface to setup a simple example, and we showed the representation of a solution and how it can be plotted. For more details about `Model`, see the [API documentation](https://pyjobshop.readthedocs.io/en/latest/api/pyjobshop.html#pyjobshop.Model.Model). In the next notebooks, we show you how to model classical scheduling models."
   ]
  }
 ],
 "metadata": {
  "kernelspec": {
   "display_name": "Python 3 (ipykernel)",
   "language": "python",
   "name": "python3"
  },
  "language_info": {
   "codemirror_mode": {
    "name": "ipython",
    "version": 3
   },
   "file_extension": ".py",
   "mimetype": "text/x-python",
   "name": "python",
   "nbconvert_exporter": "python",
   "pygments_lexer": "ipython3",
   "version": "3.10.10"
  }
 },
 "nbformat": 4,
 "nbformat_minor": 4
}
