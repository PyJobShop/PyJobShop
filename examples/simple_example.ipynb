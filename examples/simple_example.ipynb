{
 "cells": [
  {
   "cell_type": "markdown",
   "metadata": {},
   "source": [
    "## Simple example\n",
    "This notebook provides a brief overview of PyJobShop's modeling features for solving scheduling problems, specifically:\n",
    "- How to model a simple scheduling problem using PyJobShop's `Model` interface,\n",
    "- How to analyze the resulting solution, and\n",
    "- How to plot the found solution."
   ]
  },
  {
   "cell_type": "markdown",
   "metadata": {},
   "source": [
    "## Scheduling key concepts\n",
    "Before we get started, let's first review the main three elements of a scheduling problem:\n",
    "\n",
    "- **Jobs**: a job represents a collection of operations that needs to be completed.\n",
    "- **Operations**: an operation is a single task of a job that needs to be be processed.\n",
    "- **Machines**: a machine is a resource that can process operations.\n",
    "\n",
    "In scheduling, the goal is to schedule all operations such that some objective function is minimized, which is based on the job completion times.\n",
    "Scheduling an operation means that we have to decide for each operation which machine it is assigned to, as well as its start and completion times."
   ]
  },
  {
   "cell_type": "markdown",
   "metadata": {},
   "source": [
    "## Model\n",
    "Let's now get started!\n",
    "\n",
    "To define a scheduling problem, we use PyJobShop's `Model` interface, which allows us to conveniently define scheduling problems without having to know what happens under the hood. We first import the class and then initialize an instance of the model."
   ]
  },
  {
   "cell_type": "code",
   "execution_count": 41,
   "metadata": {},
   "outputs": [],
   "source": [
    "from pyjobshop import Model\n",
    "\n",
    "model = Model()"
   ]
  },
  {
   "cell_type": "markdown",
   "metadata": {},
   "source": [
    "We now add four jobs, each consisting of two operations."
   ]
  },
  {
   "cell_type": "code",
   "execution_count": 42,
   "metadata": {},
   "outputs": [],
   "source": [
    "jobs = [model.add_job() for _ in range(4)]\n",
    "operations = [[model.add_operation(job=job) for _ in range(2)] for job in jobs]"
   ]
  },
  {
   "cell_type": "markdown",
   "metadata": {},
   "source": [
    "Passing the `job` argument to `m.add_operation(job=job)` ensures that the created operation belongs to the right job.\n",
    "Next, we have to create the machines and also specify processing times for each operation."
   ]
  },
  {
   "cell_type": "code",
   "execution_count": 43,
   "metadata": {},
   "outputs": [],
   "source": [
    "machines = [model.add_machine() for _ in range(2)]\n",
    "\n",
    "for job in range(len(jobs)):\n",
    "    for idx, operation in enumerate(operations[job]):\n",
    "        duration = 1 if idx == 0 else 2\n",
    "        model.add_processing_time(machines[idx], operation, duration)"
   ]
  },
  {
   "cell_type": "markdown",
   "metadata": {},
   "source": [
    "In this case, the processing time for the first operation of a job is one, and the processing time for the second operation is two."
   ]
  },
  {
   "cell_type": "markdown",
   "metadata": {},
   "source": [
    "Now that we have defined all important elements, we can now solve this model:"
   ]
  },
  {
   "cell_type": "code",
   "execution_count": 46,
   "metadata": {},
   "outputs": [],
   "source": [
    "result = model.solve()"
   ]
  },
  {
   "cell_type": "markdown",
   "metadata": {},
   "source": [
    "The result variables stores a `Result` object that contains information about the solving progress and the best-found solution."
   ]
  },
  {
   "cell_type": "markdown",
   "metadata": {},
   "source": [
    "A solution consists of `Task`s, which stores for each operation the assigned machine, the start time, and the duration."
   ]
  },
  {
   "cell_type": "code",
   "execution_count": 45,
   "metadata": {},
   "outputs": [
    {
     "name": "stdout",
     "output_type": "stream",
     "text": [
      "Task(operation=0, machine=0, start=1, duration=1)\n",
      "Task(operation=1, machine=1, start=2, duration=2)\n",
      "Task(operation=2, machine=0, start=2, duration=1)\n",
      "Task(operation=3, machine=1, start=4, duration=2)\n",
      "Task(operation=4, machine=0, start=3, duration=1)\n",
      "Task(operation=5, machine=1, start=6, duration=2)\n",
      "Task(operation=6, machine=0, start=0, duration=1)\n",
      "Task(operation=7, machine=1, start=0, duration=2)\n"
     ]
    }
   ],
   "source": [
    "for task in result.best.schedule:\n",
    "    print(task)"
   ]
  },
  {
   "cell_type": "markdown",
   "metadata": {},
   "source": [
    "Each scheduled operation can now be nicely plotted in a Gantt chart."
   ]
  },
  {
   "cell_type": "code",
   "execution_count": 50,
   "metadata": {},
   "outputs": [
    {
     "data": {
      "image/png": "[encoded data removed]",
      "text/plain": [
       "<Figure size 1200x800 with 1 Axes>"
      ]
     },
     "metadata": {},
     "output_type": "display_data"
    }
   ],
   "source": [
    "from pyjobshop import plot\n",
    "\n",
    "data = model.data()\n",
    "plot(data, result.best)"
   ]
  },
  {
   "cell_type": "markdown",
   "metadata": {},
   "source": [
    "Operations belonging to the same job have the same color."
   ]
  },
  {
   "cell_type": "markdown",
   "metadata": {},
   "source": [
    "## Conclusion"
   ]
  },
  {
   "cell_type": "markdown",
   "metadata": {},
   "source": [
    "For more details about `Model`, see the [API documentation](https://pyjobshop.readthedocs.io/en/latest/api/pyjobshop.html#pyjobshop.Model.Model)."
   ]
  }
 ],
 "metadata": {
  "kernelspec": {
   "display_name": "Python 3 (ipykernel)",
   "language": "python",
   "name": "python3"
  },
  "language_info": {
   "codemirror_mode": {
    "name": "ipython",
    "version": 3
   },
   "file_extension": ".py",
   "mimetype": "text/x-python",
   "name": "python",
   "nbconvert_exporter": "python",
   "pygments_lexer": "ipython3",
   "version": "3.10.10"
  }
 },
 "nbformat": 4,
 "nbformat_minor": 4
}
