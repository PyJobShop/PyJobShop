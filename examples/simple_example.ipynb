{
 "cells": [
  {
   "cell_type": "markdown",
   "id": "e1b88e02-ce75-44f6-9e72-a70fc028607f",
   "metadata": {},
   "source": [
    "# A simple example\n",
    "In this notebook, we show you how to model and solve a simple flexible job shop problem with PyJobShop.\n",
    "\n",
    "A scheduling problem consists of three main elements:\n",
    "- **Machine**: a machine is a unary resource that can process an operation.\n",
    "- **Operation**: an operation is a processing task that needs to be completed.\n",
    "- **Job**: this represents the collection of operations that need to be performed, as is used to measure performance such as completion times or tardiness.\n",
    "\n",
    "The Flexible Job Shop Problem (FJSP) consists of a set of jobs, each of which is composed of a sequence of operations. \n",
    "These operations need to be processed on a set of machines and each operation can be processed by more than one machine. \n",
    "The main goal is usually to minimize the makespan.\n",
    "\n",
    "Let's consider a simple example from [Google OR-Tools](https://github.com/google/or-tools/blob/master/examples/python/flexible_job_shop_sat.py)."
   ]
  },
  {
   "cell_type": "code",
   "execution_count": 36,
   "id": "c4c2c02b-62d6-4cfd-9f0b-b2b0045312f5",
   "metadata": {},
   "outputs": [],
   "source": [
    "data = [  # task = (processing_time, machine_id)\n",
    "    [  # Job 0\n",
    "        [(3, 0), (1, 1), (5, 2)],  # task 0 with 3 alternatives\n",
    "        [(2, 0), (4, 1), (6, 2)],  # task 1 with 3 alternatives\n",
    "        [(2, 0), (3, 1), (1, 2)],  # task 2 with 3 alternatives\n",
    "    ],\n",
    "    [  # Job 1\n",
    "        [(2, 0), (3, 1), (4, 2)],\n",
    "        [(1, 0), (5, 1), (4, 2)],\n",
    "        [(2, 0), (1, 1), (4, 2)],\n",
    "    ],\n",
    "    [  # Job 2\n",
    "        [(2, 0), (1, 1), (4, 2)],\n",
    "        [(2, 0), (3, 1), (4, 2)],\n",
    "        [(3, 0), (1, 1), (5, 2)],\n",
    "    ],\n",
    "]\n",
    "\n",
    "NUM_MACHINES = 3"
   ]
  },
  {
   "cell_type": "markdown",
   "id": "b7895374-cf43-4fd2-9341-5981caf9c944",
   "metadata": {},
   "source": [
    "Here we have three jobs. Each job consists of a list of tuples, each of which represents an operation, and the first index denotes the machine that can process it and the second "
   ]
  },
  {
   "cell_type": "code",
   "execution_count": 37,
   "id": "341dff7f-7d8a-43fb-9561-9378113004bc",
   "metadata": {},
   "outputs": [],
   "source": [
    "from pyjobshop import Model"
   ]
  },
  {
   "cell_type": "code",
   "execution_count": 38,
   "id": "6ed5cc69-0b2d-4308-9185-da6ac25d36dd",
   "metadata": {},
   "outputs": [],
   "source": [
    "m = Model()"
   ]
  },
  {
   "cell_type": "code",
   "execution_count": 40,
   "id": "206acd14-c3ee-4183-90c3-dbffe8b4dc60",
   "metadata": {},
   "outputs": [],
   "source": [
    "machines = [\n",
    "    m.add_machine(name=f\"Machine {idx}\") for idx in range(NUM_MACHINES)\n",
    "]\n",
    "\n",
    "for job_data in data:\n",
    "    job = m.add_job()\n",
    "    operations = []\n",
    "\n",
    "    for operation_data in job_data:\n",
    "        operation = m.add_operation()\n",
    "        operations.append(operation)\n",
    "\n",
    "        for duration, machine_idx in operation_data:\n",
    "            m.add_processing_time(machines[machine_idx], operation, duration)\n",
    "\n",
    "    for idx in range(len(operations) - 1):\n",
    "        m.add_timing_precedence(operations[idx], operations[idx + 1])\n",
    "\n",
    "    m.assign_job_operations(job, operations)"
   ]
  },
  {
   "cell_type": "markdown",
   "id": "06bd5f30-4cd0-4d1d-8623-42c87a110459",
   "metadata": {},
   "source": [
    "Now let's solve the model."
   ]
  },
  {
   "cell_type": "code",
   "execution_count": 41,
   "id": "7e17671d-55c5-45fd-8b19-b55a624d38a0",
   "metadata": {},
   "outputs": [],
   "source": [
    "result = m.solve()"
   ]
  },
  {
   "cell_type": "markdown",
   "id": "3071f56b-96aa-4c85-a3ba-b69964518bb1",
   "metadata": {},
   "source": [
    "Now let's plot the solution."
   ]
  },
  {
   "cell_type": "code",
   "execution_count": 42,
   "id": "dc8965bc-a4b3-4f19-a4f8-1495dd1826dc",
   "metadata": {},
   "outputs": [],
   "source": [
    "from pyjobshop import plot, result2solution"
   ]
  },
  {
   "cell_type": "code",
   "execution_count": 43,
   "id": "fb29149c-8387-4c9d-91d1-c9df8dbf975e",
   "metadata": {},
   "outputs": [
    {
     "data": {
      "image/png": "[encoded data removed]",
      "text/plain": [
       "<Figure size 1200x800 with 1 Axes>"
      ]
     },
     "metadata": {},
     "output_type": "display_data"
    }
   ],
   "source": [
    "data = m.data()\n",
    "solution = result2solution(data, result)\n",
    "\n",
    "plot(data, solution)"
   ]
  }
 ],
 "metadata": {
  "kernelspec": {
   "display_name": "Python 3 (ipykernel)",
   "language": "python",
   "name": "python3"
  },
  "language_info": {
   "codemirror_mode": {
    "name": "ipython",
    "version": 3
   },
   "file_extension": ".py",
   "mimetype": "text/x-python",
   "name": "python",
   "nbconvert_exporter": "python",
   "pygments_lexer": "ipython3",
   "version": "3.10.10"
  }
 },
 "nbformat": 4,
 "nbformat_minor": 5
}
