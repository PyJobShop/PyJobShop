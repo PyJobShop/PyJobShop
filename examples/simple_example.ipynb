{
 "cells": [
  {
   "cell_type": "markdown",
   "id": "e1b88e02-ce75-44f6-9e72-a70fc028607f",
   "metadata": {},
   "source": [
    "# A simple job shop example\n",
    "In this notebook, we show you how to model and solve a simple job shop problem with PyJobShop.\n",
    "\n",
    "A scheduling problem consists of three main elements:\n",
    "- **Machine**: a machine is a unary resource that can process an operation.\n",
    "- **Operation**: an operation is a processing task that needs to be completed.\n",
    "- **Job**: this represents the collection of operations that need to be performed, as is used to measure performance such as completion times or tardiness.\n",
    "\n",
    "In the job shop problem, there are $n$ jobs and $m$ machines. For each job, we have a sequence of operations\n",
    "Let's consider the job shop example from [Google OR-Tools](https://developers.google.com/optimization/scheduling/job_shop)."
   ]
  },
  {
   "cell_type": "code",
   "execution_count": 45,
   "id": "c4c2c02b-62d6-4cfd-9f0b-b2b0045312f5",
   "metadata": {},
   "outputs": [
    {
     "name": "stderr",
     "output_type": "stream",
     "text": [
      "[autoreload of docplex.cp.expression failed: Traceback (most recent call last):\n",
      "  File \"/Users/leonlan/Dropbox/PyJobShop/.venv/lib/python3.10/site-packages/IPython/extensions/autoreload.py\", line 276, in check\n",
      "    superreload(m, reload, self.old_objects)\n",
      "  File \"/Users/leonlan/Dropbox/PyJobShop/.venv/lib/python3.10/site-packages/IPython/extensions/autoreload.py\", line 500, in superreload\n",
      "    update_generic(old_obj, new_obj)\n",
      "  File \"/Users/leonlan/Dropbox/PyJobShop/.venv/lib/python3.10/site-packages/IPython/extensions/autoreload.py\", line 397, in update_generic\n",
      "    update(a, b)\n",
      "  File \"/Users/leonlan/Dropbox/PyJobShop/.venv/lib/python3.10/site-packages/IPython/extensions/autoreload.py\", line 365, in update_class\n",
      "    update_instances(old, new)\n",
      "  File \"/Users/leonlan/Dropbox/PyJobShop/.venv/lib/python3.10/site-packages/IPython/extensions/autoreload.py\", line 323, in update_instances\n",
      "    object.__setattr__(ref, \"__class__\", new)\n",
      "TypeError: __class__ assignment: 'CpoValue' object layout differs from 'CpoValue'\n",
      "]\n",
      "[autoreload of docplex.cp.solution failed: Traceback (most recent call last):\n",
      "  File \"/Users/leonlan/Dropbox/PyJobShop/.venv/lib/python3.10/site-packages/IPython/extensions/autoreload.py\", line 276, in check\n",
      "    superreload(m, reload, self.old_objects)\n",
      "  File \"/Users/leonlan/Dropbox/PyJobShop/.venv/lib/python3.10/site-packages/IPython/extensions/autoreload.py\", line 500, in superreload\n",
      "    update_generic(old_obj, new_obj)\n",
      "  File \"/Users/leonlan/Dropbox/PyJobShop/.venv/lib/python3.10/site-packages/IPython/extensions/autoreload.py\", line 397, in update_generic\n",
      "    update(a, b)\n",
      "  File \"/Users/leonlan/Dropbox/PyJobShop/.venv/lib/python3.10/site-packages/IPython/extensions/autoreload.py\", line 365, in update_class\n",
      "    update_instances(old, new)\n",
      "  File \"/Users/leonlan/Dropbox/PyJobShop/.venv/lib/python3.10/site-packages/IPython/extensions/autoreload.py\", line 323, in update_instances\n",
      "    object.__setattr__(ref, \"__class__\", new)\n",
      "TypeError: __class__ assignment: 'CpoIntervalVarSolution' object layout differs from 'CpoIntervalVarSolution'\n",
      "]\n"
     ]
    }
   ],
   "source": [
    "data = [\n",
    "    [(0, 3), (1, 2), (2, 2)],\n",
    "    [(0, 2), (2, 1), (1, 4)],\n",
    "    [(1, 4), (2, 3)],\n",
    "]\n",
    "\n",
    "NUM_MACHINES = 3"
   ]
  },
  {
   "cell_type": "markdown",
   "id": "b7895374-cf43-4fd2-9341-5981caf9c944",
   "metadata": {},
   "source": [
    "Here we have three jobs. Each job consists of a list of tuples, each of which represents an operation, and the first index denotes the machine that can process it and the second "
   ]
  },
  {
   "cell_type": "code",
   "execution_count": 46,
   "id": "341dff7f-7d8a-43fb-9561-9378113004bc",
   "metadata": {},
   "outputs": [],
   "source": [
    "from pyjobshop import Model, TimingPrecedence, plot, result2solution"
   ]
  },
  {
   "cell_type": "code",
   "execution_count": 47,
   "id": "6ed5cc69-0b2d-4308-9185-da6ac25d36dd",
   "metadata": {},
   "outputs": [],
   "source": [
    "model = Model()"
   ]
  },
  {
   "cell_type": "code",
   "execution_count": 48,
   "id": "d81f7986-8b96-4268-a5f6-2d5471ffd9ae",
   "metadata": {},
   "outputs": [],
   "source": [
    "machines = [model.add_machine() for _ in range(NUM_MACHINES)]"
   ]
  },
  {
   "cell_type": "code",
   "execution_count": 49,
   "id": "d9577806-7a1c-4f08-a489-76c65e51ffb6",
   "metadata": {},
   "outputs": [],
   "source": [
    "jobs = [model.add_job() for _ in range(len(data))]"
   ]
  },
  {
   "cell_type": "code",
   "execution_count": 50,
   "id": "206acd14-c3ee-4183-90c3-dbffe8b4dc60",
   "metadata": {},
   "outputs": [],
   "source": [
    "for job_idx, operations in enumerate(data):\n",
    "    ops = []\n",
    "\n",
    "    for machine_idx, duration in operations:\n",
    "        operation = model.add_operation()\n",
    "        model.assign_job_operations(jobs[job_idx], [operation])\n",
    "        model.add_processing_time(machines[machine_idx], operation, duration)\n",
    "\n",
    "    for idx in range(len(ops)):\n",
    "        model.add_timing_precedence(\n",
    "            ops[idx],\n",
    "            ops[idx + 1],\n",
    "            TimingPrecedence.END_BEFORE_START,\n",
    "        )"
   ]
  },
  {
   "cell_type": "code",
   "execution_count": 51,
   "id": "7e17671d-55c5-45fd-8b19-b55a624d38a0",
   "metadata": {},
   "outputs": [
    {
     "ename": "TypeError",
     "evalue": "super(type, obj): obj must be an instance or subtype of type",
     "output_type": "error",
     "traceback": [
      "\u001b[0;31m---------------------------------------------------------------------------\u001b[0m",
      "\u001b[0;31mTypeError\u001b[0m                                 Traceback (most recent call last)",
      "Cell \u001b[0;32mIn[51], line 1\u001b[0m\n\u001b[0;32m----> 1\u001b[0m result \u001b[38;5;241m=\u001b[39m \u001b[43mmodel\u001b[49m\u001b[38;5;241;43m.\u001b[39;49m\u001b[43msolve\u001b[49m\u001b[43m(\u001b[49m\u001b[43m)\u001b[49m\n",
      "File \u001b[0;32m~/Dropbox/PyJobShop/pyjobshop/Model.py:384\u001b[0m, in \u001b[0;36mModel.solve\u001b[0;34m(self, time_limit)\u001b[0m\n\u001b[1;32m    369\u001b[0m \u001b[38;5;250m\u001b[39m\u001b[38;5;124;03m\"\"\"\u001b[39;00m\n\u001b[1;32m    370\u001b[0m \u001b[38;5;124;03mSolves the problem data instance created by the model.\u001b[39;00m\n\u001b[1;32m    371\u001b[0m \n\u001b[0;32m   (...)\u001b[0m\n\u001b[1;32m    381\u001b[0m \u001b[38;5;124;03m    A results object containing solver result.\u001b[39;00m\n\u001b[1;32m    382\u001b[0m \u001b[38;5;124;03m\"\"\"\u001b[39;00m\n\u001b[1;32m    383\u001b[0m data \u001b[38;5;241m=\u001b[39m \u001b[38;5;28mself\u001b[39m\u001b[38;5;241m.\u001b[39mdata()\n\u001b[0;32m--> 384\u001b[0m cp_model \u001b[38;5;241m=\u001b[39m \u001b[43mdefault_model\u001b[49m\u001b[43m(\u001b[49m\u001b[43mdata\u001b[49m\u001b[43m)\u001b[49m\n\u001b[1;32m    385\u001b[0m \u001b[38;5;28;01mreturn\u001b[39;00m cp_model\u001b[38;5;241m.\u001b[39msolve(TimeLimit\u001b[38;5;241m=\u001b[39mtime_limit, LogVerbosity\u001b[38;5;241m=\u001b[39m\u001b[38;5;124m\"\u001b[39m\u001b[38;5;124mTerse\u001b[39m\u001b[38;5;124m\"\u001b[39m)\n",
      "File \u001b[0;32m~/Dropbox/PyJobShop/pyjobshop/cp/default_model.py:35\u001b[0m, in \u001b[0;36mdefault_model\u001b[0;34m(data)\u001b[0m\n\u001b[1;32m     31\u001b[0m \u001b[38;5;28;01mdef\u001b[39;00m \u001b[38;5;21mdefault_model\u001b[39m(data: ProblemData) \u001b[38;5;241m-\u001b[39m\u001b[38;5;241m>\u001b[39m CpoModel:\n\u001b[1;32m     32\u001b[0m \u001b[38;5;250m    \u001b[39m\u001b[38;5;124;03m\"\"\"\u001b[39;00m\n\u001b[1;32m     33\u001b[0m \u001b[38;5;124;03m    Creates a CP model for the given problem data.\u001b[39;00m\n\u001b[1;32m     34\u001b[0m \u001b[38;5;124;03m    \"\"\"\u001b[39;00m\n\u001b[0;32m---> 35\u001b[0m     model \u001b[38;5;241m=\u001b[39m \u001b[43mCpoModel\u001b[49m\u001b[43m(\u001b[49m\u001b[43m)\u001b[49m\n\u001b[1;32m     37\u001b[0m     job_vars \u001b[38;5;241m=\u001b[39m job_variables(model, data)\n\u001b[1;32m     38\u001b[0m     op_vars \u001b[38;5;241m=\u001b[39m operation_variables(model, data)\n",
      "File \u001b[0;32m~/Dropbox/PyJobShop/.venv/lib/python3.10/site-packages/docplex/cp/model.py:330\u001b[0m, in \u001b[0;36mCpoModel.__init__\u001b[0;34m(self, name, sfile, version)\u001b[0m\n\u001b[1;32m    322\u001b[0m \u001b[38;5;250m\u001b[39m\u001b[38;5;124;03m\"\"\" **Constructor**\u001b[39;00m\n\u001b[1;32m    323\u001b[0m \n\u001b[1;32m    324\u001b[0m \u001b[38;5;124;03mArgs:\u001b[39;00m\n\u001b[0;32m   (...)\u001b[0m\n\u001b[1;32m    327\u001b[0m \u001b[38;5;124;03m    version: (Optional) Format version\u001b[39;00m\n\u001b[1;32m    328\u001b[0m \u001b[38;5;124;03m\"\"\"\u001b[39;00m\n\u001b[1;32m    329\u001b[0m ctx \u001b[38;5;241m=\u001b[39m config\u001b[38;5;241m.\u001b[39mget_default()\n\u001b[0;32m--> 330\u001b[0m \u001b[38;5;28;43msuper\u001b[39;49m\u001b[43m(\u001b[49m\u001b[43mCpoModel\u001b[49m\u001b[43m,\u001b[49m\u001b[43m \u001b[49m\u001b[38;5;28;43mself\u001b[39;49m\u001b[43m)\u001b[49m\u001b[38;5;241m.\u001b[39m\u001b[38;5;21m__init__\u001b[39m()\n\u001b[1;32m    331\u001b[0m \u001b[38;5;28mself\u001b[39m\u001b[38;5;241m.\u001b[39mexpr_list        \u001b[38;5;241m=\u001b[39m []            \u001b[38;5;66;03m# List of model root expressions as tuples (expression, location)\u001b[39;00m\n\u001b[1;32m    332\u001b[0m \u001b[38;5;28mself\u001b[39m\u001b[38;5;241m.\u001b[39mparameters       \u001b[38;5;241m=\u001b[39m \u001b[38;5;28;01mNone\u001b[39;00m          \u001b[38;5;66;03m# Solving parameters\u001b[39;00m\n",
      "\u001b[0;31mTypeError\u001b[0m: super(type, obj): obj must be an instance or subtype of type"
     ]
    }
   ],
   "source": [
    "result = model.solve()"
   ]
  },
  {
   "cell_type": "code",
   "execution_count": null,
   "id": "fb29149c-8387-4c9d-91d1-c9df8dbf975e",
   "metadata": {},
   "outputs": [],
   "source": [
    "data = model.data()\n",
    "solution = result2solution(data, result)\n",
    "\n",
    "plot(data, solution)"
   ]
  }
 ],
 "metadata": {
  "kernelspec": {
   "display_name": "Python 3 (ipykernel)",
   "language": "python",
   "name": "python3"
  },
  "language_info": {
   "codemirror_mode": {
    "name": "ipython",
    "version": 3
   },
   "file_extension": ".py",
   "mimetype": "text/x-python",
   "name": "python",
   "nbconvert_exporter": "python",
   "pygments_lexer": "ipython3",
   "version": "3.10.10"
  }
 },
 "nbformat": 4,
 "nbformat_minor": 5
}
