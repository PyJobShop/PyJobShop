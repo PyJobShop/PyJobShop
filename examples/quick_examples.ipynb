{
 "cells": [
  {
   "cell_type": "markdown",
   "id": "bbfb1274-0630-4810-8655-668c15b0d3ea",
   "metadata": {},
   "source": [
    "# Quick examples\n",
    "\n",
    "[![Open In Colab](https://colab.research.google.com/assets/colab-badge.svg)](https://githubtocolab.com/PyJobShop/PyJobShop/blob/main/examples/hybrid_flow_shop.ipynb)\n",
    "\n",
    "> If you're using this notebook in Google Colab, be sure to install PyJobShop first by executing ```pip install pyjobshop``` in a cell.\n",
    " \n",
    "This notebook contains a number of quick examples to demonstrate PyJobShop features not contained in the other notebooks."
   ]
  },
  {
   "cell_type": "code",
   "execution_count": 1,
   "id": "a6834539-ae02-4d52-88b4-3c249b1c3b9a",
   "metadata": {},
   "outputs": [],
   "source": [
    "from pyjobshop import Model, plot"
   ]
  },
  {
   "cell_type": "markdown",
   "id": "4b657744-fe3f-4c9d-8f7b-06c24ba8905c",
   "metadata": {},
   "source": [
    "## Sequence-dependent setup times\n",
    "Machines may require different configuration settings for processing different types of tasks. This results in _sequence-dependent setup times_, which is the time that is required to reconfigure machines between processing two tasks. Let's showcase a small example here."
   ]
  },
  {
   "cell_type": "code",
   "execution_count": 2,
   "id": "47259d2c-16d3-454d-840a-97c283c8d209",
   "metadata": {},
   "outputs": [],
   "source": [
    "model = Model()\n",
    "tasks = [model.add_task(name=idx) for idx in range(6)]\n",
    "machines = [model.add_machine(name=idx) for idx in range(2)]\n",
    "\n",
    "for task in tasks:\n",
    "    # The first machine is faster than the second machine.\n",
    "    model.add_mode(task, machines[0], duration=1)\n",
    "    model.add_mode(task, machines[1], duration=3)\n",
    "\n",
    "for task1 in tasks:\n",
    "    for task2 in tasks:\n",
    "        model.add_setup_time(machines[0], task1, task2, duration=1)\n",
    "        model.add_setup_time(machines[1], task1, task2, duration=2)\n",
    "\n",
    "result = model.solve(display=False)"
   ]
  },
  {
   "cell_type": "code",
   "execution_count": 3,
   "id": "75017e34-af0e-4450-949e-f795e50618e4",
   "metadata": {},
   "outputs": [
    {
     "data": {
      "image/png": "[encoded data removed]",
      "text/plain": [
       "<Figure size 1200x800 with 1 Axes>"
      ]
     },
     "metadata": {},
     "output_type": "display_data"
    }
   ],
   "source": [
    "data = model.data()\n",
    "plot(data, result.best, plot_labels=True)"
   ]
  },
  {
   "cell_type": "markdown",
   "id": "10bf923d-7ccf-41db-ac1e-19674fb1f7b8",
   "metadata": {},
   "source": [
    "Some notes:\n",
    "\n",
    "- Instances with sequence-dependent setup times are generally hard to solve, and it's even harder to solve to optimality. Consider using a time limit when solving such instances.\n",
    "- Unlike CP Optimizer, OR-Tools does not have specialized constraints to deal with sequence-dependent setup times. This makes the implementation of OR-Tools substantially slower."
   ]
  },
  {
   "cell_type": "markdown",
   "id": "14fa8bc7",
   "metadata": {},
   "source": [
    "## Finding feasible solutions"
   ]
  },
  {
   "cell_type": "markdown",
   "id": "67b6a6e1",
   "metadata": {},
   "source": [
    "In some situations, it may be only needed to find a feasible solution. You can achieve this by passing an additional parameter to the `solve` function, depending on the solver used:\n",
    "\n",
    "- OR-Tools: `stop_after_first_solution=True`.\n",
    "- CP Optimizer: `SolutionLimit=1`.\n",
    "\n",
    "Below we demonstrate it with OR-Tools (used by default)."
   ]
  },
  {
   "cell_type": "code",
   "execution_count": 4,
   "id": "35812a81",
   "metadata": {},
   "outputs": [
    {
     "name": "stdout",
     "output_type": "stream",
     "text": [
      "SolveStatus.FEASIBLE 6.0\n"
     ]
    }
   ],
   "source": [
    "model = Model()\n",
    "tasks = [model.add_task(name=idx) for idx in range(6)]\n",
    "machines = [model.add_machine(name=idx) for idx in range(2)]\n",
    "\n",
    "for task in tasks:\n",
    "    model.add_mode(task, machines[0], duration=1)\n",
    "    model.add_mode(task, machines[1], duration=3)\n",
    "\n",
    "result = model.solve(display=False, stop_after_first_solution=True)\n",
    "print(result.status, result.objective)"
   ]
  },
  {
   "cell_type": "markdown",
   "id": "52bfa48e",
   "metadata": {},
   "source": [
    "Let's double-check that the optimal solution is better:"
   ]
  },
  {
   "cell_type": "code",
   "execution_count": 5,
   "id": "a5b01ac6",
   "metadata": {},
   "outputs": [
    {
     "name": "stdout",
     "output_type": "stream",
     "text": [
      "SolveStatus.OPTIMAL 5.0\n"
     ]
    }
   ],
   "source": [
    "result = model.solve(display=False)\n",
    "print(result.status, result.objective)"
   ]
  }
 ],
 "metadata": {
  "kernelspec": {
   "display_name": "Python 3 (ipykernel)",
   "language": "python",
   "name": "python3"
  },
  "language_info": {
   "codemirror_mode": {
    "name": "ipython",
    "version": 3
   },
   "file_extension": ".py",
   "mimetype": "text/x-python",
   "name": "python",
   "nbconvert_exporter": "python",
   "pygments_lexer": "ipython3",
   "version": "3.10.10"
  }
 },
 "nbformat": 4,
 "nbformat_minor": 5
}
