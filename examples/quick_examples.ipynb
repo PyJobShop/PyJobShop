{
 "cells": [
  {
   "cell_type": "markdown",
   "id": "bbfb1274-0630-4810-8655-668c15b0d3ea",
   "metadata": {},
   "source": [
    "# Quick examples\n",
    "\n",
    "[![Open In Colab](https://colab.research.google.com/assets/colab-badge.svg)](https://githubtocolab.com/PyJobShop/PyJobShop/blob/main/examples/hybrid_flow_shop.ipynb)\n",
    "\n",
    "> If you're using this notebook in Google Colab, be sure to install PyJobShop first by executing ```pip install pyjobshop``` in a cell.\n",
    " \n",
    "This notebook contains a number of quick examples to demonstrate PyJobShop features not contained in the other notebooks."
   ]
  },
  {
   "cell_type": "code",
   "execution_count": null,
   "id": "a6834539-ae02-4d52-88b4-3c249b1c3b9a",
   "metadata": {},
   "outputs": [],
   "source": [
    "from pyjobshop import Model\n",
    "from pyjobshop.plot import plot_machine_gantt"
   ]
  },
  {
   "cell_type": "markdown",
   "id": "4b657744-fe3f-4c9d-8f7b-06c24ba8905c",
   "metadata": {},
   "source": [
    "## Sequence-dependent setup times\n",
    "Machines may require different configuration settings for processing different types of tasks. This results in _sequence-dependent setup times_, which is the time that is required to reconfigure machines between processing two tasks. Let's showcase a small example here."
   ]
  },
  {
   "cell_type": "code",
   "execution_count": null,
   "id": "47259d2c-16d3-454d-840a-97c283c8d209",
   "metadata": {},
   "outputs": [],
   "source": [
    "model = Model()\n",
    "tasks = [model.add_task() for _ in range(6)]\n",
    "machines = [model.add_machine() for _ in range(2)]\n",
    "\n",
    "for task in tasks:\n",
    "    # The first machine is faster than the second machine.\n",
    "    model.add_mode(task, machines[0], duration=1)\n",
    "    model.add_mode(task, machines[1], duration=3)\n",
    "\n",
    "for task1 in tasks:\n",
    "    for task2 in tasks:\n",
    "        model.add_setup_time(machines[0], task1, task2, duration=1)\n",
    "        model.add_setup_time(machines[1], task1, task2, duration=2)"
   ]
  },
  {
   "cell_type": "code",
   "execution_count": null,
   "id": "9b96c196-be3f-499b-8688-d2b557a66e41",
   "metadata": {},
   "outputs": [],
   "source": [
    "result = model.solve(display=False)\n",
    "print(result)"
   ]
  },
  {
   "cell_type": "code",
   "execution_count": null,
   "id": "75017e34-af0e-4450-949e-f795e50618e4",
   "metadata": {},
   "outputs": [],
   "source": [
    "data = model.data()\n",
    "plot_machine_gantt(result.best, data, plot_labels=True)"
   ]
  },
  {
   "cell_type": "markdown",
   "id": "10bf923d-7ccf-41db-ac1e-19674fb1f7b8",
   "metadata": {},
   "source": [
    "Some notes:\n",
    "\n",
    "- Instances with sequence-dependent setup times are generally hard to solve, and it's even harder to solve to optimality. Consider using a time limit when solving such instances.\n",
    "- Unlike CP Optimizer, OR-Tools does not have specialized constraints to deal with sequence-dependent setup times. This makes the implementation of OR-Tools substantially slower."
   ]
  },
  {
   "cell_type": "markdown",
   "id": "14fa8bc7",
   "metadata": {},
   "source": [
    "## Finding feasible solutions"
   ]
  },
  {
   "cell_type": "markdown",
   "id": "67b6a6e1",
   "metadata": {},
   "source": [
    "In some situations, it may be only needed to find a feasible solution. You can achieve this by passing an additional parameter to the `solve` function, depending on the solver used:\n",
    "\n",
    "- OR-Tools: `stop_after_first_solution=True`.\n",
    "- CP Optimizer: `SolutionLimit=1`.\n",
    "\n",
    "Below we demonstrate it with OR-Tools (used by default)."
   ]
  },
  {
   "cell_type": "code",
   "execution_count": null,
   "id": "35812a81",
   "metadata": {},
   "outputs": [],
   "source": [
    "model = Model()\n",
    "tasks = [model.add_task(name=idx) for idx in range(6)]\n",
    "machines = [model.add_machine(name=idx) for idx in range(2)]\n",
    "\n",
    "for task in tasks:\n",
    "    model.add_mode(task, machines[0], duration=1)\n",
    "    model.add_mode(task, machines[1], duration=3)"
   ]
  },
  {
   "cell_type": "code",
   "execution_count": null,
   "id": "ba02339b-dc85-4fa8-9ea5-5a2515f78f0d",
   "metadata": {},
   "outputs": [],
   "source": [
    "result = model.solve(display=False, stop_after_first_solution=True)\n",
    "print(result)"
   ]
  },
  {
   "cell_type": "markdown",
   "id": "52bfa48e",
   "metadata": {},
   "source": [
    "Let's double-check that the optimal solution is better:"
   ]
  },
  {
   "cell_type": "code",
   "execution_count": null,
   "id": "a5b01ac6",
   "metadata": {},
   "outputs": [],
   "source": [
    "result = model.solve(display=False)\n",
    "print(result)"
   ]
  },
  {
   "cell_type": "markdown",
   "id": "37aqt4qb3pw",
   "metadata": {},
   "source": [
    "## No-idle machines\n",
    "\n",
    "Sometimes machines must operate continuously without idle time between tasks. This constraint can be added to machines using the `no_idle=True` parameter. When enabled, tasks are scheduled back-to-back with no gaps (except for required setup times)."
   ]
  },
  {
   "cell_type": "code",
   "execution_count": null,
   "id": "ip96936h6",
   "metadata": {},
   "outputs": [],
   "source": [
    "model = Model()\n",
    "machine = model.add_machine(no_idle=True)\n",
    "\n",
    "task1 = model.add_task(earliest_start=5, name=\"Task1\")\n",
    "task2 = model.add_task(name=\"Task2\")\n",
    "\n",
    "model.add_mode(task1, machine, duration=1)\n",
    "model.add_mode(task2, machine, duration=2)\n",
    "\n",
    "result = model.solve(display=False)"
   ]
  },
  {
   "cell_type": "code",
   "execution_count": null,
   "id": "j619piecf4o",
   "metadata": {},
   "outputs": [],
   "source": [
    "data = model.data()\n",
    "plot_machine_gantt(result.best, data, plot_labels=True)"
   ]
  },
  {
   "cell_type": "markdown",
   "id": "z0aob8i8wzh",
   "metadata": {},
   "source": [
    "Since task 1 cannot start before time 5, the solver places task 2 at time 3-5 so the machine operates continuously without gaps."
   ]
  },
  {
   "cell_type": "markdown",
   "id": "2fva5ep5pho",
   "metadata": {},
   "source": [
    "Some notes:\n",
    "\n",
    "- No-idle machines cannot have breaks defined (`breaks` parameter cannot be used with `no_idle=True`)\n",
    "- This constraint is particularly useful for modeling continuous production processes where stopping and restarting the machine is costly\n",
    "- The no-idle constraint works with setup times - tasks are still scheduled back-to-back, but setup times are accounted for between tasks."
   ]
  },
  {
   "cell_type": "markdown",
   "id": "9785591c-de1d-4ca5-a7e4-b0bfef9dd1ce",
   "metadata": {},
   "source": []
  },
  {
   "cell_type": "markdown",
   "id": "k9twukwmguq",
   "metadata": {},
   "source": [
    "## Job shop with operator breaks\n",
    "\n",
    "In many job shops, machines require operator supervision during setup but can operate independently during processing. This example shows how to model such scenarios using synchronized tasks with operator breaks."
   ]
  },
  {
   "cell_type": "code",
   "execution_count": null,
   "id": "193bp61q58d",
   "metadata": {},
   "outputs": [],
   "source": [
    "model = Model()\n",
    "job = model.add_job()\n",
    "\n",
    "# Create the machine resource and the operator resource (with breaks).\n",
    "machine = model.add_machine(name=\"machine\")\n",
    "operator = model.add_machine(breaks=[(0, 8), (17, 24)], name=\"operator\")\n",
    "\n",
    "# The processing task is the one that will be processed by the machine.\n",
    "processing_task = model.add_task(job, name=\"processing\")\n",
    "duration = 15\n",
    "model.add_mode(processing_task, machine, duration=duration)\n",
    "\n",
    "# The setup task is the one that will be processed by the operator.\n",
    "setup_task = model.add_task(job, name=\"setup\")\n",
    "duration = 1\n",
    "model.add_mode(setup_task, operator, duration=duration)\n",
    "\n",
    "# The machine and operator task should start at the same time. This means\n",
    "# that we can only start the setup when an operator is available, but\n",
    "# the machine can continue processing without the operator. Note that\n",
    "# using the start-before-start constraint twice with reverse arguments\n",
    "# is the same as a start-at-start constraint.\n",
    "model.add_start_before_start(processing_task, setup_task)\n",
    "model.add_start_before_start(setup_task, processing_task)\n",
    "\n",
    "# The plot shows that the tasks can only start when the operator is available,\n",
    "# which is at time 8. The processing task starts at time 8 and ends at time 23,\n",
    "# not requiring the operator's attendance during processing.\n",
    "result = model.solve(display=False)\n",
    "plot_machine_gantt(result.best, model.data(), plot_labels=True)"
   ]
  },
  {
   "cell_type": "markdown",
   "id": "c28jnbvevm7",
   "metadata": {},
   "source": [
    "Key points in this example:\n",
    "\n",
    "- The operator has breaks from 0-8 and 17-24, so they're only available during working hours (8-17)\n",
    "- Both tasks must start simultaneously using bidirectional start-before-start constraints\n",
    "- The machine can continue processing after the operator finishes setup\n",
    "- The Gantt chart shows tasks starting at time 8 when the operator becomes available"
   ]
  }
 ],
 "metadata": {
  "kernelspec": {
   "display_name": "Python 3 (ipykernel)",
   "language": "python",
   "name": "python3"
  },
  "language_info": {
   "codemirror_mode": {
    "name": "ipython",
    "version": 3
   },
   "file_extension": ".py",
   "mimetype": "text/x-python",
   "name": "python",
   "nbconvert_exporter": "python",
   "pygments_lexer": "ipython3",
   "version": "3.11.12"
  }
 },
 "nbformat": 4,
 "nbformat_minor": 5
}
