{
 "cells": [
  {
   "cell_type": "markdown",
   "metadata": {},
   "source": [
    "# Resource-constrained project scheduling\n",
    "This example shows how to use PyJobshop to solve the resource-constrained project scheduling problem (RCPSP).\n",
    "\n",
    "In the (RCPSP), machines are no longer disjunctive resources that can only process one task at a time. Instead, resources have capacaities and they can process multiple tasks simultaneously, and each task has a demand on the resource. Once a resource has finished a task, the demand is freed up again, that is, the resources are renewable. Tasks have a fixed duration and may consume multiple resources. Each task has a set of predecessors and successors, which are the tasks that must be completed before and after the current task, respectively. The goal of the RCPSP is to finish all tasks at minimum makespan."
   ]
  },
  {
   "cell_type": "markdown",
   "metadata": {},
   "source": [
    "## Instances"
   ]
  },
  {
   "cell_type": "markdown",
   "metadata": {},
   "source": [
    "[PSPLIB](https://www.om-db.wi.tum.de/psplib/main.html) is a benchmark library for project scheduling problems. Below we define a class for parsing and storing an RCPSP instance from PSPLIB."
   ]
  },
  {
   "cell_type": "code",
   "execution_count": 2,
   "metadata": {},
   "outputs": [],
   "source": [
    "import re\n",
    "from dataclasses import dataclass\n",
    "\n",
    "\n",
    "@dataclass(frozen=True)\n",
    "class RCPSP:\n",
    "    \"\"\"\n",
    "    Problem data class for the RCPSP based on PSPLIB files.\n",
    "\n",
    "    Code taken from:\n",
    "    https://alns.readthedocs.io/en/latest/examples/resource_constrained_project_scheduling_problem.html\n",
    "    \"\"\"\n",
    "\n",
    "    num_jobs: int  # jobs in RCPSP are tasks in PyJobshop\n",
    "    num_resources: int\n",
    "    duration: list[int]\n",
    "    successors: list[list[int]]\n",
    "    predecessors: list[list[int]]\n",
    "    demands: list[list[int]]\n",
    "    capacities: list[int]\n",
    "\n",
    "    @classmethod\n",
    "    def read_instance(cls, path: str) -> \"RCPSP\":\n",
    "        \"\"\"\n",
    "        Reads an instance of the RCPSP from a file.\n",
    "        Assumes the data is in the PSPLIB format.\n",
    "        \"\"\"\n",
    "        with open(path) as fh:\n",
    "            lines = fh.readlines()\n",
    "\n",
    "        prec_idx = lines.index(\"PRECEDENCE RELATIONS:\\n\")\n",
    "        req_idx = lines.index(\"REQUESTS/DURATIONS:\\n\")\n",
    "        avail_idx = lines.index(\"RESOURCEAVAILABILITIES:\\n\")\n",
    "\n",
    "        successors = []\n",
    "\n",
    "        for line in lines[prec_idx + 2 : req_idx - 1]:\n",
    "            _, _, _, _, *jobs, _ = re.split(r\"\\s+\", line)\n",
    "            successors.append([int(x) - 1 for x in jobs])\n",
    "\n",
    "        predecessors: list[list[int]] = [[] for _ in range(len(successors))]\n",
    "\n",
    "        for job in range(len(successors)):\n",
    "            for succ in successors[job]:\n",
    "                predecessors[succ].append(job)\n",
    "\n",
    "        demands = []\n",
    "        durations = []\n",
    "\n",
    "        for line in lines[req_idx + 3 : avail_idx - 1]:\n",
    "            _, _, _, duration, *consumption, _ = re.split(r\"\\s+\", line)\n",
    "            demands.append(list(map(int, consumption)))\n",
    "            durations.append(int(duration))\n",
    "\n",
    "        _, *avail, _ = re.split(r\"\\s+\", lines[avail_idx + 2])\n",
    "        capacities = list(map(int, avail))\n",
    "\n",
    "        return RCPSP(\n",
    "            len(durations),\n",
    "            len(capacities),\n",
    "            durations,\n",
    "            successors,\n",
    "            predecessors,\n",
    "            demands,\n",
    "            capacities,\n",
    "        )"
   ]
  },
  {
   "cell_type": "markdown",
   "metadata": {},
   "source": [
    "## Solving"
   ]
  },
  {
   "cell_type": "markdown",
   "metadata": {},
   "source": [
    "Let's now create a Model class and define all problem data."
   ]
  },
  {
   "cell_type": "code",
   "execution_count": 24,
   "metadata": {},
   "outputs": [],
   "source": [
    "from pyjobshop import Model\n",
    "\n",
    "instance = RCPSP.read_instance(\"data/j9041_6.sm\")\n",
    "model = Model()\n",
    "\n",
    "# It's not necessary to define jobs, but it will add coloring to the plot.\n",
    "jobs = [model.add_job() for _ in range(instance.num_jobs)]\n",
    "tasks = [model.add_task(job=jobs[idx]) for idx in range(instance.num_jobs)]\n",
    "resources = [model.add_machine(capacity) for capacity in instance.capacities]"
   ]
  },
  {
   "cell_type": "markdown",
   "metadata": {},
   "source": [
    "Next we define the processing modes of each task. A processing mode is one option for how to process a task: this includes the resources required for the task, the processing duration of the mode, and the demands for each resource. Unlike classical machine scheduling problems, we can require multiple resources at the same time."
   ]
  },
  {
   "cell_type": "code",
   "execution_count": 25,
   "metadata": {},
   "outputs": [],
   "source": [
    "for idx in range(instance.num_jobs):\n",
    "    task = tasks[idx]\n",
    "    duration = instance.duration[idx]\n",
    "    demands = instance.demands[idx]\n",
    "    model.add_mode(task, resources, duration, demands)"
   ]
  },
  {
   "cell_type": "markdown",
   "metadata": {},
   "source": [
    "And finally we add the precedence constraints."
   ]
  },
  {
   "cell_type": "code",
   "execution_count": 26,
   "metadata": {},
   "outputs": [],
   "source": [
    "for idx in range(instance.num_jobs):\n",
    "    task = tasks[idx]\n",
    "\n",
    "    for pred in instance.predecessors[idx]:\n",
    "        model.add_end_before_start(tasks[pred], task)\n",
    "\n",
    "    for succ in instance.successors[idx]:\n",
    "        model.add_end_before_start(task, tasks[succ])"
   ]
  },
  {
   "cell_type": "code",
   "execution_count": 27,
   "metadata": {},
   "outputs": [
    {
     "data": {
      "text/plain": [
       "140.0"
      ]
     },
     "execution_count": 27,
     "metadata": {},
     "output_type": "execute_result"
    }
   ],
   "source": [
    "result = model.solve(time_limit=5, display=False)\n",
    "result.objective"
   ]
  },
  {
   "cell_type": "code",
   "execution_count": 28,
   "metadata": {},
   "outputs": [
    {
     "data": {
      "image/png": "[encoded data removed]",
      "text/plain": [
       "<Figure size 1200x800 with 1 Axes>"
      ]
     },
     "metadata": {},
     "output_type": "display_data"
    }
   ],
   "source": [
    "from pyjobshop import plot\n",
    "\n",
    "plot(model.data(), result.best)  # TODO fix plotting."
   ]
  }
 ],
 "metadata": {
  "kernelspec": {
   "display_name": ".venv",
   "language": "python",
   "name": "python3"
  },
  "language_info": {
   "codemirror_mode": {
    "name": "ipython",
    "version": 3
   },
   "file_extension": ".py",
   "mimetype": "text/x-python",
   "name": "python",
   "nbconvert_exporter": "python",
   "pygments_lexer": "ipython3",
   "version": "3.10.10"
  }
 },
 "nbformat": 4,
 "nbformat_minor": 2
}
