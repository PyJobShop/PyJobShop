{
 "cells": [
  {
   "cell_type": "markdown",
   "metadata": {},
   "source": [
    "# Objectives in PyJobShop\n",
    "[![Open In Colab](https://colab.research.google.com/assets/colab-badge.svg)](https://githubtocolab.com/PyJobShop/PyJobShop/blob/main/examples/objectives_examples.ipynb)\n",
    "\n",
    "> If you're using this notebook in Google Colab, be sure to install PyJobShop first by executing ```pip install pyjobshop``` in a cell."
   ]
  },
  {
   "cell_type": "markdown",
   "metadata": {},
   "source": [
    "This notebook provides an overview of the different objectives in PyJobShop via simple scheduling problems, specifically:\n",
    "\n",
    "- How to set different objective weights using PyJobShop's `Model` interface, \n",
    "- How to set the job weights with `Model`, \n",
    "- Giving an overview of the different objectives in PyJobShop,\n",
    "- How the objective value of a schedule is calculated in PyJobShop."
   ]
  },
  {
   "cell_type": "markdown",
   "metadata": {},
   "source": [
    "For illustration, let's add a single machine and some data to a PyJobShop `Model`. We add two jobs, each consisting of one task. The jobs' due dates differ. Furthermore, switching from the second task to the first task has a setup time of 10 time units. "
   ]
  },
  {
   "cell_type": "code",
   "execution_count": 1,
   "metadata": {
    "ExecuteTime": {
     "end_time": "2024-12-04T19:04:47.559191Z",
     "start_time": "2024-12-04T19:04:46.683328Z"
    }
   },
   "outputs": [],
   "source": [
    "from pyjobshop import Model\n",
    "\n",
    "model = Model()\n",
    "machine = model.add_machine()\n",
    "\n",
    "jobs = [\n",
    "    model.add_job(due_date=12),\n",
    "    model.add_job(due_date=1),\n",
    "]\n",
    "tasks = [model.add_task(job=job) for job in jobs]\n",
    "modes = [model.add_mode(task, machine, duration=1) for task in tasks]\n",
    "model.add_setup_time(machine, tasks[1], tasks[0], 10)"
   ]
  },
  {
   "cell_type": "markdown",
   "metadata": {},
   "source": [
    "Let's solve this model and inspect the results."
   ]
  },
  {
   "cell_type": "code",
   "execution_count": 2,
   "metadata": {
    "ExecuteTime": {
     "end_time": "2024-12-04T19:04:47.621871Z",
     "start_time": "2024-12-04T19:04:47.563186Z"
    }
   },
   "outputs": [
    {
     "name": "stdout",
     "output_type": "stream",
     "text": [
      "Solver status = SolveStatus.OPTIMAL\n",
      "Objective value = 2.0\n",
      "Task 0 start time = 0\n",
      "Task 1 start time = 1\n"
     ]
    }
   ],
   "source": [
    "result = model.solve(display=False)\n",
    "\n",
    "print(\"Solver status =\", result.status)\n",
    "print(\"Objective value =\", result.objective)\n",
    "\n",
    "for idx, task in enumerate(result.best.tasks):\n",
    "    print(f\"Task {idx} start time =\", task.start)"
   ]
  },
  {
   "cell_type": "markdown",
   "metadata": {},
   "source": [
    "By default, the makespan is minimized. The due dates are thus ignored. Consequently, it is best to avoid setup time and prioritize task one over task two. "
   ]
  },
  {
   "cell_type": "markdown",
   "metadata": {},
   "source": [
    "## Setting different objective weights"
   ]
  },
  {
   "cell_type": "markdown",
   "metadata": {},
   "source": [
    "\n",
    "Now, let's try to meet the due dates by setting the (weighted) total tardiness as an objective and solve it again.\n",
    "\n",
    "<div class=\"alert alert-warning\">\n",
    "\n",
    "**Warning:** Tardiness-based objective\n",
    "\n",
    "It is necessary that the `due_date` is specified for all jobs when using a tardiness-based objective. \n",
    "\n",
    "</div>"
   ]
  },
  {
   "cell_type": "code",
   "execution_count": 3,
   "metadata": {
    "ExecuteTime": {
     "end_time": "2024-12-04T19:04:47.653872Z",
     "start_time": "2024-12-04T19:04:47.624875Z"
    }
   },
   "outputs": [
    {
     "name": "stdout",
     "output_type": "stream",
     "text": [
      "Solver status = SolveStatus.OPTIMAL\n",
      "Objective value = 0.0\n",
      "Makespan = 12\n",
      "Task 0 start time = 11\n",
      "Task 1 start time = 0\n"
     ]
    }
   ],
   "source": [
    "model.set_objective(weight_total_tardiness=1)  # all other weights are 0\n",
    "result = model.solve(display=False)\n",
    "\n",
    "print(\"Solver status =\", result.status)\n",
    "print(\"Objective value =\", result.objective)\n",
    "print(\"Makespan =\", result.best.makespan)\n",
    "\n",
    "for idx, task in enumerate(result.best.tasks):\n",
    "    print(f\"Task {idx} start time =\", task.start)"
   ]
  },
  {
   "cell_type": "markdown",
   "metadata": {},
   "source": [
    "This time, the solver chooses to start with task two to meet its due date precisely. The setup time is taken for granted, as also the due date of task one is met. This leads to 0 tardiness, but a makespan of 12.\n",
    "\n",
    "<div class=\"alert alert-info\">\n",
    "\n",
    "**Info:** Difference between `deadline` and `due_date`\n",
    "\n",
    "The `deadline` of a job is strict, leading to infeasibility when it is not met. In contrast, a job's `due_date` is not strict and can be violated. Violation of a `due_date` is taken into account in tardiness-based objectives.\n",
    "\n",
    "</div>\n",
    "\n",
    "Suppose you are interested in minimizing the weighted sum of the makespan and the total tardiness. All other weights are zero. You can set both objectives with different weights, as shown next. "
   ]
  },
  {
   "cell_type": "code",
   "execution_count": 4,
   "metadata": {
    "ExecuteTime": {
     "end_time": "2024-12-04T19:04:47.684392Z",
     "start_time": "2024-12-04T19:04:47.655875Z"
    }
   },
   "outputs": [
    {
     "name": "stdout",
     "output_type": "stream",
     "text": [
      "Solver status = SolveStatus.OPTIMAL\n",
      "Objective value = 4.0\n",
      "Makespan = 2\n",
      "Task 0 start time = 0\n",
      "Task 1 start time = 1\n"
     ]
    }
   ],
   "source": [
    "model.set_objective(weight_makespan=1, weight_total_tardiness=2)\n",
    "result = model.solve(display=False)\n",
    "\n",
    "print(\"Solver status =\", result.status)\n",
    "print(\"Objective value =\", result.objective)\n",
    "print(\"Makespan =\", result.best.makespan)\n",
    "\n",
    "for idx, task in enumerate(result.best.tasks):\n",
    "    print(f\"Task {idx} start time =\", task.start)"
   ]
  },
  {
   "cell_type": "markdown",
   "metadata": {},
   "source": [
    "Here, the total tardiness is twice as important as the makespan. As a result, the solver starts with task one again, leading to an objective value of 1 * 2 + 2 * 1 = 4 (`weight_makespan * makespan + weight_total_tardiness * total_tardiness`).  "
   ]
  },
  {
   "cell_type": "markdown",
   "metadata": {},
   "source": [
    "## Different job weights"
   ]
  },
  {
   "cell_type": "markdown",
   "metadata": {},
   "source": [
    "In practice, jobs can have different priorities. For example, you would like to meet the due date of a new customer to show your best service. To differentiate between the importance of jobs, you can set job weights as shown in the following single machine example with two jobs. Job one is three times as important as job two in this example. "
   ]
  },
  {
   "cell_type": "code",
   "execution_count": 5,
   "metadata": {
    "ExecuteTime": {
     "end_time": "2024-12-04T19:04:47.699393Z",
     "start_time": "2024-12-04T19:04:47.687393Z"
    }
   },
   "outputs": [],
   "source": [
    "model = Model()\n",
    "\n",
    "machine = model.add_machine()\n",
    "\n",
    "jobs = [\n",
    "    model.add_job(weight=3, due_date=2),\n",
    "    model.add_job(weight=1, due_date=1),\n",
    "]\n",
    "tasks = [model.add_task(job=job) for job in jobs]\n",
    "modes = [\n",
    "    model.add_mode(tasks[0], machine, duration=2),\n",
    "    model.add_mode(tasks[1], machine, duration=1),\n",
    "]\n",
    "model.set_objective(weight_total_tardiness=1)"
   ]
  },
  {
   "cell_type": "markdown",
   "metadata": {},
   "source": [
    "When solving this model, the tardiness of job one counts three times as much as the tardiness of job two towards the weighted total tardiness. When the job weights were equal, it would be best to schedule job two first (giving a total tardiness of 1 from job one). However, because job one is three times as important, the solver chooses to start with job one, as shown in the following."
   ]
  },
  {
   "cell_type": "code",
   "execution_count": 6,
   "metadata": {
    "ExecuteTime": {
     "end_time": "2024-12-04T19:04:47.731392Z",
     "start_time": "2024-12-04T19:04:47.701402Z"
    }
   },
   "outputs": [
    {
     "name": "stdout",
     "output_type": "stream",
     "text": [
      "Solver status = SolveStatus.OPTIMAL\n",
      "Objective value = 2.0\n",
      "Task 0 start time = 0\n",
      "Task 0 tardiness = 0\n",
      "Task 1 start time = 2\n",
      "Task 1 tardiness = 2\n"
     ]
    }
   ],
   "source": [
    "result = model.solve(display=False)\n",
    "\n",
    "print(\"Solver status =\", result.status)\n",
    "print(\"Objective value =\", result.objective)\n",
    "\n",
    "for idx, task in enumerate(result.best.tasks):\n",
    "    tardiness = max(task.end - jobs[idx].due_date, 0)\n",
    "\n",
    "    print(f\"Task {idx} start time =\", task.start)\n",
    "    print(f\"Task {idx} tardiness =\", tardiness)"
   ]
  },
  {
   "cell_type": "markdown",
   "metadata": {},
   "source": [
    "## Other objectives in PyJobShop "
   ]
  },
  {
   "cell_type": "markdown",
   "metadata": {},
   "source": [
    "PyJobShop supports the minimization of the weighted sum of the following objectives:\n",
    "\n",
    "- **Makespan:** the finish time of the latest task.\n",
    "- **Number of tardy jobs:** the weighted sum of all tardy jobs, where a job is tardy when it does not meet its due date.\n",
    "- **Total flow time:** the weighted sum of the length of stay in the system of each job, from their release date to their completion.\n",
    "- **Total tardiness:** the weighted sum of the tardiness of each job, where the tardiness of a job is the difference between its completion time and its due date, where tardiness is 0 when it is completed before its due date.\n",
    "- **Total earliness:** the weighted sum of the earliness of each job, where the earliness of a job is the difference between its due date and its completion time, where earliness is 0 when its completion time is after its due date.\n",
    "- **Maximum tardiness:** the weighted maximum tardiness of all jobs.\n",
    "- **Maximum lateness:** the weighted maximum lateness of all jobs. The lateness of a job is the difference between its completion time and its due date (in contrast to tardiness, it can be smaller than 0).\n",
    "- **Total setup time:** the sum of all sequence-dependent setup times between consecutive tasks on each machine.\n",
    "\n",
    "The objective weights are captured in the `Objective` class; for more details, see its [API documentation](https://pyjobshop.org/stable/api/pyjobshop.html#pyjobshop.ProblemData.Objective)."
   ]
  },
  {
   "cell_type": "markdown",
   "metadata": {},
   "source": [
    "## General calculation of a schedule's objective value"
   ]
  },
  {
   "cell_type": "markdown",
   "metadata": {},
   "source": [
    "We now explain how the objective value is calculated in general. To that end, let $w_j$ denote the weight of job $j$ and let $w_{\\text{obj}}$ denote the weight of objective $\\text{obj}$ (see the previous section for an overview of all objectives). We denote the contribution of job $j$ to the objective $\\text{obj}$ in schedule $s$ as $\\text{contribution}(j, \\text{obj}, s)$. The value of the makespan of schedule $s$ is denoted by $\\text{makespan}(s)$ and the value of the total setup time of schedule $s$ is denoted by $\\text{TST}(s)$. The general objective value for schedule $s$ is calculated in PyJobShop as follows:\n",
    "\\begin{equation}\n",
    "\\text{objective}(s) = w_{\\text{makespan}} \\cdot \\text{makespan}(s) + w_{\\text{TST}} \\cdot \\text{TST}(s) + \\sum_{\\text{obj} \\neq \\text{makespan}, \\text{TST}} w_{\\text{obj}} \\cdot \\sum_{j} w_j \\cdot \\text{contribution}(j, \\text{obj}, s).\n",
    "\\end{equation}\n",
    "The following simple example of two jobs, with given weights, release date, and start and end times, shows how the objective components are calculated and combined in the different objective values. In particular, the following table shows the objective component values for the two jobs.\n",
    "\n",
    "| **Job** | **Weights** | **Release date** | **Start time** | **End time** | **Due date** | **Tardy? (1=yes, 0=no)** | **Flow time** | **Tardiness** | **Earliness** | **Lateness** |\n",
    "|:-------:|:-----------:|:----------------:|:--------------:|:------------:|:------------:|:------------------------:|:-------------:|:-------------:|:-------------:|:------------:|\n",
    "|    1    |      3      |         1        |        2       |       4      |       3      |             1            |       3       |       1       |       0       |       1      |\n",
    "|    2    |      1      |         0        |        0       |       2      |       4      |             0            |       2       |       0       |       2       |      -2      |\n",
    "\n",
    "Based on these objective component values, the following table shows the different objective values for the example.\n",
    "\n",
    "| **Objective**            | **Value** |\n",
    "|--------------------------|:---------:|\n",
    "| **Makespan**             |     4     |\n",
    "| **Number of tardy jobs** |     3     |\n",
    "| **Total flow time**      |     11    |\n",
    "| **Total tardiness**      |     3     |\n",
    "| **Total earliness**      |     2     |\n",
    "| **Maximum tardiness**    |     3     |\n",
    "| **Maximum lateness**     |     3     |\n",
    "| **Total setup time**     |     0     |"
   ]
  },
  {
   "cell_type": "markdown",
   "metadata": {},
   "source": [
    "## Conclusion"
   ]
  },
  {
   "cell_type": "markdown",
   "metadata": {},
   "source": [
    "This concludes the demonstration of the different objectives in PyJobShop. Using simple examples, we showed how to focus on different objectives and set their weights. Also, we showed how to set the weights of jobs to prioritize them. For more details about `Objective`, see the [API documentation](https://pyjobshop.org/stable/api/pyjobshop.html#pyjobshop.ProblemData.Objective)."
   ]
  }
 ],
 "metadata": {
  "kernelspec": {
   "display_name": "Python 3 (ipykernel)",
   "language": "python",
   "name": "python3"
  },
  "language_info": {
   "codemirror_mode": {
    "name": "ipython",
    "version": 3
   },
   "file_extension": ".py",
   "mimetype": "text/x-python",
   "name": "python",
   "nbconvert_exporter": "python",
   "pygments_lexer": "ipython3",
   "version": "3.10.10"
  }
 },
 "nbformat": 4,
 "nbformat_minor": 4
}
