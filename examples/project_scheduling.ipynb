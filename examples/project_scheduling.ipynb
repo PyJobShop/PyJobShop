{
 "cells": [
  {
   "cell_type": "markdown",
   "metadata": {},
   "source": [
    "# Project scheduling\n",
    "[![Open In Colab](https://colab.research.google.com/assets/colab-badge.svg)](https://githubtocolab.com/PyJobShop/PyJobShop/blob/main/examples/project_scheduling.ipynb)\n",
    "\n",
    "> If you're using this notebook in Google Colab, be sure to install PyJobShop first by executing ```pip install pyjobshop``` in a cell.\n",
    "\n",
    "This notebook shows how to use PyJobshop to solve project scheduling problems, including the resource-constrained project scheduling problem (RCPSP) and the multi-mode resource-constrained project scheduling problem (MMRCPSP)."
   ]
  },
  {
   "cell_type": "markdown",
   "metadata": {},
   "source": [
    "## Instances"
   ]
  },
  {
   "cell_type": "markdown",
   "metadata": {},
   "source": [
    "[PSPLIB](https://www.om-db.wi.tum.de/psplib/main.html) is a benchmark library for project scheduling problems. Below we define a class for parsing and storing an instance from PSPLIB."
   ]
  },
  {
   "cell_type": "code",
   "execution_count": null,
   "metadata": {},
   "outputs": [],
   "source": [
    "import re\n",
    "from dataclasses import dataclass\n",
    "from typing import NamedTuple\n",
    "\n",
    "\n",
    "class Mode(NamedTuple):\n",
    "    job: int\n",
    "    duration: int\n",
    "    demands: list[int]\n",
    "\n",
    "\n",
    "@dataclass(frozen=True)\n",
    "class Instance:\n",
    "    \"\"\"\n",
    "    Problem instance class based on PSPLIB files.\n",
    "\n",
    "    Code taken from:\n",
    "    https://alns.readthedocs.io/en/latest/examples/resource_constrained_project_scheduling_problem.html\n",
    "    \"\"\"\n",
    "\n",
    "    num_jobs: int  # jobs in RCPSP are tasks in PyJobshop\n",
    "    num_resources: int\n",
    "    successors: list[list[int]]\n",
    "    predecessors: list[list[int]]\n",
    "    modes: list[Mode]\n",
    "    capacities: list[int]\n",
    "    renewable: list[bool]\n",
    "\n",
    "    @classmethod\n",
    "    def read_instance(cls, path: str) -> \"Instance\":\n",
    "        \"\"\"\n",
    "        Reads an instance of the RCPSP from a file.\n",
    "        Assumes the data is in the PSPLIB format.\n",
    "        \"\"\"\n",
    "        with open(path) as fh:\n",
    "            lines = fh.readlines()\n",
    "\n",
    "        prec_idx = lines.index(\"PRECEDENCE RELATIONS:\\n\")\n",
    "        req_idx = lines.index(\"REQUESTS/DURATIONS:\\n\")\n",
    "        avail_idx = lines.index(\"RESOURCEAVAILABILITIES:\\n\")\n",
    "\n",
    "        successors = []\n",
    "\n",
    "        for line in lines[prec_idx + 2 : req_idx - 1]:\n",
    "            _, _, _, _, *jobs, _ = re.split(r\"\\s+\", line)\n",
    "            successors.append([int(x) - 1 for x in jobs])\n",
    "\n",
    "        predecessors: list[list[int]] = [[] for _ in range(len(successors))]\n",
    "        for job in range(len(successors)):\n",
    "            for succ in successors[job]:\n",
    "                predecessors[succ].append(job)\n",
    "\n",
    "        mode_data = [\n",
    "            re.split(r\"\\s+\", line.strip())\n",
    "            for line in lines[req_idx + 3 : avail_idx - 1]\n",
    "        ]\n",
    "\n",
    "        # Prepend the job index to mode data lines if it is missing.\n",
    "        for idx in range(len(mode_data)):\n",
    "            if idx == 0:\n",
    "                continue\n",
    "\n",
    "            prev = mode_data[idx - 1]\n",
    "            curr = mode_data[idx]\n",
    "\n",
    "            if len(curr) < len(prev):\n",
    "                curr = prev[:1] + curr\n",
    "                mode_data[idx] = curr\n",
    "\n",
    "        modes = []\n",
    "        for mode in mode_data:\n",
    "            job_idx, _, duration, *consumption = mode\n",
    "            demands = list(map(int, consumption))\n",
    "            modes.append(Mode(int(job_idx) - 1, int(duration), demands))\n",
    "\n",
    "        _, *avail, _ = re.split(r\"\\s+\", lines[avail_idx + 2])\n",
    "        capacities = list(map(int, avail))\n",
    "\n",
    "        renewable = [\n",
    "            x == \"R\"\n",
    "            for x in lines[avail_idx + 1].strip().split(\" \")\n",
    "            if x in [\"R\", \"N\"]  # R: renewable, N: non-renewable\n",
    "        ]\n",
    "\n",
    "        return Instance(\n",
    "            int(job_idx),\n",
    "            len(capacities),\n",
    "            successors,\n",
    "            predecessors,\n",
    "            modes,\n",
    "            capacities,\n",
    "            renewable,\n",
    "        )"
   ]
  },
  {
   "cell_type": "markdown",
   "metadata": {},
   "source": [
    "## Resource-constrained project scheduling"
   ]
  },
  {
   "cell_type": "markdown",
   "metadata": {},
   "source": [
    "In the RCPSP, resources are no longer disjunctive resources that can only process one task at a time. Instead, resources have capacities and they can process multiple tasks simultaneously, and each task has a demand on the resource. Once a resource has finished a task, the demand is freed up again, that is, the resources are renewable. Tasks have a fixed duration and may consume multiple resources. Each task has a set of predecessors and successors, which are the tasks that must be completed before and after the current task, respectively. The goal of the RCPSP is to finish all tasks at minimum makespan."
   ]
  },
  {
   "cell_type": "markdown",
   "metadata": {},
   "source": [
    "Let's now create a Model class and define all problem data."
   ]
  },
  {
   "cell_type": "code",
   "execution_count": null,
   "metadata": {},
   "outputs": [],
   "source": [
    "from pyjobshop import Model\n",
    "\n",
    "instance = Instance.read_instance(\"data/j9041_6.sm\")\n",
    "model = Model()\n",
    "\n",
    "# It's not necessary to define jobs, but it will add coloring to the plot.\n",
    "jobs = [model.add_job() for _ in range(instance.num_jobs)]\n",
    "tasks = [model.add_task(job=jobs[idx]) for idx in range(instance.num_jobs)]\n",
    "resources = [model.add_renewable(capacity) for capacity in instance.capacities]"
   ]
  },
  {
   "cell_type": "markdown",
   "metadata": {},
   "source": [
    "Next we define the processing modes of each task. A processing mode is one option for how to process a task: this includes the resources required for the task, the processing duration of the mode, and the demands for each resource. Unlike classical resource scheduling problems, we can require multiple resources at the same time."
   ]
  },
  {
   "cell_type": "code",
   "execution_count": null,
   "metadata": {},
   "outputs": [],
   "source": [
    "for idx, duration, demands in instance.modes:\n",
    "    model.add_mode(tasks[idx], resources, duration, demands)"
   ]
  },
  {
   "cell_type": "markdown",
   "metadata": {},
   "source": [
    "And finally we add the precedence constraints."
   ]
  },
  {
   "cell_type": "code",
   "execution_count": null,
   "metadata": {},
   "outputs": [],
   "source": [
    "for idx in range(instance.num_jobs):\n",
    "    task = tasks[idx]\n",
    "\n",
    "    for pred in instance.predecessors[idx]:\n",
    "        model.add_end_before_start(tasks[pred], task)\n",
    "\n",
    "    for succ in instance.successors[idx]:\n",
    "        model.add_end_before_start(task, tasks[succ])"
   ]
  },
  {
   "cell_type": "code",
   "execution_count": null,
   "metadata": {},
   "outputs": [],
   "source": [
    "result = model.solve(time_limit=5, display=False)\n",
    "print(result)"
   ]
  },
  {
   "cell_type": "code",
   "execution_count": null,
   "metadata": {},
   "outputs": [],
   "source": [
    "import matplotlib.pyplot as plt\n",
    "\n",
    "from pyjobshop.plot import plot_resource_usage, plot_task_gantt\n",
    "\n",
    "data = model.data()\n",
    "fig, axes = plt.subplots(\n",
    "    data.num_resources + 1,\n",
    "    figsize=(12, 16),\n",
    "    gridspec_kw={\"height_ratios\": [6] + [1] * data.num_resources},\n",
    ")\n",
    "\n",
    "plot_task_gantt(result.best, model.data(), ax=axes[0])\n",
    "plot_resource_usage(result.best, model.data(), axes=axes[1:])"
   ]
  },
  {
   "cell_type": "markdown",
   "metadata": {},
   "source": [
    "## Multi-mode resource-constrained project scheduling\n",
    "\n",
    "In the RCPSP, each task has a single way of processing. The MMRCPSP is a variant of the RCPSP that allows for multiple processing modes of tasks. The objective is to minimize the makespan subject to resource constraints."
   ]
  },
  {
   "cell_type": "code",
   "execution_count": null,
   "metadata": {},
   "outputs": [],
   "source": [
    "from pyjobshop import Model\n",
    "\n",
    "instance = Instance.read_instance(\"data/r54_9.mm\")\n",
    "model = Model()\n",
    "\n",
    "# It's not necessary to define jobs, but it will add coloring to the plot.\n",
    "jobs = [model.add_job() for _ in range(instance.num_jobs)]\n",
    "tasks = [model.add_task(job=jobs[idx]) for idx in range(instance.num_jobs)]\n",
    "resources = [\n",
    "    model.add_renewable(capacity=capacity)\n",
    "    if renewable\n",
    "    else model.add_non_renewable(capacity=capacity)\n",
    "    for capacity, renewable in zip(instance.capacities, instance.renewable)\n",
    "]"
   ]
  },
  {
   "cell_type": "code",
   "execution_count": null,
   "metadata": {},
   "outputs": [],
   "source": [
    "for idx, duration, demands in instance.modes:\n",
    "    model.add_mode(tasks[idx], resources, duration, demands)"
   ]
  },
  {
   "cell_type": "code",
   "execution_count": null,
   "metadata": {},
   "outputs": [],
   "source": [
    "for idx in range(instance.num_jobs):\n",
    "    task = tasks[idx]\n",
    "\n",
    "    for pred in instance.predecessors[idx]:\n",
    "        model.add_end_before_start(tasks[pred], task)\n",
    "\n",
    "    for succ in instance.successors[idx]:\n",
    "        model.add_end_before_start(task, tasks[succ])"
   ]
  },
  {
   "cell_type": "code",
   "execution_count": null,
   "metadata": {},
   "outputs": [],
   "source": [
    "result = model.solve(time_limit=5, display=False)\n",
    "print(result)"
   ]
  },
  {
   "cell_type": "code",
   "execution_count": null,
   "metadata": {},
   "outputs": [],
   "source": [
    "import matplotlib.pyplot as plt\n",
    "\n",
    "from pyjobshop.plot import plot_resource_usage, plot_task_gantt\n",
    "\n",
    "data = model.data()\n",
    "fig, axes = plt.subplots(\n",
    "    data.num_resources + 1,\n",
    "    figsize=(12, 16),\n",
    "    gridspec_kw={\"height_ratios\": [6] + [1] * data.num_resources},\n",
    ")\n",
    "\n",
    "plot_task_gantt(result.best, model.data(), ax=axes[0])\n",
    "plot_resource_usage(result.best, model.data(), axes=axes[1:])"
   ]
  }
 ],
 "metadata": {
  "kernelspec": {
   "display_name": ".venv",
   "language": "python",
   "name": "python3"
  },
  "language_info": {
   "codemirror_mode": {
    "name": "ipython",
    "version": 3
   },
   "file_extension": ".py",
   "mimetype": "text/x-python",
   "name": "python",
   "nbconvert_exporter": "python",
   "pygments_lexer": "ipython3",
   "version": "3.10.10"
  }
 },
 "nbformat": 4,
 "nbformat_minor": 4
}
