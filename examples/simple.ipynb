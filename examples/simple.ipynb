{
 "cells": [
  {
   "cell_type": "code",
   "execution_count": 11,
   "metadata": {},
   "outputs": [],
   "source": [
    "import random\n",
    "\n",
    "from pyjobshop import Model\n",
    "\n",
    "m = Model()\n",
    "jobs = [m.add_job() for _ in range(4)]\n",
    "machines = [m.add_machine() for _ in range(2)]\n",
    "\n",
    "for job in jobs:\n",
    "    operations = [m.add_operation(job=job) for _ in range(4)]\n",
    "\n",
    "    for op in operations:\n",
    "        for machine in machines:\n",
    "            duration = random.randint(1, 10)\n",
    "            m.add_processing_time(machine, op, duration)\n",
    "\n",
    "result = m.solve()"
   ]
  }
 ],
 "metadata": {
  "kernelspec": {
   "display_name": ".venv",
   "language": "python",
   "name": "python3"
  },
  "language_info": {
   "codemirror_mode": {
    "name": "ipython",
    "version": 3
   },
   "file_extension": ".py",
   "mimetype": "text/x-python",
   "name": "python",
   "nbconvert_exporter": "python",
   "pygments_lexer": "ipython3",
   "version": "3.10.10"
  }
 },
 "nbformat": 4,
 "nbformat_minor": 2
}
